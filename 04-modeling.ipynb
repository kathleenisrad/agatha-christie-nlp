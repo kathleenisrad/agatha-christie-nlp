{
 "cells": [
  {
   "cell_type": "markdown",
   "metadata": {},
   "source": [
    "### Import things"
   ]
  },
  {
   "cell_type": "code",
   "execution_count": 1,
   "metadata": {},
   "outputs": [],
   "source": [
    "import pandas as pd\n",
    "import matplotlib.pyplot as plt\n",
    "\n",
    "from sklearn.model_selection import train_test_split, GridSearchCV\n",
    "from sklearn.preprocessing import StandardScaler\n",
    "from sklearn.linear_model import LogisticRegression, LinearRegression, RidgeCV, LassoCV\n",
    "from sklearn.dummy import DummyRegressor\n",
    "from sklearn.ensemble import RandomForestRegressor, GradientBoostingRegressor"
   ]
  },
  {
   "cell_type": "code",
   "execution_count": 2,
   "metadata": {},
   "outputs": [],
   "source": [
    "df = pd.read_csv('./CSVs/all_clean.csv')"
   ]
  },
  {
   "cell_type": "code",
   "execution_count": 3,
   "metadata": {},
   "outputs": [],
   "source": [
    "#drop passenger to frankfurt, and put it in a different df\n",
    "frankfurt = df[df['book_title'].str.lower() == 'passenger to frankfurt'].reset_index(drop=True)\n",
    "df = df[df['book_title'].str.lower() != 'passenger to frankfurt'].reset_index(drop=True)"
   ]
  },
  {
   "cell_type": "markdown",
   "metadata": {},
   "source": [
    "### Drop the features that aren't normalized"
   ]
  },
  {
   "cell_type": "code",
   "execution_count": 4,
   "metadata": {},
   "outputs": [],
   "source": [
    "frankfurt['decade_written'] = frankfurt['year_written'].map(lambda x: str(x)[:3] + '0')"
   ]
  },
  {
   "cell_type": "code",
   "execution_count": 5,
   "metadata": {},
   "outputs": [
    {
     "data": {
      "text/plain": [
       "Index(['book_title', 'book_text', 'copyright', 'year_written',\n",
       "       'sentence_count', 'word_count', 'syllable_count', 'flesch_reading_ease',\n",
       "       'avg_words_per_sentence', 'avg_syllables_per_word', 'stemmed_text',\n",
       "       'unique_word_count', 'unique_words_%', 'total_adj_count',\n",
       "       'total_noun_count', 'adj_word_list', 'noun_word_list',\n",
       "       'unique_adj_count', 'unique_noun_count', 'something', 'thing',\n",
       "       'anything', 'repeated_trigrams', 'total_pos_sentences',\n",
       "       'total_neu_sentences', 'total_neg_sentences', '%_pos_sentences',\n",
       "       '%_neu_sentences', '%_neg_sentences', '%_repeated_trigrams',\n",
       "       '%_unique_adj', '%_unique_noun', '%_adj_in_text', '%_noun_in_text',\n",
       "       '%_something_in_text', '%_thing_in_text', '%_anything_in_text',\n",
       "       'stemmed_removed_stopwords', 'only_stopwords', 'stopwords_count',\n",
       "       '%_stop_words', 'stuff_count', '%_marchbolt', 'lot_count', 'very_count',\n",
       "       '%_stuff', '%_lot', '%_very'],\n",
       "      dtype='object')"
      ]
     },
     "execution_count": 5,
     "metadata": {},
     "output_type": "execute_result"
    }
   ],
   "source": [
    "df.columns"
   ]
  },
  {
   "cell_type": "code",
   "execution_count": 6,
   "metadata": {},
   "outputs": [],
   "source": [
    "#drop the columns that are just counts (not normalized):\n",
    "to_drop = ['book_title', 'book_text', 'copyright','sentence_count', \n",
    "           'word_count', 'syllable_count', 'stemmed_text',\n",
    "           'unique_word_count','total_adj_count',\n",
    "           'total_noun_count', 'adj_word_list', 'noun_word_list',\n",
    "           'unique_adj_count', 'unique_noun_count', 'something', 'thing',\n",
    "           'anything', 'repeated_trigrams', 'total_pos_sentences',\n",
    "           'total_neu_sentences', 'total_neg_sentences','stemmed_removed_stopwords', \n",
    "           'only_stopwords', 'stopwords_count', 'stuff_count', \n",
    "           '%_marchbolt', 'lot_count', 'very_count']\n",
    "\n",
    "train = df.drop(to_drop, axis=1)\n",
    "train['decade_written'] = train['year_written'].map(lambda x: int(str(x)[:3] + '0'))\n",
    "frankfurt = frankfurt.drop(to_drop, axis=1)"
   ]
  },
  {
   "cell_type": "code",
   "execution_count": 7,
   "metadata": {},
   "outputs": [],
   "source": [
    "train.to_csv('./CSVs/train.csv')"
   ]
  },
  {
   "cell_type": "code",
   "execution_count": 8,
   "metadata": {},
   "outputs": [
    {
     "data": {
      "text/plain": [
       "Index(['year_written', 'flesch_reading_ease', 'avg_words_per_sentence',\n",
       "       'avg_syllables_per_word', 'unique_words_%', '%_pos_sentences',\n",
       "       '%_neu_sentences', '%_neg_sentences', '%_repeated_trigrams',\n",
       "       '%_unique_adj', '%_unique_noun', '%_adj_in_text', '%_noun_in_text',\n",
       "       '%_something_in_text', '%_thing_in_text', '%_anything_in_text',\n",
       "       '%_stop_words', '%_stuff', '%_lot', '%_very', 'decade_written'],\n",
       "      dtype='object')"
      ]
     },
     "execution_count": 8,
     "metadata": {},
     "output_type": "execute_result"
    }
   ],
   "source": [
    "train.columns"
   ]
  },
  {
   "cell_type": "markdown",
   "metadata": {},
   "source": [
    "### Make X and y and scale the data"
   ]
  },
  {
   "cell_type": "code",
   "execution_count": 9,
   "metadata": {},
   "outputs": [],
   "source": [
    "X = train.drop(['year_written', 'decade_written'], axis=1)\n",
    "y = train['decade_written']"
   ]
  },
  {
   "cell_type": "code",
   "execution_count": 10,
   "metadata": {},
   "outputs": [],
   "source": [
    "#need to stratify because classes are uneven\n",
    "X_train, X_test,y_train, y_test = train_test_split(X, y, stratify=y, random_state = 60)"
   ]
  },
  {
   "cell_type": "code",
   "execution_count": 11,
   "metadata": {},
   "outputs": [],
   "source": [
    "sc = StandardScaler()"
   ]
  },
  {
   "cell_type": "code",
   "execution_count": 12,
   "metadata": {},
   "outputs": [],
   "source": [
    "X_train_scaled = sc.fit_transform(X_train)\n",
    "X_test_scaled = sc.transform(X_test)"
   ]
  },
  {
   "cell_type": "markdown",
   "metadata": {},
   "source": [
    "### Baseline\n",
    "The dummy regressor always predicts the mean, which is 1941"
   ]
  },
  {
   "cell_type": "code",
   "execution_count": 13,
   "metadata": {},
   "outputs": [
    {
     "data": {
      "text/plain": [
       "1941.063829787234"
      ]
     },
     "execution_count": 13,
     "metadata": {},
     "output_type": "execute_result"
    }
   ],
   "source": [
    "y_train.astype(int).mean()"
   ]
  },
  {
   "cell_type": "code",
   "execution_count": 14,
   "metadata": {},
   "outputs": [
    {
     "data": {
      "text/plain": [
       "DummyRegressor()"
      ]
     },
     "execution_count": 14,
     "metadata": {},
     "output_type": "execute_result"
    }
   ],
   "source": [
    "dummy = DummyRegressor(strategy='mean')\n",
    "dummy.fit(X_train_scaled, y_train)"
   ]
  },
  {
   "cell_type": "code",
   "execution_count": 15,
   "metadata": {},
   "outputs": [
    {
     "name": "stdout",
     "output_type": "stream",
     "text": [
      "Baseline:\n",
      "Train Score: 0.0 \n",
      "Test Score: -0.00017466128187137997\n"
     ]
    }
   ],
   "source": [
    "print('Baseline:''\\nTrain Score:', dummy.score(X_train_scaled, y_train),'\\nTest Score:', dummy.score(X_test_scaled, y_test))"
   ]
  },
  {
   "cell_type": "markdown",
   "metadata": {},
   "source": [
    "### Trying different models"
   ]
  },
  {
   "cell_type": "code",
   "execution_count": 16,
   "metadata": {
    "scrolled": true
   },
   "outputs": [
    {
     "name": "stdout",
     "output_type": "stream",
     "text": [
      "Model: Logistic Regression\n",
      "Train Score: 1.0 \n",
      "Test Score: 0.1875\n"
     ]
    }
   ],
   "source": [
    "logreg = LogisticRegression()\n",
    "logreg.fit(X_train_scaled, y_train)\n",
    "print('Model: Logistic Regression''\\nTrain Score:', logreg.score(X_train_scaled, y_train),'\\nTest Score:', logreg.score(X_test_scaled, y_test))"
   ]
  },
  {
   "cell_type": "code",
   "execution_count": 17,
   "metadata": {},
   "outputs": [
    {
     "name": "stdout",
     "output_type": "stream",
     "text": [
      "Model: Linear Regression\n",
      "Train Score: 0.8849913309649478 \n",
      "Test Score: 0.6766163331829248\n"
     ]
    }
   ],
   "source": [
    "linear = LinearRegression()\n",
    "linear.fit(X_train_scaled, y_train)\n",
    "print('Model: Linear Regression''\\nTrain Score:', linear.score(X_train_scaled, y_train),'\\nTest Score:', linear.score(X_test_scaled, y_test))"
   ]
  },
  {
   "cell_type": "code",
   "execution_count": 18,
   "metadata": {},
   "outputs": [
    {
     "name": "stdout",
     "output_type": "stream",
     "text": [
      "Model: Lasso Regression \n",
      "Train Score: 0.8430301033955295 \n",
      "Test Score: 0.7025826641956279\n"
     ]
    }
   ],
   "source": [
    "lasso = LassoCV()\n",
    "lasso.fit(X_train_scaled, y_train)\n",
    "print('Model: Lasso Regression', '\\nTrain Score:', lasso.score(X_train_scaled, y_train),'\\nTest Score:', lasso.score(X_test_scaled, y_test))"
   ]
  },
  {
   "cell_type": "code",
   "execution_count": 19,
   "metadata": {},
   "outputs": [
    {
     "name": "stdout",
     "output_type": "stream",
     "text": [
      "Model: Ridge Regression\n",
      "Train Score: 0.8741075597430329 \n",
      "Test Score: 0.7075773773621976\n"
     ]
    }
   ],
   "source": [
    "ridge = RidgeCV()\n",
    "ridge.fit(X_train_scaled, y_train)\n",
    "print('Model: Ridge Regression''\\nTrain Score:', ridge.score(X_train_scaled, y_train),'\\nTest Score:', ridge.score(X_test_scaled, y_test))"
   ]
  },
  {
   "cell_type": "code",
   "execution_count": 20,
   "metadata": {},
   "outputs": [
    {
     "name": "stdout",
     "output_type": "stream",
     "text": [
      "Model: Random Forest Regression\n",
      "Train Score: 0.9368749764816553 \n",
      "Test Score: 0.4774330708661454\n"
     ]
    }
   ],
   "source": [
    "forest = RandomForestRegressor()\n",
    "forest.fit(X_train_scaled, y_train)\n",
    "print('Model: Random Forest Regression''\\nTrain Score:', forest.score(X_train_scaled, y_train),'\\nTest Score:', forest.score(X_test_scaled, y_test))"
   ]
  }
 ],
 "metadata": {
  "kernelspec": {
   "display_name": "Python 3",
   "language": "python",
   "name": "python3"
  },
  "language_info": {
   "codemirror_mode": {
    "name": "ipython",
    "version": 3
   },
   "file_extension": ".py",
   "mimetype": "text/x-python",
   "name": "python",
   "nbconvert_exporter": "python",
   "pygments_lexer": "ipython3",
   "version": "3.8.5"
  }
 },
 "nbformat": 4,
 "nbformat_minor": 4
}
