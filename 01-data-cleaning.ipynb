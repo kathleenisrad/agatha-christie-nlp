{
 "cells": [
  {
   "cell_type": "markdown",
   "metadata": {},
   "source": [
    "# Cleaning the data\n",
    "\n",
    "In this notebook, I compile all the text from all the books into one dataframe, then do some cleaning and add some columns."
   ]
  },
  {
   "cell_type": "markdown",
   "metadata": {},
   "source": [
    "### Import things"
   ]
  },
  {
   "cell_type": "code",
   "execution_count": 1,
   "metadata": {},
   "outputs": [],
   "source": [
    "import os\n",
    "import string\n",
    "import pandas as pd"
   ]
  },
  {
   "cell_type": "code",
   "execution_count": 2,
   "metadata": {},
   "outputs": [],
   "source": [
    "try:\n",
    "    os.mkdir('./CSVs')\n",
    "except:\n",
    "    pass"
   ]
  },
  {
   "cell_type": "code",
   "execution_count": 3,
   "metadata": {},
   "outputs": [
    {
     "data": {
      "text/plain": [
       "['450 From Paddington - Agatha Christie.txt',\n",
       " 'A Caribbean Mystery_ A Miss Mar - Agatha Christie.txt',\n",
       " 'A Murder Is Announced_ A Miss M - Agatha Christie.txt',\n",
       " 'A Pocket Full of Rye - Agatha Christie.txt',\n",
       " 'After the Funeral_ A Hercule Po - Agatha Christie.txt']"
      ]
     },
     "execution_count": 3,
     "metadata": {},
     "output_type": "execute_result"
    }
   ],
   "source": [
    "#look at the names of some of the files in the txt folder\n",
    "txt_path = './TXT'\n",
    "books = os.listdir(txt_path)\n",
    "books[0:5]"
   ]
  },
  {
   "cell_type": "markdown",
   "metadata": {},
   "source": [
    "### Concatenating all the text from all the books:"
   ]
  },
  {
   "cell_type": "code",
   "execution_count": 4,
   "metadata": {},
   "outputs": [
    {
     "data": {
      "text/html": [
       "<div>\n",
       "<style scoped>\n",
       "    .dataframe tbody tr th:only-of-type {\n",
       "        vertical-align: middle;\n",
       "    }\n",
       "\n",
       "    .dataframe tbody tr th {\n",
       "        vertical-align: top;\n",
       "    }\n",
       "\n",
       "    .dataframe thead th {\n",
       "        text-align: right;\n",
       "    }\n",
       "</style>\n",
       "<table border=\"1\" class=\"dataframe\">\n",
       "  <thead>\n",
       "    <tr style=\"text-align: right;\">\n",
       "      <th></th>\n",
       "      <th>title</th>\n",
       "      <th>text</th>\n",
       "    </tr>\n",
       "  </thead>\n",
       "  <tbody>\n",
       "    <tr>\n",
       "      <th>0</th>\n",
       "      <td>450 From Paddington</td>\n",
       "      <td>Agatha Christie4:50 from PaddingtonA Miss Marp...</td>\n",
       "    </tr>\n",
       "    <tr>\n",
       "      <th>1</th>\n",
       "      <td>A Caribbean Mystery</td>\n",
       "      <td>Agatha ChristieA Caribbean MysteryA Miss Marpl...</td>\n",
       "    </tr>\n",
       "    <tr>\n",
       "      <th>2</th>\n",
       "      <td>A Murder Is Announced</td>\n",
       "      <td>Agatha ChristieA Murder Is AnnouncedA Miss Mar...</td>\n",
       "    </tr>\n",
       "    <tr>\n",
       "      <th>3</th>\n",
       "      <td>A Pocket Full of Rye</td>\n",
       "      <td>A Pocket Full of RyeA Miss Marple MysteryAgath...</td>\n",
       "    </tr>\n",
       "    <tr>\n",
       "      <th>4</th>\n",
       "      <td>After the Funeral</td>\n",
       "      <td>Agatha ChristieAfter the FuneralA Hercule Poir...</td>\n",
       "    </tr>\n",
       "  </tbody>\n",
       "</table>\n",
       "</div>"
      ],
      "text/plain": [
       "                   title                                               text\n",
       "0    450 From Paddington  Agatha Christie4:50 from PaddingtonA Miss Marp...\n",
       "1    A Caribbean Mystery  Agatha ChristieA Caribbean MysteryA Miss Marpl...\n",
       "2  A Murder Is Announced  Agatha ChristieA Murder Is AnnouncedA Miss Mar...\n",
       "3   A Pocket Full of Rye  A Pocket Full of RyeA Miss Marple MysteryAgath...\n",
       "4      After the Funeral  Agatha ChristieAfter the FuneralA Hercule Poir..."
      ]
     },
     "execution_count": 4,
     "metadata": {},
     "output_type": "execute_result"
    }
   ],
   "source": [
    "books_list = []\n",
    "for file in books:  \n",
    "    d={}\n",
    "    book = os.path.join('./TXT', file)\n",
    "    text = pd.read_csv(book, sep='\\n', header=None)[0].str.cat()\n",
    "    d['title'] = file[:-22].split('_')[0]\n",
    "    d['text'] = text\n",
    "    books_list.append(d)\n",
    "df = pd.DataFrame(books_list)\n",
    "df.head()"
   ]
  },
  {
   "cell_type": "code",
   "execution_count": 5,
   "metadata": {},
   "outputs": [],
   "source": [
    "#save the df for later in case things go awry\n",
    "df.to_csv('./CSVs/books.csv', index=False)"
   ]
  },
  {
   "cell_type": "code",
   "execution_count": 6,
   "metadata": {},
   "outputs": [],
   "source": [
    "#reload the df\n",
    "df = pd.read_csv('./CSVs/books.csv')"
   ]
  },
  {
   "cell_type": "markdown",
   "metadata": {},
   "source": [
    "### Extracting the copyright dates for the book:"
   ]
  },
  {
   "cell_type": "code",
   "execution_count": 7,
   "metadata": {},
   "outputs": [],
   "source": [
    "copyright_list = []\n",
    "for i in range(len(df['text'])):\n",
    "    for word in range(len(df['text'][i])):\n",
    "        d = {}\n",
    "        if df['text'][i][word] == '©':\n",
    "            d['title'] = df['title'][i] \n",
    "            d['copyright'] = df['text'][i][word: word + 14]\n",
    "            copyright_list.append(d)"
   ]
  },
  {
   "cell_type": "code",
   "execution_count": 8,
   "metadata": {},
   "outputs": [
    {
     "data": {
      "text/html": [
       "<div>\n",
       "<style scoped>\n",
       "    .dataframe tbody tr th:only-of-type {\n",
       "        vertical-align: middle;\n",
       "    }\n",
       "\n",
       "    .dataframe tbody tr th {\n",
       "        vertical-align: top;\n",
       "    }\n",
       "\n",
       "    .dataframe thead th {\n",
       "        text-align: right;\n",
       "    }\n",
       "</style>\n",
       "<table border=\"1\" class=\"dataframe\">\n",
       "  <thead>\n",
       "    <tr style=\"text-align: right;\">\n",
       "      <th></th>\n",
       "      <th>title</th>\n",
       "      <th>copyright</th>\n",
       "    </tr>\n",
       "  </thead>\n",
       "  <tbody>\n",
       "    <tr>\n",
       "      <th>0</th>\n",
       "      <td>450 From Paddington</td>\n",
       "      <td>© 2011 Agatha</td>\n",
       "    </tr>\n",
       "    <tr>\n",
       "      <th>1</th>\n",
       "      <td>450 From Paddington</td>\n",
       "      <td>© 1957. Publis</td>\n",
       "    </tr>\n",
       "    <tr>\n",
       "      <th>2</th>\n",
       "      <td>450 From Paddington</td>\n",
       "      <td>© MAY 2011 ISB</td>\n",
       "    </tr>\n",
       "    <tr>\n",
       "      <th>3</th>\n",
       "      <td>A Caribbean Mystery</td>\n",
       "      <td>© 2011 Agatha</td>\n",
       "    </tr>\n",
       "    <tr>\n",
       "      <th>4</th>\n",
       "      <td>A Caribbean Mystery</td>\n",
       "      <td>© 1965. Publis</td>\n",
       "    </tr>\n",
       "    <tr>\n",
       "      <th>5</th>\n",
       "      <td>A Caribbean Mystery</td>\n",
       "      <td>© MAY 2011 ISB</td>\n",
       "    </tr>\n",
       "    <tr>\n",
       "      <th>6</th>\n",
       "      <td>A Murder Is Announced</td>\n",
       "      <td>© 2011 Agatha</td>\n",
       "    </tr>\n",
       "    <tr>\n",
       "      <th>7</th>\n",
       "      <td>A Murder Is Announced</td>\n",
       "      <td>© 1950. Publis</td>\n",
       "    </tr>\n",
       "    <tr>\n",
       "      <th>8</th>\n",
       "      <td>A Murder Is Announced</td>\n",
       "      <td>© MAY 2011 ISB</td>\n",
       "    </tr>\n",
       "  </tbody>\n",
       "</table>\n",
       "</div>"
      ],
      "text/plain": [
       "                   title       copyright\n",
       "0    450 From Paddington  © 2011 Agatha \n",
       "1    450 From Paddington  © 1957. Publis\n",
       "2    450 From Paddington  © MAY 2011 ISB\n",
       "3    A Caribbean Mystery  © 2011 Agatha \n",
       "4    A Caribbean Mystery  © 1965. Publis\n",
       "5    A Caribbean Mystery  © MAY 2011 ISB\n",
       "6  A Murder Is Announced  © 2011 Agatha \n",
       "7  A Murder Is Announced  © 1950. Publis\n",
       "8  A Murder Is Announced  © MAY 2011 ISB"
      ]
     },
     "execution_count": 8,
     "metadata": {},
     "output_type": "execute_result"
    }
   ],
   "source": [
    "copyright_df = pd.DataFrame(copyright_list)\n",
    "copyright_df.head(9)"
   ]
  },
  {
   "cell_type": "markdown",
   "metadata": {},
   "source": [
    "#### It looks like each book has 3 copy right dates. I only want the original copyright date\n",
    "I assume the original copyright date is the earliest year"
   ]
  },
  {
   "cell_type": "code",
   "execution_count": 9,
   "metadata": {},
   "outputs": [],
   "source": [
    "copyright_df['year'] = copyright_df['copyright'].map(lambda x: ''.join([y for y in list(x) if y in '0123456789']))"
   ]
  },
  {
   "cell_type": "code",
   "execution_count": 10,
   "metadata": {},
   "outputs": [],
   "source": [
    "#drop blank years\n",
    "copyright_df = copyright_df[copyright_df['year'] != '']"
   ]
  },
  {
   "cell_type": "code",
   "execution_count": 11,
   "metadata": {},
   "outputs": [],
   "source": [
    "#convert year strings into integers\n",
    "copyright_df['year'] = copyright_df['year'].astype(int)"
   ]
  },
  {
   "cell_type": "code",
   "execution_count": 12,
   "metadata": {},
   "outputs": [],
   "source": [
    "#Her last book was published in 1976 so I'll filter out all years after that\n",
    "#Also I'll reset the index here\n",
    "copyright_df = copyright_df[copyright_df['year'] <= 1976].reset_index(drop=True)"
   ]
  },
  {
   "cell_type": "code",
   "execution_count": 13,
   "metadata": {},
   "outputs": [],
   "source": [
    "#also get rid of any years that are like, 201:\n",
    "copyright_df = copyright_df[copyright_df['year'] > 1000]"
   ]
  },
  {
   "cell_type": "code",
   "execution_count": 14,
   "metadata": {},
   "outputs": [
    {
     "data": {
      "text/html": [
       "<div>\n",
       "<style scoped>\n",
       "    .dataframe tbody tr th:only-of-type {\n",
       "        vertical-align: middle;\n",
       "    }\n",
       "\n",
       "    .dataframe tbody tr th {\n",
       "        vertical-align: top;\n",
       "    }\n",
       "\n",
       "    .dataframe thead th {\n",
       "        text-align: right;\n",
       "    }\n",
       "</style>\n",
       "<table border=\"1\" class=\"dataframe\">\n",
       "  <thead>\n",
       "    <tr style=\"text-align: right;\">\n",
       "      <th></th>\n",
       "      <th>title</th>\n",
       "      <th>copyright</th>\n",
       "      <th>year</th>\n",
       "    </tr>\n",
       "  </thead>\n",
       "  <tbody>\n",
       "    <tr>\n",
       "      <th>0</th>\n",
       "      <td>450 From Paddington</td>\n",
       "      <td>© 1957. Publis</td>\n",
       "      <td>1957</td>\n",
       "    </tr>\n",
       "    <tr>\n",
       "      <th>1</th>\n",
       "      <td>A Caribbean Mystery</td>\n",
       "      <td>© 1965. Publis</td>\n",
       "      <td>1965</td>\n",
       "    </tr>\n",
       "    <tr>\n",
       "      <th>2</th>\n",
       "      <td>A Murder Is Announced</td>\n",
       "      <td>© 1950. Publis</td>\n",
       "      <td>1950</td>\n",
       "    </tr>\n",
       "    <tr>\n",
       "      <th>3</th>\n",
       "      <td>A Pocket Full of Rye</td>\n",
       "      <td>© 1954. Publis</td>\n",
       "      <td>1954</td>\n",
       "    </tr>\n",
       "    <tr>\n",
       "      <th>4</th>\n",
       "      <td>After the Funeral</td>\n",
       "      <td>© 1953 Agatha</td>\n",
       "      <td>1953</td>\n",
       "    </tr>\n",
       "    <tr>\n",
       "      <th>5</th>\n",
       "      <td>After the Funeral</td>\n",
       "      <td>© 1953. Publis</td>\n",
       "      <td>1953</td>\n",
       "    </tr>\n",
       "    <tr>\n",
       "      <th>6</th>\n",
       "      <td>Appointment With Death</td>\n",
       "      <td>© 1938 Agatha</td>\n",
       "      <td>1938</td>\n",
       "    </tr>\n",
       "    <tr>\n",
       "      <th>7</th>\n",
       "      <td>At Bertram's Hotel</td>\n",
       "      <td>© 1966. Publis</td>\n",
       "      <td>1966</td>\n",
       "    </tr>\n",
       "    <tr>\n",
       "      <th>8</th>\n",
       "      <td>By the Pricking of My Thumbs</td>\n",
       "      <td>© 1968 Agatha</td>\n",
       "      <td>1968</td>\n",
       "    </tr>\n",
       "    <tr>\n",
       "      <th>9</th>\n",
       "      <td>By the Pricking of My Thumbs</td>\n",
       "      <td>© 1968. Publis</td>\n",
       "      <td>1968</td>\n",
       "    </tr>\n",
       "    <tr>\n",
       "      <th>10</th>\n",
       "      <td>Cards on the Table</td>\n",
       "      <td>© 1936 Agatha</td>\n",
       "      <td>1936</td>\n",
       "    </tr>\n",
       "    <tr>\n",
       "      <th>11</th>\n",
       "      <td>Cards on the Table</td>\n",
       "      <td>© 1937. Publis</td>\n",
       "      <td>1937</td>\n",
       "    </tr>\n",
       "    <tr>\n",
       "      <th>12</th>\n",
       "      <td>Cat Among the Pigeons</td>\n",
       "      <td>© 1959 Agatha</td>\n",
       "      <td>1959</td>\n",
       "    </tr>\n",
       "    <tr>\n",
       "      <th>13</th>\n",
       "      <td>Cat Among the Pigeons</td>\n",
       "      <td>© 1960. Publis</td>\n",
       "      <td>1960</td>\n",
       "    </tr>\n",
       "    <tr>\n",
       "      <th>14</th>\n",
       "      <td>Crooked House</td>\n",
       "      <td>© 1949. Publis</td>\n",
       "      <td>1949</td>\n",
       "    </tr>\n",
       "    <tr>\n",
       "      <th>15</th>\n",
       "      <td>Curtain</td>\n",
       "      <td>© 1975 Agatha</td>\n",
       "      <td>1975</td>\n",
       "    </tr>\n",
       "    <tr>\n",
       "      <th>16</th>\n",
       "      <td>Curtain</td>\n",
       "      <td>© 1975. Publis</td>\n",
       "      <td>1975</td>\n",
       "    </tr>\n",
       "    <tr>\n",
       "      <th>18</th>\n",
       "      <td>Dead Man's Folly</td>\n",
       "      <td>© 1956 Agatha</td>\n",
       "      <td>1956</td>\n",
       "    </tr>\n",
       "    <tr>\n",
       "      <th>19</th>\n",
       "      <td>Dead Man's Folly</td>\n",
       "      <td>© 1956. Publis</td>\n",
       "      <td>1956</td>\n",
       "    </tr>\n",
       "    <tr>\n",
       "      <th>21</th>\n",
       "      <td>Death Comes as the End</td>\n",
       "      <td>© 1944. Publis</td>\n",
       "      <td>1944</td>\n",
       "    </tr>\n",
       "  </tbody>\n",
       "</table>\n",
       "</div>"
      ],
      "text/plain": [
       "                           title       copyright  year\n",
       "0            450 From Paddington  © 1957. Publis  1957\n",
       "1            A Caribbean Mystery  © 1965. Publis  1965\n",
       "2          A Murder Is Announced  © 1950. Publis  1950\n",
       "3           A Pocket Full of Rye  © 1954. Publis  1954\n",
       "4              After the Funeral  © 1953 Agatha   1953\n",
       "5              After the Funeral  © 1953. Publis  1953\n",
       "6         Appointment With Death  © 1938 Agatha   1938\n",
       "7             At Bertram's Hotel  © 1966. Publis  1966\n",
       "8   By the Pricking of My Thumbs  © 1968 Agatha   1968\n",
       "9   By the Pricking of My Thumbs  © 1968. Publis  1968\n",
       "10            Cards on the Table  © 1936 Agatha   1936\n",
       "11            Cards on the Table  © 1937. Publis  1937\n",
       "12         Cat Among the Pigeons  © 1959 Agatha   1959\n",
       "13         Cat Among the Pigeons  © 1960. Publis  1960\n",
       "14                 Crooked House  © 1949. Publis  1949\n",
       "15                       Curtain  © 1975 Agatha   1975\n",
       "16                       Curtain  © 1975. Publis  1975\n",
       "18              Dead Man's Folly  © 1956 Agatha   1956\n",
       "19              Dead Man's Folly  © 1956. Publis  1956\n",
       "21        Death Comes as the End  © 1944. Publis  1944"
      ]
     },
     "execution_count": 14,
     "metadata": {},
     "output_type": "execute_result"
    }
   ],
   "source": [
    "#sort by name, then sort by year\n",
    "copyright_df = copyright_df.sort_values(['title', 'year'], ascending = [True, True])\n",
    "copyright_df.head(20)"
   ]
  },
  {
   "cell_type": "code",
   "execution_count": 15,
   "metadata": {},
   "outputs": [
    {
     "data": {
      "text/plain": [
       "82"
      ]
     },
     "execution_count": 15,
     "metadata": {},
     "output_type": "execute_result"
    }
   ],
   "source": [
    "copyright_df = copyright_df.drop_duplicates(subset='title', keep='first').reset_index()\n",
    "len(copyright_df)"
   ]
  },
  {
   "cell_type": "code",
   "execution_count": 16,
   "metadata": {},
   "outputs": [
    {
     "data": {
      "text/plain": [
       "94"
      ]
     },
     "execution_count": 16,
     "metadata": {},
     "output_type": "execute_result"
    }
   ],
   "source": [
    "len(df)"
   ]
  },
  {
   "cell_type": "code",
   "execution_count": 17,
   "metadata": {
    "scrolled": true
   },
   "outputs": [],
   "source": [
    "df = pd.merge(df, copyright_df, left_on='title', right_on = 'title', how='outer')"
   ]
  },
  {
   "cell_type": "code",
   "execution_count": 18,
   "metadata": {},
   "outputs": [],
   "source": [
    "df = df.drop(['copyright','index'], axis=1)"
   ]
  },
  {
   "cell_type": "markdown",
   "metadata": {},
   "source": [
    "### Look through the books that had been dropped\n",
    "Research what these books are/when they were published and decide whether or not to keep them"
   ]
  },
  {
   "cell_type": "code",
   "execution_count": 19,
   "metadata": {},
   "outputs": [
    {
     "data": {
      "text/html": [
       "<div>\n",
       "<style scoped>\n",
       "    .dataframe tbody tr th:only-of-type {\n",
       "        vertical-align: middle;\n",
       "    }\n",
       "\n",
       "    .dataframe tbody tr th {\n",
       "        vertical-align: top;\n",
       "    }\n",
       "\n",
       "    .dataframe thead th {\n",
       "        text-align: right;\n",
       "    }\n",
       "</style>\n",
       "<table border=\"1\" class=\"dataframe\">\n",
       "  <thead>\n",
       "    <tr style=\"text-align: right;\">\n",
       "      <th></th>\n",
       "      <th>title</th>\n",
       "      <th>text</th>\n",
       "      <th>year</th>\n",
       "    </tr>\n",
       "  </thead>\n",
       "  <tbody>\n",
       "    <tr>\n",
       "      <th>5</th>\n",
       "      <td>An Autobiography</td>\n",
       "      <td>Agatha ChristieAn AutobiographyContentsCoverPr...</td>\n",
       "      <td>NaN</td>\n",
       "    </tr>\n",
       "    <tr>\n",
       "      <th>6</th>\n",
       "      <td>And Then There Were None</td>\n",
       "      <td>Agatha ChristieAnd Then There Were NoneDedicat...</td>\n",
       "      <td>NaN</td>\n",
       "    </tr>\n",
       "    <tr>\n",
       "      <th>9</th>\n",
       "      <td>Black Coffee</td>\n",
       "      <td>Agatha ChristieBlack Coffeeadapted as a novel ...</td>\n",
       "      <td>NaN</td>\n",
       "    </tr>\n",
       "    <tr>\n",
       "      <th>27</th>\n",
       "      <td>Hercule Poirot and the Greensho</td>\n",
       "      <td>ContentsForewordHercule Poirot and the Greensh...</td>\n",
       "      <td>NaN</td>\n",
       "    </tr>\n",
       "    <tr>\n",
       "      <th>28</th>\n",
       "      <td>Hercule Poirot's Casebook</td>\n",
       "      <td>HERCULE POIROT'S CASEBOOKAgatha Christie is kn...</td>\n",
       "      <td>NaN</td>\n",
       "    </tr>\n",
       "    <tr>\n",
       "      <th>33</th>\n",
       "      <td>Miss Marple's Final Cases</td>\n",
       "      <td>Miss Marple’s Final CasesContentsAbout Agatha ...</td>\n",
       "      <td>NaN</td>\n",
       "    </tr>\n",
       "    <tr>\n",
       "      <th>34</th>\n",
       "      <td>Miss Marple</td>\n",
       "      <td>ContentsAuthor’s ForewordFrom The Thirteen Pro...</td>\n",
       "      <td>NaN</td>\n",
       "    </tr>\n",
       "    <tr>\n",
       "      <th>55</th>\n",
       "      <td>Spider's Web</td>\n",
       "      <td>Agatha ChristieSpider’s WebNovelised by Charle...</td>\n",
       "      <td>NaN</td>\n",
       "    </tr>\n",
       "    <tr>\n",
       "      <th>63</th>\n",
       "      <td>The Harlequin Tea Set and Other</td>\n",
       "      <td>The HarlequinTea Set andOther StoriesContentsC...</td>\n",
       "      <td>NaN</td>\n",
       "    </tr>\n",
       "    <tr>\n",
       "      <th>69</th>\n",
       "      <td>The Mirror Crack'd From Side to</td>\n",
       "      <td>Agatha ChristieThe Mirror Crack’d from Side to...</td>\n",
       "      <td>NaN</td>\n",
       "    </tr>\n",
       "    <tr>\n",
       "      <th>84</th>\n",
       "      <td>The Unexpected Guest</td>\n",
       "      <td>Agatha ChristieThe Unexpected GuestNovelised b...</td>\n",
       "      <td>NaN</td>\n",
       "    </tr>\n",
       "    <tr>\n",
       "      <th>92</th>\n",
       "      <td>While the Light Lasts</td>\n",
       "      <td>ContentsWhile the Light LastsAbout the AuthorT...</td>\n",
       "      <td>NaN</td>\n",
       "    </tr>\n",
       "  </tbody>\n",
       "</table>\n",
       "</div>"
      ],
      "text/plain": [
       "                              title  \\\n",
       "5                  An Autobiography   \n",
       "6          And Then There Were None   \n",
       "9                      Black Coffee   \n",
       "27  Hercule Poirot and the Greensho   \n",
       "28        Hercule Poirot's Casebook   \n",
       "33        Miss Marple's Final Cases   \n",
       "34                      Miss Marple   \n",
       "55                     Spider's Web   \n",
       "63  The Harlequin Tea Set and Other   \n",
       "69  The Mirror Crack'd From Side to   \n",
       "84             The Unexpected Guest   \n",
       "92            While the Light Lasts   \n",
       "\n",
       "                                                 text  year  \n",
       "5   Agatha ChristieAn AutobiographyContentsCoverPr...   NaN  \n",
       "6   Agatha ChristieAnd Then There Were NoneDedicat...   NaN  \n",
       "9   Agatha ChristieBlack Coffeeadapted as a novel ...   NaN  \n",
       "27  ContentsForewordHercule Poirot and the Greensh...   NaN  \n",
       "28  HERCULE POIROT'S CASEBOOKAgatha Christie is kn...   NaN  \n",
       "33  Miss Marple’s Final CasesContentsAbout Agatha ...   NaN  \n",
       "34  ContentsAuthor’s ForewordFrom The Thirteen Pro...   NaN  \n",
       "55  Agatha ChristieSpider’s WebNovelised by Charle...   NaN  \n",
       "63  The HarlequinTea Set andOther StoriesContentsC...   NaN  \n",
       "69  Agatha ChristieThe Mirror Crack’d from Side to...   NaN  \n",
       "84  Agatha ChristieThe Unexpected GuestNovelised b...   NaN  \n",
       "92  ContentsWhile the Light LastsAbout the AuthorT...   NaN  "
      ]
     },
     "execution_count": 19,
     "metadata": {},
     "output_type": "execute_result"
    }
   ],
   "source": [
    "#looks like I accidentally deleted some books while looking for the right year\n",
    "df[df['year'].isnull()]"
   ]
  },
  {
   "cell_type": "code",
   "execution_count": 20,
   "metadata": {},
   "outputs": [],
   "source": [
    "missing = df[df['year'].isnull()]['title'].tolist()"
   ]
  },
  {
   "cell_type": "markdown",
   "metadata": {},
   "source": [
    "### Remake the copyright df ):"
   ]
  },
  {
   "cell_type": "code",
   "execution_count": 21,
   "metadata": {},
   "outputs": [],
   "source": [
    "c_df = pd.DataFrame(copyright_list)\n",
    "c_df['missing'] = c_df['title'].map(lambda x: x if x in missing else \"\")\n",
    "c_df = c_df[c_df['missing'] != '']"
   ]
  },
  {
   "cell_type": "code",
   "execution_count": 22,
   "metadata": {},
   "outputs": [],
   "source": [
    "c_df['year'] = c_df['copyright'].map(lambda x: ''.join([y for y in list(x) if y in '0123456789']))"
   ]
  },
  {
   "cell_type": "code",
   "execution_count": 23,
   "metadata": {},
   "outputs": [
    {
     "data": {
      "text/html": [
       "<div>\n",
       "<style scoped>\n",
       "    .dataframe tbody tr th:only-of-type {\n",
       "        vertical-align: middle;\n",
       "    }\n",
       "\n",
       "    .dataframe tbody tr th {\n",
       "        vertical-align: top;\n",
       "    }\n",
       "\n",
       "    .dataframe thead th {\n",
       "        text-align: right;\n",
       "    }\n",
       "</style>\n",
       "<table border=\"1\" class=\"dataframe\">\n",
       "  <thead>\n",
       "    <tr style=\"text-align: right;\">\n",
       "      <th></th>\n",
       "      <th>title</th>\n",
       "      <th>copyright</th>\n",
       "      <th>missing</th>\n",
       "      <th>year</th>\n",
       "    </tr>\n",
       "  </thead>\n",
       "  <tbody>\n",
       "    <tr>\n",
       "      <th>15</th>\n",
       "      <td>An Autobiography</td>\n",
       "      <td>© 1977 Agatha</td>\n",
       "      <td>An Autobiography</td>\n",
       "      <td>1977</td>\n",
       "    </tr>\n",
       "    <tr>\n",
       "      <th>16</th>\n",
       "      <td>An Autobiography</td>\n",
       "      <td>© March 2010 I</td>\n",
       "      <td>An Autobiography</td>\n",
       "      <td>2010</td>\n",
       "    </tr>\n",
       "    <tr>\n",
       "      <th>17</th>\n",
       "      <td>And Then There Were None</td>\n",
       "      <td>© 2009 Agatha</td>\n",
       "      <td>And Then There Were None</td>\n",
       "      <td>2009</td>\n",
       "    </tr>\n",
       "    <tr>\n",
       "      <th>18</th>\n",
       "      <td>And Then There Were None</td>\n",
       "      <td>© 2009. Publis</td>\n",
       "      <td>And Then There Were None</td>\n",
       "      <td>2009</td>\n",
       "    </tr>\n",
       "    <tr>\n",
       "      <th>19</th>\n",
       "      <td>And Then There Were None</td>\n",
       "      <td>© MAY 2011 ISB</td>\n",
       "      <td>And Then There Were None</td>\n",
       "      <td>2011</td>\n",
       "    </tr>\n",
       "    <tr>\n",
       "      <th>26</th>\n",
       "      <td>Black Coffee</td>\n",
       "      <td>© 1982, 1999 b</td>\n",
       "      <td>Black Coffee</td>\n",
       "      <td>19821999</td>\n",
       "    </tr>\n",
       "    <tr>\n",
       "      <th>25</th>\n",
       "      <td>Black Coffee</td>\n",
       "      <td>© 1997 Agatha</td>\n",
       "      <td>Black Coffee</td>\n",
       "      <td>1997</td>\n",
       "    </tr>\n",
       "    <tr>\n",
       "      <th>27</th>\n",
       "      <td>Black Coffee</td>\n",
       "      <td>© 2010 ISBN: 9</td>\n",
       "      <td>Black Coffee</td>\n",
       "      <td>20109</td>\n",
       "    </tr>\n",
       "    <tr>\n",
       "      <th>78</th>\n",
       "      <td>Hercule Poirot and the Greensho</td>\n",
       "      <td>© Mathew Prich</td>\n",
       "      <td>Hercule Poirot and the Greensho</td>\n",
       "      <td></td>\n",
       "    </tr>\n",
       "    <tr>\n",
       "      <th>79</th>\n",
       "      <td>Hercule Poirot and the Greensho</td>\n",
       "      <td>© John Curran</td>\n",
       "      <td>Hercule Poirot and the Greensho</td>\n",
       "      <td></td>\n",
       "    </tr>\n",
       "    <tr>\n",
       "      <th>80</th>\n",
       "      <td>Hercule Poirot and the Greensho</td>\n",
       "      <td>© November 201</td>\n",
       "      <td>Hercule Poirot and the Greensho</td>\n",
       "      <td>201</td>\n",
       "    </tr>\n",
       "    <tr>\n",
       "      <th>81</th>\n",
       "      <td>Hercule Poirot's Casebook</td>\n",
       "      <td>© Agatha Chris</td>\n",
       "      <td>Hercule Poirot's Casebook</td>\n",
       "      <td></td>\n",
       "    </tr>\n",
       "    <tr>\n",
       "      <th>104</th>\n",
       "      <td>Miss Marple</td>\n",
       "      <td>© Christie Arc</td>\n",
       "      <td>Miss Marple</td>\n",
       "      <td></td>\n",
       "    </tr>\n",
       "    <tr>\n",
       "      <th>105</th>\n",
       "      <td>Miss Marple</td>\n",
       "      <td>© Christie Arc</td>\n",
       "      <td>Miss Marple</td>\n",
       "      <td></td>\n",
       "    </tr>\n",
       "    <tr>\n",
       "      <th>106</th>\n",
       "      <td>Miss Marple</td>\n",
       "      <td>© 2011 Agatha</td>\n",
       "      <td>Miss Marple</td>\n",
       "      <td>2011</td>\n",
       "    </tr>\n",
       "    <tr>\n",
       "      <th>107</th>\n",
       "      <td>Miss Marple</td>\n",
       "      <td>© 2011. Publis</td>\n",
       "      <td>Miss Marple</td>\n",
       "      <td>2011</td>\n",
       "    </tr>\n",
       "    <tr>\n",
       "      <th>103</th>\n",
       "      <td>Miss Marple's Final Cases</td>\n",
       "      <td>© Agatha Chris</td>\n",
       "      <td>Miss Marple's Final Cases</td>\n",
       "      <td></td>\n",
       "    </tr>\n",
       "    <tr>\n",
       "      <th>101</th>\n",
       "      <td>Miss Marple's Final Cases</td>\n",
       "      <td>© 1979 Agatha</td>\n",
       "      <td>Miss Marple's Final Cases</td>\n",
       "      <td>1979</td>\n",
       "    </tr>\n",
       "    <tr>\n",
       "      <th>102</th>\n",
       "      <td>Miss Marple's Final Cases</td>\n",
       "      <td>© 1982, 1999 b</td>\n",
       "      <td>Miss Marple's Final Cases</td>\n",
       "      <td>19821999</td>\n",
       "    </tr>\n",
       "    <tr>\n",
       "      <th>166</th>\n",
       "      <td>Spider's Web</td>\n",
       "      <td>© HarperCollin</td>\n",
       "      <td>Spider's Web</td>\n",
       "      <td></td>\n",
       "    </tr>\n",
       "    <tr>\n",
       "      <th>167</th>\n",
       "      <td>Spider's Web</td>\n",
       "      <td>© 2000 Agatha</td>\n",
       "      <td>Spider's Web</td>\n",
       "      <td>2000</td>\n",
       "    </tr>\n",
       "    <tr>\n",
       "      <th>168</th>\n",
       "      <td>Spider's Web</td>\n",
       "      <td>© January 2010</td>\n",
       "      <td>Spider's Web</td>\n",
       "      <td>2010</td>\n",
       "    </tr>\n",
       "    <tr>\n",
       "      <th>190</th>\n",
       "      <td>The Harlequin Tea Set and Other</td>\n",
       "      <td>© 1997 Agatha</td>\n",
       "      <td>The Harlequin Tea Set and Other</td>\n",
       "      <td>1997</td>\n",
       "    </tr>\n",
       "    <tr>\n",
       "      <th>191</th>\n",
       "      <td>The Harlequin Tea Set and Other</td>\n",
       "      <td>© 1997. Publis</td>\n",
       "      <td>The Harlequin Tea Set and Other</td>\n",
       "      <td>1997</td>\n",
       "    </tr>\n",
       "    <tr>\n",
       "      <th>192</th>\n",
       "      <td>The Harlequin Tea Set and Other</td>\n",
       "      <td>© AUGUST 2012</td>\n",
       "      <td>The Harlequin Tea Set and Other</td>\n",
       "      <td>2012</td>\n",
       "    </tr>\n",
       "    <tr>\n",
       "      <th>204</th>\n",
       "      <td>The Mirror Crack'd From Side to</td>\n",
       "      <td>© 2011 Agatha</td>\n",
       "      <td>The Mirror Crack'd From Side to</td>\n",
       "      <td>2011</td>\n",
       "    </tr>\n",
       "    <tr>\n",
       "      <th>205</th>\n",
       "      <td>The Mirror Crack'd From Side to</td>\n",
       "      <td>© 2011 Agatha</td>\n",
       "      <td>The Mirror Crack'd From Side to</td>\n",
       "      <td>2011</td>\n",
       "    </tr>\n",
       "    <tr>\n",
       "      <th>206</th>\n",
       "      <td>The Mirror Crack'd From Side to</td>\n",
       "      <td>© MAY 2011 ISB</td>\n",
       "      <td>The Mirror Crack'd From Side to</td>\n",
       "      <td>2011</td>\n",
       "    </tr>\n",
       "    <tr>\n",
       "      <th>251</th>\n",
       "      <td>The Unexpected Guest</td>\n",
       "      <td>© 1999 Agatha</td>\n",
       "      <td>The Unexpected Guest</td>\n",
       "      <td>1999</td>\n",
       "    </tr>\n",
       "    <tr>\n",
       "      <th>252</th>\n",
       "      <td>The Unexpected Guest</td>\n",
       "      <td>© January 2010</td>\n",
       "      <td>The Unexpected Guest</td>\n",
       "      <td>2010</td>\n",
       "    </tr>\n",
       "    <tr>\n",
       "      <th>274</th>\n",
       "      <td>While the Light Lasts</td>\n",
       "      <td>© 1997 Agatha</td>\n",
       "      <td>While the Light Lasts</td>\n",
       "      <td>1997</td>\n",
       "    </tr>\n",
       "  </tbody>\n",
       "</table>\n",
       "</div>"
      ],
      "text/plain": [
       "                               title       copyright  \\\n",
       "15                  An Autobiography  © 1977 Agatha    \n",
       "16                  An Autobiography  © March 2010 I   \n",
       "17          And Then There Were None  © 2009 Agatha    \n",
       "18          And Then There Were None  © 2009. Publis   \n",
       "19          And Then There Were None  © MAY 2011 ISB   \n",
       "26                      Black Coffee  © 1982, 1999 b   \n",
       "25                      Black Coffee  © 1997 Agatha    \n",
       "27                      Black Coffee  © 2010 ISBN: 9   \n",
       "78   Hercule Poirot and the Greensho  © Mathew Prich   \n",
       "79   Hercule Poirot and the Greensho  © John Curran    \n",
       "80   Hercule Poirot and the Greensho  © November 201   \n",
       "81         Hercule Poirot's Casebook  © Agatha Chris   \n",
       "104                      Miss Marple  © Christie Arc   \n",
       "105                      Miss Marple  © Christie Arc   \n",
       "106                      Miss Marple  © 2011 Agatha    \n",
       "107                      Miss Marple  © 2011. Publis   \n",
       "103        Miss Marple's Final Cases  © Agatha Chris   \n",
       "101        Miss Marple's Final Cases  © 1979 Agatha    \n",
       "102        Miss Marple's Final Cases  © 1982, 1999 b   \n",
       "166                     Spider's Web  © HarperCollin   \n",
       "167                     Spider's Web  © 2000 Agatha    \n",
       "168                     Spider's Web  © January 2010   \n",
       "190  The Harlequin Tea Set and Other  © 1997 Agatha    \n",
       "191  The Harlequin Tea Set and Other  © 1997. Publis   \n",
       "192  The Harlequin Tea Set and Other  © AUGUST 2012    \n",
       "204  The Mirror Crack'd From Side to  © 2011 Agatha    \n",
       "205  The Mirror Crack'd From Side to  © 2011 Agatha    \n",
       "206  The Mirror Crack'd From Side to  © MAY 2011 ISB   \n",
       "251             The Unexpected Guest  © 1999 Agatha    \n",
       "252             The Unexpected Guest  © January 2010   \n",
       "274            While the Light Lasts  © 1997 Agatha    \n",
       "\n",
       "                             missing      year  \n",
       "15                  An Autobiography      1977  \n",
       "16                  An Autobiography      2010  \n",
       "17          And Then There Were None      2009  \n",
       "18          And Then There Were None      2009  \n",
       "19          And Then There Were None      2011  \n",
       "26                      Black Coffee  19821999  \n",
       "25                      Black Coffee      1997  \n",
       "27                      Black Coffee     20109  \n",
       "78   Hercule Poirot and the Greensho            \n",
       "79   Hercule Poirot and the Greensho            \n",
       "80   Hercule Poirot and the Greensho       201  \n",
       "81         Hercule Poirot's Casebook            \n",
       "104                      Miss Marple            \n",
       "105                      Miss Marple            \n",
       "106                      Miss Marple      2011  \n",
       "107                      Miss Marple      2011  \n",
       "103        Miss Marple's Final Cases            \n",
       "101        Miss Marple's Final Cases      1979  \n",
       "102        Miss Marple's Final Cases  19821999  \n",
       "166                     Spider's Web            \n",
       "167                     Spider's Web      2000  \n",
       "168                     Spider's Web      2010  \n",
       "190  The Harlequin Tea Set and Other      1997  \n",
       "191  The Harlequin Tea Set and Other      1997  \n",
       "192  The Harlequin Tea Set and Other      2012  \n",
       "204  The Mirror Crack'd From Side to      2011  \n",
       "205  The Mirror Crack'd From Side to      2011  \n",
       "206  The Mirror Crack'd From Side to      2011  \n",
       "251             The Unexpected Guest      1999  \n",
       "252             The Unexpected Guest      2010  \n",
       "274            While the Light Lasts      1997  "
      ]
     },
     "execution_count": 23,
     "metadata": {},
     "output_type": "execute_result"
    }
   ],
   "source": [
    "#this is the dataframe with the missing books\n",
    "c_df = c_df.sort_values(['title', 'year'], ascending = [True, True])\n",
    "c_df"
   ]
  },
  {
   "cell_type": "code",
   "execution_count": 24,
   "metadata": {
    "scrolled": true
   },
   "outputs": [
    {
     "data": {
      "text/plain": [
       "['450 From Paddington',\n",
       " 'A Caribbean Mystery',\n",
       " 'A Murder Is Announced',\n",
       " 'A Pocket Full of Rye',\n",
       " 'After the Funeral',\n",
       " 'An Autobiography',\n",
       " 'And Then There Were None',\n",
       " 'Appointment With Death',\n",
       " \"At Bertram's Hotel\",\n",
       " 'Black Coffee',\n",
       " 'By the Pricking of My Thumbs',\n",
       " 'Cards on the Table',\n",
       " 'Cat Among the Pigeons',\n",
       " 'Crooked House',\n",
       " 'Curtain',\n",
       " \"Dead Man's Folly\",\n",
       " 'Death Comes as the End',\n",
       " 'Death in the Clouds',\n",
       " 'Death on the Nile',\n",
       " 'Destination Unknown',\n",
       " 'Double Sin and Other Stories',\n",
       " 'Dumb Witness',\n",
       " 'Elephants Can Remember',\n",
       " 'Endless Night',\n",
       " 'Evil Under the Sun',\n",
       " 'Five Little Pigs',\n",
       " \"Hallowe'en Party\",\n",
       " 'Hercule Poirot and the Greensho',\n",
       " \"Hercule Poirot's Casebook\",\n",
       " \"Hercule Poirot's Christmas\",\n",
       " 'Hercule Poirot',\n",
       " 'Hickory Dickory Dock',\n",
       " 'Lord Edgware Dies',\n",
       " \"Miss Marple's Final Cases\",\n",
       " 'Miss Marple',\n",
       " \"Mrs. McGinty's Dead\",\n",
       " 'Murder in Mesopotamia',\n",
       " 'Murder in the Mews',\n",
       " 'Murder Is Easy',\n",
       " 'Murder on the Orient Express',\n",
       " 'N or M',\n",
       " 'Nemesis',\n",
       " 'One, Two, Buckle My Shoe',\n",
       " 'Ordeal by Innocence',\n",
       " 'Parker Pyne Investigates',\n",
       " 'Partners in Crime',\n",
       " 'Passenger to Frankfurt',\n",
       " 'Peril at End House',\n",
       " 'Poirot Investigates',\n",
       " \"Poirot's Early Cases\",\n",
       " 'Postern of Fate',\n",
       " 'Problem at Pollensa Bay',\n",
       " 'Sad Cypress',\n",
       " 'Sleeping Murder',\n",
       " 'Sparkling Cyanide',\n",
       " \"Spider's Web\",\n",
       " 'Taken at the Flood',\n",
       " 'The A.B.C. Murders',\n",
       " 'The Adventure of the Christmas',\n",
       " 'The Big Four',\n",
       " 'The Body in the Library',\n",
       " 'The Clocks',\n",
       " 'The Golden Ball and Other Stori',\n",
       " 'The Harlequin Tea Set and Other',\n",
       " 'The Hollow',\n",
       " 'The Hound of Death',\n",
       " 'The Labours of Hercules',\n",
       " 'The Listerdale Mystery',\n",
       " 'The Man in the Brown Suit',\n",
       " \"The Mirror Crack'd From Side to\",\n",
       " 'The Moving Finger',\n",
       " 'The Murder at the Vicarage',\n",
       " 'The Murder on the Links',\n",
       " 'The Mysterious Affair at Styles',\n",
       " 'The Mysterious Mr. Quin',\n",
       " 'The Mystery of the Blue Train',\n",
       " 'The Pale Horse',\n",
       " 'The Regatta Mystery and Other S',\n",
       " 'The Secret Adversary',\n",
       " 'The Secret of Chimneys',\n",
       " 'The Seven Dials Mystery',\n",
       " 'The Sittaford Mystery',\n",
       " 'The Thirteen Problems',\n",
       " 'The Under Dog and Other Stories',\n",
       " 'The Unexpected Guest',\n",
       " 'The Witness for the Prosecution',\n",
       " 'They Came to Baghdad',\n",
       " 'They Do It With Mirrors',\n",
       " 'Third Girl',\n",
       " 'Three Act Tragedy',\n",
       " 'Three Blind Mice and Other Stor',\n",
       " 'Towards Zero',\n",
       " 'While the Light Lasts',\n",
       " \"Why Didn't They Ask Evans\"]"
      ]
     },
     "execution_count": 24,
     "metadata": {},
     "output_type": "execute_result"
    }
   ],
   "source": [
    "df['title'].tolist()"
   ]
  },
  {
   "cell_type": "code",
   "execution_count": 25,
   "metadata": {},
   "outputs": [
    {
     "data": {
      "text/html": [
       "<div>\n",
       "<style scoped>\n",
       "    .dataframe tbody tr th:only-of-type {\n",
       "        vertical-align: middle;\n",
       "    }\n",
       "\n",
       "    .dataframe tbody tr th {\n",
       "        vertical-align: top;\n",
       "    }\n",
       "\n",
       "    .dataframe thead th {\n",
       "        text-align: right;\n",
       "    }\n",
       "</style>\n",
       "<table border=\"1\" class=\"dataframe\">\n",
       "  <thead>\n",
       "    <tr style=\"text-align: right;\">\n",
       "      <th></th>\n",
       "      <th>title</th>\n",
       "      <th>text</th>\n",
       "      <th>year</th>\n",
       "    </tr>\n",
       "  </thead>\n",
       "  <tbody>\n",
       "    <tr>\n",
       "      <th>6</th>\n",
       "      <td>And Then There Were None</td>\n",
       "      <td>Agatha ChristieAnd Then There Were NoneDedicat...</td>\n",
       "      <td>1939.0</td>\n",
       "    </tr>\n",
       "  </tbody>\n",
       "</table>\n",
       "</div>"
      ],
      "text/plain": [
       "                      title  \\\n",
       "6  And Then There Were None   \n",
       "\n",
       "                                                text    year  \n",
       "6  Agatha ChristieAnd Then There Were NoneDedicat...  1939.0  "
      ]
     },
     "execution_count": 25,
     "metadata": {},
     "output_type": "execute_result"
    }
   ],
   "source": [
    "#change And Then There Were None to 1939\n",
    "df.loc[6, 'year'] = 1939\n",
    "df[df['title'] == 'And Then There Were None']"
   ]
  },
  {
   "cell_type": "markdown",
   "metadata": {},
   "source": [
    "### I'm going to drop the autobiography and do a seperate analysis by itself because this book is different:\n",
    "\n",
    "The autobiography was written over the course of 15 years, and she didn't really edit it. However, the publishers admitted to cleaning up the text.\n",
    "\n",
    "source: https://en.wikipedia.org/wiki/Agatha_Christie:_An_Autobiography\n"
   ]
  },
  {
   "cell_type": "code",
   "execution_count": 26,
   "metadata": {},
   "outputs": [],
   "source": [
    "df = df.drop(5)"
   ]
  },
  {
   "cell_type": "code",
   "execution_count": 27,
   "metadata": {},
   "outputs": [],
   "source": [
    "#drop black coffee because it's adapted as a novel by Charles Osborne\n",
    "df = df.drop(9)"
   ]
  },
  {
   "cell_type": "code",
   "execution_count": 28,
   "metadata": {},
   "outputs": [
    {
     "data": {
      "text/html": [
       "<div>\n",
       "<style scoped>\n",
       "    .dataframe tbody tr th:only-of-type {\n",
       "        vertical-align: middle;\n",
       "    }\n",
       "\n",
       "    .dataframe tbody tr th {\n",
       "        vertical-align: top;\n",
       "    }\n",
       "\n",
       "    .dataframe thead th {\n",
       "        text-align: right;\n",
       "    }\n",
       "</style>\n",
       "<table border=\"1\" class=\"dataframe\">\n",
       "  <thead>\n",
       "    <tr style=\"text-align: right;\">\n",
       "      <th></th>\n",
       "      <th>title</th>\n",
       "      <th>text</th>\n",
       "      <th>year</th>\n",
       "    </tr>\n",
       "  </thead>\n",
       "  <tbody>\n",
       "    <tr>\n",
       "      <th>27</th>\n",
       "      <td>Hercule Poirot and the Greensho</td>\n",
       "      <td>ContentsForewordHercule Poirot and the Greensh...</td>\n",
       "      <td>1954.0</td>\n",
       "    </tr>\n",
       "  </tbody>\n",
       "</table>\n",
       "</div>"
      ],
      "text/plain": [
       "                              title  \\\n",
       "27  Hercule Poirot and the Greensho   \n",
       "\n",
       "                                                 text    year  \n",
       "27  ContentsForewordHercule Poirot and the Greensh...  1954.0  "
      ]
     },
     "execution_count": 28,
     "metadata": {},
     "output_type": "execute_result"
    }
   ],
   "source": [
    "#source: https://www.agathachristie.com/stories/hercule-poirot-and-the-greenshore-folly\n",
    "df.loc[27, 'year'] = 1954\n",
    "df[df['title'] == 'Hercule Poirot and the Greensho']"
   ]
  },
  {
   "cell_type": "code",
   "execution_count": 29,
   "metadata": {},
   "outputs": [],
   "source": [
    "#drop Hercule Poirot's Casebook because it's a collection of other stories already included in this list:\n",
    "df = df.drop(28)"
   ]
  },
  {
   "cell_type": "code",
   "execution_count": 30,
   "metadata": {},
   "outputs": [
    {
     "data": {
      "text/html": [
       "<div>\n",
       "<style scoped>\n",
       "    .dataframe tbody tr th:only-of-type {\n",
       "        vertical-align: middle;\n",
       "    }\n",
       "\n",
       "    .dataframe tbody tr th {\n",
       "        vertical-align: top;\n",
       "    }\n",
       "\n",
       "    .dataframe thead th {\n",
       "        text-align: right;\n",
       "    }\n",
       "</style>\n",
       "<table border=\"1\" class=\"dataframe\">\n",
       "  <thead>\n",
       "    <tr style=\"text-align: right;\">\n",
       "      <th></th>\n",
       "      <th>title</th>\n",
       "      <th>text</th>\n",
       "      <th>year</th>\n",
       "    </tr>\n",
       "  </thead>\n",
       "  <tbody>\n",
       "    <tr>\n",
       "      <th>69</th>\n",
       "      <td>The Mirror Crack'd From Side to</td>\n",
       "      <td>Agatha ChristieThe Mirror Crack’d from Side to...</td>\n",
       "      <td>1962.0</td>\n",
       "    </tr>\n",
       "  </tbody>\n",
       "</table>\n",
       "</div>"
      ],
      "text/plain": [
       "                              title  \\\n",
       "69  The Mirror Crack'd From Side to   \n",
       "\n",
       "                                                 text    year  \n",
       "69  Agatha ChristieThe Mirror Crack’d from Side to...  1962.0  "
      ]
     },
     "execution_count": 30,
     "metadata": {},
     "output_type": "execute_result"
    }
   ],
   "source": [
    "df.loc[69, 'year'] = 1962\n",
    "df[df['title'] == \"The Mirror Crack'd From Side to\"]"
   ]
  },
  {
   "cell_type": "code",
   "execution_count": 31,
   "metadata": {},
   "outputs": [],
   "source": [
    "#drop Miss Marple, Miss Marple's final cases because they're collections and they don't give the years when they were published\n",
    "#drop Spider's Web because it's a play\n",
    "#drop the unexpected guest because it's an adaptation by Charles Osborne\n",
    "#drop while the light lasts, because it's a collection of other stories already in here\n",
    "\n",
    "df = df.drop([33,34, 55, 84, 92])"
   ]
  },
  {
   "cell_type": "code",
   "execution_count": 32,
   "metadata": {},
   "outputs": [],
   "source": [
    "#drop from main one and I'll deal with it later, because they're also collections but they give the dates.\n",
    "df =df.drop([30,63])"
   ]
  },
  {
   "cell_type": "code",
   "execution_count": 33,
   "metadata": {},
   "outputs": [],
   "source": [
    "# Drop \"Poirot's Early Cases\", because it's a collection of stories:\n",
    "df =df.drop(49)"
   ]
  },
  {
   "cell_type": "code",
   "execution_count": 34,
   "metadata": {},
   "outputs": [],
   "source": [
    "#save\n",
    "df.to_csv('./CSVs/books_df_cleaned.csv', index=False)"
   ]
  },
  {
   "cell_type": "markdown",
   "metadata": {},
   "source": [
    "### Open up harlequin short stories and seperate out all the stories:\n",
    "Thankfully the short stories are all seperated by their names in all caps, so I can just split by the all caps names"
   ]
  },
  {
   "cell_type": "code",
   "execution_count": 35,
   "metadata": {},
   "outputs": [],
   "source": [
    "harlequin = pd.read_csv('./TXT/The Harlequin Tea Set and Other - Agatha Christie.txt', sep='\\n', header=None)[0].str.cat()"
   ]
  },
  {
   "cell_type": "code",
   "execution_count": 36,
   "metadata": {},
   "outputs": [],
   "source": [
    "#list of short stories in the harlequin tea set\n",
    "short_stories = ['The Edge', \n",
    "                 'The Actress', \n",
    "                 'While the Light Lasts', \n",
    "                 'The House of Dreams', \n",
    "                 'The Lonely God',\n",
    "                 'Manx Gold',\n",
    "                 'Within a Wall', \n",
    "                 'The Mystery of the Spanish Chest', \n",
    "                 'The Harlequin Tea Set']\n",
    "\n",
    "#make them all caps\n",
    "short_stories = [x.upper() for x in short_stories]"
   ]
  },
  {
   "cell_type": "code",
   "execution_count": 37,
   "metadata": {},
   "outputs": [
    {
     "data": {
      "text/plain": [
       "['THE EDGE',\n",
       " 'THE ACTRESS',\n",
       " 'WHILE THE LIGHT LASTS',\n",
       " 'THE HOUSE OF DREAMS',\n",
       " 'THE LONELY GOD',\n",
       " 'MANX GOLD',\n",
       " 'WITHIN A WALL',\n",
       " 'THE MYSTERY OF THE SPANISH CHEST',\n",
       " 'THE HARLEQUIN TEA SET']"
      ]
     },
     "execution_count": 37,
     "metadata": {},
     "output_type": "execute_result"
    }
   ],
   "source": [
    "short_stories"
   ]
  },
  {
   "cell_type": "code",
   "execution_count": 38,
   "metadata": {},
   "outputs": [],
   "source": [
    "stories = []\n",
    "for story in range(len(short_stories)-1):\n",
    "    s = {}\n",
    "    s['title'] = short_stories[story]\n",
    "    s['text'] = harlequin.split(short_stories[story])[1].split(short_stories[story+1])[0]\n",
    "    stories.append(s)"
   ]
  },
  {
   "cell_type": "code",
   "execution_count": 39,
   "metadata": {},
   "outputs": [],
   "source": [
    "last = harlequin.split('THE HARLEQUIN TEA SET')[1].split('About the Author')[0]\n",
    "\n",
    "s = {}\n",
    "s['title'] = 'THE HARLEQUIN TEA SET'\n",
    "s['text'] = last\n",
    "\n",
    "stories.append(s)"
   ]
  },
  {
   "cell_type": "code",
   "execution_count": 40,
   "metadata": {},
   "outputs": [
    {
     "data": {
      "text/html": [
       "<div>\n",
       "<style scoped>\n",
       "    .dataframe tbody tr th:only-of-type {\n",
       "        vertical-align: middle;\n",
       "    }\n",
       "\n",
       "    .dataframe tbody tr th {\n",
       "        vertical-align: top;\n",
       "    }\n",
       "\n",
       "    .dataframe thead th {\n",
       "        text-align: right;\n",
       "    }\n",
       "</style>\n",
       "<table border=\"1\" class=\"dataframe\">\n",
       "  <thead>\n",
       "    <tr style=\"text-align: right;\">\n",
       "      <th></th>\n",
       "      <th>title</th>\n",
       "      <th>text</th>\n",
       "    </tr>\n",
       "  </thead>\n",
       "  <tbody>\n",
       "    <tr>\n",
       "      <th>0</th>\n",
       "      <td>THE EDGE</td>\n",
       "      <td>“The Edge” was first published in Pearson’s Ma...</td>\n",
       "    </tr>\n",
       "    <tr>\n",
       "      <th>1</th>\n",
       "      <td>THE ACTRESS</td>\n",
       "      <td>“The Actress” was first published as “A Trap f...</td>\n",
       "    </tr>\n",
       "    <tr>\n",
       "      <th>2</th>\n",
       "      <td>WHILE THE LIGHT LASTS</td>\n",
       "      <td>“While the Light Lasts” was first published in...</td>\n",
       "    </tr>\n",
       "    <tr>\n",
       "      <th>3</th>\n",
       "      <td>THE HOUSE OF DREAMS</td>\n",
       "      <td>“The House of Dreams” was first published in T...</td>\n",
       "    </tr>\n",
       "    <tr>\n",
       "      <th>4</th>\n",
       "      <td>THE LONELY GOD</td>\n",
       "      <td>“The Lonely God” was first published in Royal ...</td>\n",
       "    </tr>\n",
       "    <tr>\n",
       "      <th>5</th>\n",
       "      <td>MANX GOLD</td>\n",
       "      <td>“Manx Gold” was first published in The Daily D...</td>\n",
       "    </tr>\n",
       "    <tr>\n",
       "      <th>6</th>\n",
       "      <td>WITHIN A WALL</td>\n",
       "      <td>“Within a Wall” was first published in Royal M...</td>\n",
       "    </tr>\n",
       "    <tr>\n",
       "      <th>7</th>\n",
       "      <td>THE MYSTERY OF THE SPANISH CHEST</td>\n",
       "      <td>“The Mystery of the Spanish Chest” is an expan...</td>\n",
       "    </tr>\n",
       "    <tr>\n",
       "      <th>8</th>\n",
       "      <td>THE HARLEQUIN TEA SET</td>\n",
       "      <td>“The Harlequin Tea Set” was first published in...</td>\n",
       "    </tr>\n",
       "  </tbody>\n",
       "</table>\n",
       "</div>"
      ],
      "text/plain": [
       "                              title  \\\n",
       "0                          THE EDGE   \n",
       "1                       THE ACTRESS   \n",
       "2             WHILE THE LIGHT LASTS   \n",
       "3               THE HOUSE OF DREAMS   \n",
       "4                    THE LONELY GOD   \n",
       "5                         MANX GOLD   \n",
       "6                     WITHIN A WALL   \n",
       "7  THE MYSTERY OF THE SPANISH CHEST   \n",
       "8             THE HARLEQUIN TEA SET   \n",
       "\n",
       "                                                text  \n",
       "0  “The Edge” was first published in Pearson’s Ma...  \n",
       "1  “The Actress” was first published as “A Trap f...  \n",
       "2  “While the Light Lasts” was first published in...  \n",
       "3  “The House of Dreams” was first published in T...  \n",
       "4  “The Lonely God” was first published in Royal ...  \n",
       "5  “Manx Gold” was first published in The Daily D...  \n",
       "6  “Within a Wall” was first published in Royal M...  \n",
       "7  “The Mystery of the Spanish Chest” is an expan...  \n",
       "8  “The Harlequin Tea Set” was first published in...  "
      ]
     },
     "execution_count": 40,
     "metadata": {},
     "output_type": "execute_result"
    }
   ],
   "source": [
    "stories_df = pd.DataFrame(stories)\n",
    "stories_df"
   ]
  },
  {
   "cell_type": "code",
   "execution_count": 41,
   "metadata": {},
   "outputs": [],
   "source": [
    "#split out first sentence, then only save the numbers\n",
    "stories_df['year'] = stories_df['text'].map(lambda x: x.split('.')[0]).map(lambda x: ''.join([y for y in list(x) if y in '0123456789']))"
   ]
  },
  {
   "cell_type": "code",
   "execution_count": 42,
   "metadata": {},
   "outputs": [
    {
     "data": {
      "text/html": [
       "<div>\n",
       "<style scoped>\n",
       "    .dataframe tbody tr th:only-of-type {\n",
       "        vertical-align: middle;\n",
       "    }\n",
       "\n",
       "    .dataframe tbody tr th {\n",
       "        vertical-align: top;\n",
       "    }\n",
       "\n",
       "    .dataframe thead th {\n",
       "        text-align: right;\n",
       "    }\n",
       "</style>\n",
       "<table border=\"1\" class=\"dataframe\">\n",
       "  <thead>\n",
       "    <tr style=\"text-align: right;\">\n",
       "      <th></th>\n",
       "      <th>title</th>\n",
       "      <th>text</th>\n",
       "      <th>year</th>\n",
       "    </tr>\n",
       "  </thead>\n",
       "  <tbody>\n",
       "    <tr>\n",
       "      <th>0</th>\n",
       "      <td>THE EDGE</td>\n",
       "      <td>“The Edge” was first published in Pearson’s Ma...</td>\n",
       "      <td>1927</td>\n",
       "    </tr>\n",
       "    <tr>\n",
       "      <th>1</th>\n",
       "      <td>THE ACTRESS</td>\n",
       "      <td>“The Actress” was first published as “A Trap f...</td>\n",
       "      <td>1923</td>\n",
       "    </tr>\n",
       "    <tr>\n",
       "      <th>2</th>\n",
       "      <td>WHILE THE LIGHT LASTS</td>\n",
       "      <td>“While the Light Lasts” was first published in...</td>\n",
       "      <td>1924</td>\n",
       "    </tr>\n",
       "    <tr>\n",
       "      <th>3</th>\n",
       "      <td>THE HOUSE OF DREAMS</td>\n",
       "      <td>“The House of Dreams” was first published in T...</td>\n",
       "      <td>1926</td>\n",
       "    </tr>\n",
       "    <tr>\n",
       "      <th>4</th>\n",
       "      <td>THE LONELY GOD</td>\n",
       "      <td>“The Lonely God” was first published in Royal ...</td>\n",
       "      <td>1926</td>\n",
       "    </tr>\n",
       "    <tr>\n",
       "      <th>5</th>\n",
       "      <td>MANX GOLD</td>\n",
       "      <td>“Manx Gold” was first published in The Daily D...</td>\n",
       "      <td>23281930</td>\n",
       "    </tr>\n",
       "    <tr>\n",
       "      <th>6</th>\n",
       "      <td>WITHIN A WALL</td>\n",
       "      <td>“Within a Wall” was first published in Royal M...</td>\n",
       "      <td>1925</td>\n",
       "    </tr>\n",
       "    <tr>\n",
       "      <th>7</th>\n",
       "      <td>THE MYSTERY OF THE SPANISH CHEST</td>\n",
       "      <td>“The Mystery of the Spanish Chest” is an expan...</td>\n",
       "      <td>1932</td>\n",
       "    </tr>\n",
       "    <tr>\n",
       "      <th>8</th>\n",
       "      <td>THE HARLEQUIN TEA SET</td>\n",
       "      <td>“The Harlequin Tea Set” was first published in...</td>\n",
       "      <td>1971</td>\n",
       "    </tr>\n",
       "  </tbody>\n",
       "</table>\n",
       "</div>"
      ],
      "text/plain": [
       "                              title  \\\n",
       "0                          THE EDGE   \n",
       "1                       THE ACTRESS   \n",
       "2             WHILE THE LIGHT LASTS   \n",
       "3               THE HOUSE OF DREAMS   \n",
       "4                    THE LONELY GOD   \n",
       "5                         MANX GOLD   \n",
       "6                     WITHIN A WALL   \n",
       "7  THE MYSTERY OF THE SPANISH CHEST   \n",
       "8             THE HARLEQUIN TEA SET   \n",
       "\n",
       "                                                text      year  \n",
       "0  “The Edge” was first published in Pearson’s Ma...      1927  \n",
       "1  “The Actress” was first published as “A Trap f...      1923  \n",
       "2  “While the Light Lasts” was first published in...      1924  \n",
       "3  “The House of Dreams” was first published in T...      1926  \n",
       "4  “The Lonely God” was first published in Royal ...      1926  \n",
       "5  “Manx Gold” was first published in The Daily D...  23281930  \n",
       "6  “Within a Wall” was first published in Royal M...      1925  \n",
       "7  “The Mystery of the Spanish Chest” is an expan...      1932  \n",
       "8  “The Harlequin Tea Set” was first published in...      1971  "
      ]
     },
     "execution_count": 42,
     "metadata": {},
     "output_type": "execute_result"
    }
   ],
   "source": [
    "stories_df"
   ]
  },
  {
   "cell_type": "code",
   "execution_count": 43,
   "metadata": {},
   "outputs": [
    {
     "data": {
      "text/html": [
       "<div>\n",
       "<style scoped>\n",
       "    .dataframe tbody tr th:only-of-type {\n",
       "        vertical-align: middle;\n",
       "    }\n",
       "\n",
       "    .dataframe tbody tr th {\n",
       "        vertical-align: top;\n",
       "    }\n",
       "\n",
       "    .dataframe thead th {\n",
       "        text-align: right;\n",
       "    }\n",
       "</style>\n",
       "<table border=\"1\" class=\"dataframe\">\n",
       "  <thead>\n",
       "    <tr style=\"text-align: right;\">\n",
       "      <th></th>\n",
       "      <th>title</th>\n",
       "      <th>text</th>\n",
       "      <th>year</th>\n",
       "    </tr>\n",
       "  </thead>\n",
       "  <tbody>\n",
       "    <tr>\n",
       "      <th>0</th>\n",
       "      <td>THE EDGE</td>\n",
       "      <td>“The Edge” was first published in Pearson’s Ma...</td>\n",
       "      <td>1927</td>\n",
       "    </tr>\n",
       "    <tr>\n",
       "      <th>1</th>\n",
       "      <td>THE ACTRESS</td>\n",
       "      <td>“The Actress” was first published as “A Trap f...</td>\n",
       "      <td>1923</td>\n",
       "    </tr>\n",
       "    <tr>\n",
       "      <th>2</th>\n",
       "      <td>WHILE THE LIGHT LASTS</td>\n",
       "      <td>“While the Light Lasts” was first published in...</td>\n",
       "      <td>1924</td>\n",
       "    </tr>\n",
       "    <tr>\n",
       "      <th>3</th>\n",
       "      <td>THE HOUSE OF DREAMS</td>\n",
       "      <td>“The House of Dreams” was first published in T...</td>\n",
       "      <td>1926</td>\n",
       "    </tr>\n",
       "    <tr>\n",
       "      <th>4</th>\n",
       "      <td>THE LONELY GOD</td>\n",
       "      <td>“The Lonely God” was first published in Royal ...</td>\n",
       "      <td>1926</td>\n",
       "    </tr>\n",
       "    <tr>\n",
       "      <th>5</th>\n",
       "      <td>MANX GOLD</td>\n",
       "      <td>“Manx Gold” was first published in The Daily D...</td>\n",
       "      <td>1930</td>\n",
       "    </tr>\n",
       "    <tr>\n",
       "      <th>6</th>\n",
       "      <td>WITHIN A WALL</td>\n",
       "      <td>“Within a Wall” was first published in Royal M...</td>\n",
       "      <td>1925</td>\n",
       "    </tr>\n",
       "    <tr>\n",
       "      <th>7</th>\n",
       "      <td>THE MYSTERY OF THE SPANISH CHEST</td>\n",
       "      <td>“The Mystery of the Spanish Chest” is an expan...</td>\n",
       "      <td>1932</td>\n",
       "    </tr>\n",
       "    <tr>\n",
       "      <th>8</th>\n",
       "      <td>THE HARLEQUIN TEA SET</td>\n",
       "      <td>“The Harlequin Tea Set” was first published in...</td>\n",
       "      <td>1971</td>\n",
       "    </tr>\n",
       "  </tbody>\n",
       "</table>\n",
       "</div>"
      ],
      "text/plain": [
       "                              title  \\\n",
       "0                          THE EDGE   \n",
       "1                       THE ACTRESS   \n",
       "2             WHILE THE LIGHT LASTS   \n",
       "3               THE HOUSE OF DREAMS   \n",
       "4                    THE LONELY GOD   \n",
       "5                         MANX GOLD   \n",
       "6                     WITHIN A WALL   \n",
       "7  THE MYSTERY OF THE SPANISH CHEST   \n",
       "8             THE HARLEQUIN TEA SET   \n",
       "\n",
       "                                                text  year  \n",
       "0  “The Edge” was first published in Pearson’s Ma...  1927  \n",
       "1  “The Actress” was first published as “A Trap f...  1923  \n",
       "2  “While the Light Lasts” was first published in...  1924  \n",
       "3  “The House of Dreams” was first published in T...  1926  \n",
       "4  “The Lonely God” was first published in Royal ...  1926  \n",
       "5  “Manx Gold” was first published in The Daily D...  1930  \n",
       "6  “Within a Wall” was first published in Royal M...  1925  \n",
       "7  “The Mystery of the Spanish Chest” is an expan...  1932  \n",
       "8  “The Harlequin Tea Set” was first published in...  1971  "
      ]
     },
     "execution_count": 43,
     "metadata": {},
     "output_type": "execute_result"
    }
   ],
   "source": [
    "#fix manx gold:\n",
    "stories_df.loc[5, 'year'] = 1930\n",
    "stories_df"
   ]
  },
  {
   "cell_type": "code",
   "execution_count": 44,
   "metadata": {},
   "outputs": [],
   "source": [
    "#get rid of the first sentence of the text:\n",
    "stories_df['text'] = stories_df['text'].map(lambda x: '.'.join(x.split('.')[1:]))"
   ]
  },
  {
   "cell_type": "code",
   "execution_count": 45,
   "metadata": {},
   "outputs": [],
   "source": [
    "#the last story had 2 sentences:\n",
    "stories_df.loc[8, 'text'] = '.'.join((stories_df['text'][8].split('.')[1:]))"
   ]
  },
  {
   "cell_type": "code",
   "execution_count": 46,
   "metadata": {},
   "outputs": [],
   "source": [
    "stories_df.to_csv('./CSVs/short_stories_df.csv', index=False)"
   ]
  },
  {
   "cell_type": "markdown",
   "metadata": {},
   "source": [
    "### Ok now split up all the Hercule Poirot short stories"
   ]
  },
  {
   "cell_type": "code",
   "execution_count": 47,
   "metadata": {},
   "outputs": [],
   "source": [
    "hercule = pd.read_csv('./TXT/Hercule Poirot_ The Complete Sh - Agatha Christie.txt', sep='\\n', header=None)[0].str.cat()"
   ]
  },
  {
   "cell_type": "code",
   "execution_count": 48,
   "metadata": {},
   "outputs": [],
   "source": [
    "hercule_stories = ['The Affair at the Victory Ball',\n",
    "                   'The Jewel Robbery at the Grand Metropolitan',\n",
    "                   'The King of Clubs',\n",
    "                   'The Disappearance of Mr. Davenheim',\n",
    "                   'The Plymouth Express',\n",
    "                   'The Adventure of “The Western Star”',\n",
    "                   'The Tragedy at Marsdon Manor',\n",
    "                   'The Kidnapped Prime Minister',\n",
    "                   'The Million Dollar Bond Robbery',\n",
    "                   'The Adventure of the Cheap Flat',\n",
    "                   'The Mystery of Hunter’s Lodge',\n",
    "                   'The Chocolate Box',\n",
    "                   'The Adventure of the Egyptian Tomb',\n",
    "                   'The Veiled Lady',\n",
    "                   'The Adventure of Johnnie Waverly',\n",
    "                   'The Market Basing Mystery',\n",
    "                   'The Adventure of the Italian Nobleman',\n",
    "                   'The Case of the Missing Will',\n",
    "                   'The Incredible Theft',\n",
    "                   'The Adventure of the Clapham Cook',\n",
    "                   'The Lost Mine',\n",
    "                   'The Cornish Mystery',\n",
    "                   'The Double Clue',\n",
    "                   'The Theft of the Royal Ruby',\n",
    "                   'The Lemesurier Inheritance',\n",
    "                   'The Under Dog',\n",
    "                   'Double Sin',\n",
    "                   'Wasps’ Nest',\n",
    "                   'The Third Floor Flat',\n",
    "                   'The Mystery of the Baghdad Chest',\n",
    "                   'Dead Man’s Mirror',\n",
    "                   'How Does Your Garden Grow?',\n",
    "                   'Problem at Sea',\n",
    "                   'Triangle at Rhodes',\n",
    "                   'Murder in the Mews',\n",
    "                   'Yellow Iris',\n",
    "                   'The Dream',\n",
    "                   'The Labors of Hercules',\n",
    "                   'The Nemean Lion',\n",
    "                   'The Lernean Hydra',\n",
    "                   'The Arcadian Deer',\n",
    "                   'The Erymanthian Boar',\n",
    "                   'The Augean Stables',\n",
    "                   'The Stymphalean Birds',\n",
    "                   'The Cretan Bull',\n",
    "                   'The Horses of Diomedes',\n",
    "                   'The Girdle of Hyppolita',\n",
    "                   'The Flock of Geryon',\n",
    "                   'The Apples of the Hesperides',\n",
    "                   'The Capture of Cerberus', \n",
    "                   'Four and Twenty Blackbirds']"
   ]
  },
  {
   "cell_type": "code",
   "execution_count": 49,
   "metadata": {},
   "outputs": [],
   "source": [
    "hercule_stories = [x.upper() for x in hercule_stories]"
   ]
  },
  {
   "cell_type": "code",
   "execution_count": 50,
   "metadata": {},
   "outputs": [],
   "source": [
    "h_stories = []\n",
    "for title in range(len(hercule_stories)-1):\n",
    "    s = {}\n",
    "    s['title'] = hercule_stories[title]\n",
    "    s['text'] = hercule.split(hercule_stories[title])[1].split(hercule_stories[title+1])[0]\n",
    "    h_stories.append(s)\n",
    "    "
   ]
  },
  {
   "cell_type": "code",
   "execution_count": 51,
   "metadata": {},
   "outputs": [],
   "source": [
    "last = hercule.split('FOUR AND TWENTY BLACKBIRDS')[1].split('About the Author')[0]\n",
    "\n",
    "s = {}\n",
    "s['title'] = 'FOUR AND TWENTY BLACKBIRDS'\n",
    "s['text'] = last\n",
    "\n",
    "h_stories.append(s)"
   ]
  },
  {
   "cell_type": "code",
   "execution_count": 52,
   "metadata": {},
   "outputs": [
    {
     "data": {
      "text/html": [
       "<div>\n",
       "<style scoped>\n",
       "    .dataframe tbody tr th:only-of-type {\n",
       "        vertical-align: middle;\n",
       "    }\n",
       "\n",
       "    .dataframe tbody tr th {\n",
       "        vertical-align: top;\n",
       "    }\n",
       "\n",
       "    .dataframe thead th {\n",
       "        text-align: right;\n",
       "    }\n",
       "</style>\n",
       "<table border=\"1\" class=\"dataframe\">\n",
       "  <thead>\n",
       "    <tr style=\"text-align: right;\">\n",
       "      <th></th>\n",
       "      <th>title</th>\n",
       "      <th>text</th>\n",
       "    </tr>\n",
       "  </thead>\n",
       "  <tbody>\n",
       "    <tr>\n",
       "      <th>0</th>\n",
       "      <td>THE AFFAIR AT THE VICTORY BALL</td>\n",
       "      <td>“The Affair at the Victory Ball” was first pub...</td>\n",
       "    </tr>\n",
       "    <tr>\n",
       "      <th>1</th>\n",
       "      <td>THE JEWEL ROBBERY AT THE GRAND METROPOLITAN</td>\n",
       "      <td>“The Jewel Robbery at the Grand Metropolitan” ...</td>\n",
       "    </tr>\n",
       "    <tr>\n",
       "      <th>2</th>\n",
       "      <td>THE KING OF CLUBS</td>\n",
       "      <td>“The King of Clubs” was first published as “Th...</td>\n",
       "    </tr>\n",
       "    <tr>\n",
       "      <th>3</th>\n",
       "      <td>THE DISAPPEARANCE OF MR. DAVENHEIM</td>\n",
       "      <td>“The Disappearance of Mr. Davenheim” was first...</td>\n",
       "    </tr>\n",
       "    <tr>\n",
       "      <th>4</th>\n",
       "      <td>THE PLYMOUTH EXPRESS</td>\n",
       "      <td>“The Plymouth Express” was first published as ...</td>\n",
       "    </tr>\n",
       "  </tbody>\n",
       "</table>\n",
       "</div>"
      ],
      "text/plain": [
       "                                         title  \\\n",
       "0               THE AFFAIR AT THE VICTORY BALL   \n",
       "1  THE JEWEL ROBBERY AT THE GRAND METROPOLITAN   \n",
       "2                            THE KING OF CLUBS   \n",
       "3           THE DISAPPEARANCE OF MR. DAVENHEIM   \n",
       "4                         THE PLYMOUTH EXPRESS   \n",
       "\n",
       "                                                text  \n",
       "0  “The Affair at the Victory Ball” was first pub...  \n",
       "1  “The Jewel Robbery at the Grand Metropolitan” ...  \n",
       "2  “The King of Clubs” was first published as “Th...  \n",
       "3  “The Disappearance of Mr. Davenheim” was first...  \n",
       "4  “The Plymouth Express” was first published as ...  "
      ]
     },
     "execution_count": 52,
     "metadata": {},
     "output_type": "execute_result"
    }
   ],
   "source": [
    "hercule_df = pd.DataFrame(h_stories)\n",
    "hercule_df.head()"
   ]
  },
  {
   "cell_type": "code",
   "execution_count": 53,
   "metadata": {},
   "outputs": [],
   "source": [
    "hercule_df['year'] = hercule_df['text'].map(lambda x: x.split('.')[0]).map(lambda x: ''.join([y for y in list(x) if y in '0123456789'])[-4:])"
   ]
  },
  {
   "cell_type": "code",
   "execution_count": 54,
   "metadata": {
    "scrolled": false
   },
   "outputs": [
    {
     "data": {
      "text/html": [
       "<div>\n",
       "<style scoped>\n",
       "    .dataframe tbody tr th:only-of-type {\n",
       "        vertical-align: middle;\n",
       "    }\n",
       "\n",
       "    .dataframe tbody tr th {\n",
       "        vertical-align: top;\n",
       "    }\n",
       "\n",
       "    .dataframe thead th {\n",
       "        text-align: right;\n",
       "    }\n",
       "</style>\n",
       "<table border=\"1\" class=\"dataframe\">\n",
       "  <thead>\n",
       "    <tr style=\"text-align: right;\">\n",
       "      <th></th>\n",
       "      <th>title</th>\n",
       "      <th>text</th>\n",
       "      <th>year</th>\n",
       "    </tr>\n",
       "  </thead>\n",
       "  <tbody>\n",
       "    <tr>\n",
       "      <th>0</th>\n",
       "      <td>THE AFFAIR AT THE VICTORY BALL</td>\n",
       "      <td>“The Affair at the Victory Ball” was first pub...</td>\n",
       "      <td>1923</td>\n",
       "    </tr>\n",
       "    <tr>\n",
       "      <th>1</th>\n",
       "      <td>THE JEWEL ROBBERY AT THE GRAND METROPOLITAN</td>\n",
       "      <td>“The Jewel Robbery at the Grand Metropolitan” ...</td>\n",
       "      <td>1923</td>\n",
       "    </tr>\n",
       "    <tr>\n",
       "      <th>2</th>\n",
       "      <td>THE KING OF CLUBS</td>\n",
       "      <td>“The King of Clubs” was first published as “Th...</td>\n",
       "      <td>1923</td>\n",
       "    </tr>\n",
       "    <tr>\n",
       "      <th>3</th>\n",
       "      <td>THE DISAPPEARANCE OF MR. DAVENHEIM</td>\n",
       "      <td>“The Disappearance of Mr. Davenheim” was first...</td>\n",
       "      <td>1923</td>\n",
       "    </tr>\n",
       "    <tr>\n",
       "      <th>4</th>\n",
       "      <td>THE PLYMOUTH EXPRESS</td>\n",
       "      <td>“The Plymouth Express” was first published as ...</td>\n",
       "      <td>1923</td>\n",
       "    </tr>\n",
       "  </tbody>\n",
       "</table>\n",
       "</div>"
      ],
      "text/plain": [
       "                                         title  \\\n",
       "0               THE AFFAIR AT THE VICTORY BALL   \n",
       "1  THE JEWEL ROBBERY AT THE GRAND METROPOLITAN   \n",
       "2                            THE KING OF CLUBS   \n",
       "3           THE DISAPPEARANCE OF MR. DAVENHEIM   \n",
       "4                         THE PLYMOUTH EXPRESS   \n",
       "\n",
       "                                                text  year  \n",
       "0  “The Affair at the Victory Ball” was first pub...  1923  \n",
       "1  “The Jewel Robbery at the Grand Metropolitan” ...  1923  \n",
       "2  “The King of Clubs” was first published as “Th...  1923  \n",
       "3  “The Disappearance of Mr. Davenheim” was first...  1923  \n",
       "4  “The Plymouth Express” was first published as ...  1923  "
      ]
     },
     "execution_count": 54,
     "metadata": {},
     "output_type": "execute_result"
    }
   ],
   "source": [
    "hercule_df.loc[3, 'year'] = 1923\n",
    "hercule_df.head()"
   ]
  },
  {
   "cell_type": "code",
   "execution_count": 55,
   "metadata": {},
   "outputs": [],
   "source": [
    "stories_df.to_csv('./CSVs/hercule_stories.csv', index=False)"
   ]
  },
  {
   "cell_type": "markdown",
   "metadata": {},
   "source": [
    "### Cleaning the df with the books"
   ]
  },
  {
   "cell_type": "code",
   "execution_count": 56,
   "metadata": {},
   "outputs": [],
   "source": [
    "#split by 'about the publisher'?\n",
    "df['text'] = df['text'].map(lambda x: ' '.join(x.split('About the Publisher')[1:]))"
   ]
  },
  {
   "cell_type": "code",
   "execution_count": 57,
   "metadata": {},
   "outputs": [],
   "source": [
    "df = df.reset_index(drop=True)"
   ]
  },
  {
   "cell_type": "code",
   "execution_count": 58,
   "metadata": {},
   "outputs": [],
   "source": [
    "#getting rid of all the stuff at the end of the book\n",
    "df['text'] = df['text'].map(lambda x: x.lower().split('about the author')[0])\n",
    "df['text'] = df['text'].map(lambda x: x.split('* * *')[0])\n",
    "df['text'] = df['text'].map(lambda x: x.split('e-book')[0])"
   ]
  },
  {
   "cell_type": "code",
   "execution_count": 59,
   "metadata": {},
   "outputs": [
    {
     "data": {
      "text/html": [
       "<div>\n",
       "<style scoped>\n",
       "    .dataframe tbody tr th:only-of-type {\n",
       "        vertical-align: middle;\n",
       "    }\n",
       "\n",
       "    .dataframe tbody tr th {\n",
       "        vertical-align: top;\n",
       "    }\n",
       "\n",
       "    .dataframe thead th {\n",
       "        text-align: right;\n",
       "    }\n",
       "</style>\n",
       "<table border=\"1\" class=\"dataframe\">\n",
       "  <thead>\n",
       "    <tr style=\"text-align: right;\">\n",
       "      <th></th>\n",
       "      <th>title</th>\n",
       "      <th>text</th>\n",
       "      <th>year</th>\n",
       "    </tr>\n",
       "  </thead>\n",
       "  <tbody>\n",
       "    <tr>\n",
       "      <th>0</th>\n",
       "      <td>450 From Paddington</td>\n",
       "      <td>onemrs. mcgillicuddy panted along the platform...</td>\n",
       "      <td>1957.0</td>\n",
       "    </tr>\n",
       "    <tr>\n",
       "      <th>1</th>\n",
       "      <td>A Caribbean Mystery</td>\n",
       "      <td>onemajor palgrave tells a story“take all this ...</td>\n",
       "      <td>1965.0</td>\n",
       "    </tr>\n",
       "    <tr>\n",
       "      <th>2</th>\n",
       "      <td>A Murder Is Announced</td>\n",
       "      <td>onea murder is announcedibetween 7:30 and 8:30...</td>\n",
       "      <td>1950.0</td>\n",
       "    </tr>\n",
       "    <tr>\n",
       "      <th>3</th>\n",
       "      <td>A Pocket Full of Rye</td>\n",
       "      <td>chapter oneit was miss somers’s turn to make t...</td>\n",
       "      <td>1954.0</td>\n",
       "    </tr>\n",
       "    <tr>\n",
       "      <th>4</th>\n",
       "      <td>After the Funeral</td>\n",
       "      <td>oneiold lanscombe moved totteringly from room ...</td>\n",
       "      <td>1953.0</td>\n",
       "    </tr>\n",
       "  </tbody>\n",
       "</table>\n",
       "</div>"
      ],
      "text/plain": [
       "                   title                                               text  \\\n",
       "0    450 From Paddington  onemrs. mcgillicuddy panted along the platform...   \n",
       "1    A Caribbean Mystery  onemajor palgrave tells a story“take all this ...   \n",
       "2  A Murder Is Announced  onea murder is announcedibetween 7:30 and 8:30...   \n",
       "3   A Pocket Full of Rye  chapter oneit was miss somers’s turn to make t...   \n",
       "4      After the Funeral  oneiold lanscombe moved totteringly from room ...   \n",
       "\n",
       "     year  \n",
       "0  1957.0  \n",
       "1  1965.0  \n",
       "2  1950.0  \n",
       "3  1954.0  \n",
       "4  1953.0  "
      ]
     },
     "execution_count": 59,
     "metadata": {},
     "output_type": "execute_result"
    }
   ],
   "source": [
    "#it's mostly clean now, just with the first word mushed together.\n",
    "df.head()"
   ]
  },
  {
   "cell_type": "markdown",
   "metadata": {},
   "source": [
    "### Combine short stories dfs with the books df:"
   ]
  },
  {
   "cell_type": "code",
   "execution_count": 60,
   "metadata": {},
   "outputs": [],
   "source": [
    "new_df = pd.concat([df, stories_df, hercule_df],axis=0)"
   ]
  },
  {
   "cell_type": "code",
   "execution_count": 61,
   "metadata": {},
   "outputs": [],
   "source": [
    "new_df['title'] = new_df['title'].map(lambda x: x.lower())\n",
    "new_df['text'] = new_df['text'].map(lambda x: x.lower())"
   ]
  },
  {
   "cell_type": "code",
   "execution_count": 62,
   "metadata": {},
   "outputs": [
    {
     "data": {
      "text/html": [
       "<div>\n",
       "<style scoped>\n",
       "    .dataframe tbody tr th:only-of-type {\n",
       "        vertical-align: middle;\n",
       "    }\n",
       "\n",
       "    .dataframe tbody tr th {\n",
       "        vertical-align: top;\n",
       "    }\n",
       "\n",
       "    .dataframe thead th {\n",
       "        text-align: right;\n",
       "    }\n",
       "</style>\n",
       "<table border=\"1\" class=\"dataframe\">\n",
       "  <thead>\n",
       "    <tr style=\"text-align: right;\">\n",
       "      <th></th>\n",
       "      <th>title</th>\n",
       "      <th>text</th>\n",
       "      <th>year</th>\n",
       "    </tr>\n",
       "  </thead>\n",
       "  <tbody>\n",
       "    <tr>\n",
       "      <th>0</th>\n",
       "      <td>450 from paddington</td>\n",
       "      <td>onemrs. mcgillicuddy panted along the platform...</td>\n",
       "      <td>1957</td>\n",
       "    </tr>\n",
       "    <tr>\n",
       "      <th>1</th>\n",
       "      <td>a caribbean mystery</td>\n",
       "      <td>onemajor palgrave tells a story“take all this ...</td>\n",
       "      <td>1965</td>\n",
       "    </tr>\n",
       "    <tr>\n",
       "      <th>2</th>\n",
       "      <td>a murder is announced</td>\n",
       "      <td>onea murder is announcedibetween 7:30 and 8:30...</td>\n",
       "      <td>1950</td>\n",
       "    </tr>\n",
       "    <tr>\n",
       "      <th>3</th>\n",
       "      <td>a pocket full of rye</td>\n",
       "      <td>chapter oneit was miss somers’s turn to make t...</td>\n",
       "      <td>1954</td>\n",
       "    </tr>\n",
       "    <tr>\n",
       "      <th>4</th>\n",
       "      <td>after the funeral</td>\n",
       "      <td>oneiold lanscombe moved totteringly from room ...</td>\n",
       "      <td>1953</td>\n",
       "    </tr>\n",
       "  </tbody>\n",
       "</table>\n",
       "</div>"
      ],
      "text/plain": [
       "                   title                                               text  \\\n",
       "0    450 from paddington  onemrs. mcgillicuddy panted along the platform...   \n",
       "1    a caribbean mystery  onemajor palgrave tells a story“take all this ...   \n",
       "2  a murder is announced  onea murder is announcedibetween 7:30 and 8:30...   \n",
       "3   a pocket full of rye  chapter oneit was miss somers’s turn to make t...   \n",
       "4      after the funeral  oneiold lanscombe moved totteringly from room ...   \n",
       "\n",
       "   year  \n",
       "0  1957  \n",
       "1  1965  \n",
       "2  1950  \n",
       "3  1954  \n",
       "4  1953  "
      ]
     },
     "execution_count": 62,
     "metadata": {},
     "output_type": "execute_result"
    }
   ],
   "source": [
    "new_df.head()"
   ]
  },
  {
   "cell_type": "code",
   "execution_count": 63,
   "metadata": {},
   "outputs": [],
   "source": [
    "new_df = new_df[new_df['text'] != '']"
   ]
  },
  {
   "cell_type": "markdown",
   "metadata": {},
   "source": [
    "### More cleaning:\n",
    "Going to perform the cleaning that they did in the paper:\n",
    "> After all punctuation, apostrophes, and hyphens were deleted, each text was divided into 10,000-word segments."
   ]
  },
  {
   "cell_type": "code",
   "execution_count": 64,
   "metadata": {},
   "outputs": [],
   "source": [
    "new_df['text'] = new_df['text'].map(lambda x: x.lower())"
   ]
  },
  {
   "cell_type": "code",
   "execution_count": 65,
   "metadata": {},
   "outputs": [],
   "source": [
    "#save period because I want a rough sentence count\n",
    "new_df['text'] = new_df['text'].map(lambda x: ''.join([y for y in list(x.lower()) if y in string.ascii_lowercase + ' .']))"
   ]
  },
  {
   "cell_type": "code",
   "execution_count": 66,
   "metadata": {},
   "outputs": [],
   "source": [
    "new_df['sentence_count'] = new_df['text'].map(lambda x: len(x.split('.')))"
   ]
  },
  {
   "cell_type": "code",
   "execution_count": 67,
   "metadata": {},
   "outputs": [],
   "source": [
    "#now we can get rid of periods\n",
    "new_df['text'] = new_df['text'].map(lambda x: ''.join([y for y in list(x.lower()) if y in string.ascii_lowercase + ' ']))"
   ]
  },
  {
   "cell_type": "code",
   "execution_count": 68,
   "metadata": {},
   "outputs": [],
   "source": [
    "new_df = new_df.reset_index(drop=True)"
   ]
  },
  {
   "cell_type": "markdown",
   "metadata": {},
   "source": [
    "### OK so it turns out Sleeping Murder and Curtain were written in 1940, but published after she passed away. \n",
    "I need to fix the date in the dataframe  \n",
    "source: https://en.wikipedia.org/wiki/Sleeping_Murder\n",
    "source: https://en.wikipedia.org/wiki/Curtain_(novel)"
   ]
  },
  {
   "cell_type": "code",
   "execution_count": 71,
   "metadata": {},
   "outputs": [
    {
     "data": {
      "text/plain": [
       "title                                                       curtain\n",
       "text              oneiwho is there who has not felt a sudden sta...\n",
       "year                                                           1975\n",
       "sentence_count                                                 5126\n",
       "Name: 12, dtype: object"
      ]
     },
     "execution_count": 71,
     "metadata": {},
     "output_type": "execute_result"
    }
   ],
   "source": [
    "new_df.loc[12]"
   ]
  },
  {
   "cell_type": "code",
   "execution_count": 72,
   "metadata": {},
   "outputs": [
    {
     "data": {
      "text/plain": [
       "title                                               sleeping murder\n",
       "text              onea housegwenda reed stood shivering a little...\n",
       "year                                                           1976\n",
       "sentence_count                                                 5356\n",
       "Name: 43, dtype: object"
      ]
     },
     "execution_count": 72,
     "metadata": {},
     "output_type": "execute_result"
    }
   ],
   "source": [
    "new_df.loc[43]"
   ]
  },
  {
   "cell_type": "code",
   "execution_count": 73,
   "metadata": {},
   "outputs": [],
   "source": [
    "new_df.loc[12, 'year'] = 1940\n",
    "new_df.loc[43, 'year'] = 1940"
   ]
  },
  {
   "cell_type": "markdown",
   "metadata": {},
   "source": [
    "### I think it's mostly clean now!"
   ]
  },
  {
   "cell_type": "code",
   "execution_count": 74,
   "metadata": {},
   "outputs": [],
   "source": [
    "new_df['year'] = new_df['year'].astype(int)"
   ]
  },
  {
   "cell_type": "code",
   "execution_count": 75,
   "metadata": {},
   "outputs": [],
   "source": [
    "new_df.to_csv('./CSVs/all_clean.csv', index=False)"
   ]
  },
  {
   "cell_type": "code",
   "execution_count": null,
   "metadata": {},
   "outputs": [],
   "source": []
  }
 ],
 "metadata": {
  "kernelspec": {
   "display_name": "Python 3",
   "language": "python",
   "name": "python3"
  },
  "language_info": {
   "codemirror_mode": {
    "name": "ipython",
    "version": 3
   },
   "file_extension": ".py",
   "mimetype": "text/x-python",
   "name": "python",
   "nbconvert_exporter": "python",
   "pygments_lexer": "ipython3",
   "version": "3.8.5"
  }
 },
 "nbformat": 4,
 "nbformat_minor": 4
}
