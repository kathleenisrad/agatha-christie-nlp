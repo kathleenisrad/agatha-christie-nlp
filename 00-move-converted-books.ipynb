{
 "cells": [
  {
   "cell_type": "markdown",
   "metadata": {},
   "source": [
    "### Move Converted Books\n",
    "\n",
    "I used a program called Calibre to convert all my ePUB files to txt files.  \n",
    "Calibre saves each book (epub file, txt file, jpg file) in its own seperate folder in the Calibre Library folder that Calibre makes during installation.  \n",
    "This notebook just finds the txt file within each subfolder and moves it to my project folder.  \n",
    "Calibre: https://calibre-ebook.com/download_windows\n"
   ]
  },
  {
   "cell_type": "code",
   "execution_count": 1,
   "metadata": {},
   "outputs": [],
   "source": [
    "import os\n",
    "import shutil"
   ]
  },
  {
   "cell_type": "code",
   "execution_count": 2,
   "metadata": {},
   "outputs": [
    {
     "data": {
      "text/plain": [
       "['4_50 From Paddington (2)',\n",
       " 'A Caribbean Mystery_ A Miss Marple M (6)',\n",
       " 'A Murder Is Announced_ A Miss Marple (4)',\n",
       " 'A Pocket Full of Rye (98)',\n",
       " 'After the Funeral_ A Hercule Poirot (97)']"
      ]
     },
     "execution_count": 2,
     "metadata": {},
     "output_type": "execute_result"
    }
   ],
   "source": [
    "books_path = '../../../Calibre Library/Agatha Christie'\n",
    "book_folders = os.listdir(books_path)\n",
    "book_folders[0:5]"
   ]
  },
  {
   "cell_type": "code",
   "execution_count": 3,
   "metadata": {},
   "outputs": [],
   "source": [
    "project_path = './TXT'"
   ]
  },
  {
   "cell_type": "code",
   "execution_count": 4,
   "metadata": {},
   "outputs": [],
   "source": [
    "for i in book_folders:\n",
    "    book = os.path.join(books_path, i)\n",
    "    folder  = os.listdir(book)\n",
    "    for file in folder:\n",
    "        if '.txt' in file:\n",
    "            txt_to_move = os.path.join(book, file)\n",
    "            shutil.move(txt_to_move, project_path)"
   ]
  },
  {
   "cell_type": "code",
   "execution_count": 5,
   "metadata": {},
   "outputs": [
    {
     "data": {
      "text/plain": [
       "['4_50 From Paddington - Agatha Christie.txt',\n",
       " 'A Caribbean Mystery_ A Miss Mar - Agatha Christie.txt',\n",
       " 'A Murder Is Announced_ A Miss M - Agatha Christie.txt',\n",
       " 'A Pocket Full of Rye - Agatha Christie.txt',\n",
       " 'After the Funeral_ A Hercule Po - Agatha Christie.txt',\n",
       " 'An Autobiography - Agatha Christie.txt',\n",
       " 'And Then There Were None - Agatha Christie.txt',\n",
       " 'Appointment With Death_ A Hercu - Agatha Christie.txt',\n",
       " \"At Bertram's Hotel - Agatha Christie.txt\",\n",
       " 'Black Coffee - Agatha Christie.txt',\n",
       " 'By the Pricking of My Thumbs_ - Agatha Christie.txt',\n",
       " 'Cards on the Table_ A Hercule P - Agatha Christie.txt',\n",
       " 'Cat Among the Pigeons_ A Hercul - Agatha Christie.txt',\n",
       " 'Crooked House - Agatha Christie.txt',\n",
       " \"Curtain_ Poirot's Last Case_ He - Agatha Christie.txt\",\n",
       " \"Dead Man's Folly_ Hercule Poiro - Agatha Christie.txt\",\n",
       " 'Death Comes as the End - Agatha Christie.txt',\n",
       " 'Death in the Clouds_ A Hercule - Agatha Christie.txt',\n",
       " 'Death on the Nile_ Hercule Poir - Agatha Christie.txt',\n",
       " 'Destination Unknown - Agatha Christie.txt',\n",
       " 'Double Sin and Other Stories - Agatha Christie.txt',\n",
       " 'Dumb Witness_ A Hercule Poirot - Agatha Christie.txt',\n",
       " 'Elephants Can Remember - Agatha Christie.txt',\n",
       " 'Endless Night - Agatha Christie.txt',\n",
       " 'Evil Under the Sun_ A Hercule P - Agatha Christie.txt',\n",
       " 'Five Little Pigs_ A Hercule Poi - Agatha Christie.txt',\n",
       " \"Hallowe'en Party_ A Hercule Poi - Agatha Christie.txt\",\n",
       " 'Hercule Poirot and the Greensho - Agatha Christie.txt',\n",
       " \"Hercule Poirot's Casebook - Agatha Christie.txt\",\n",
       " \"Hercule Poirot's Christmas_ A H - Agatha Christie.txt\",\n",
       " 'Hercule Poirot_ The Complete Sh - Agatha Christie.txt',\n",
       " 'Hickory Dickory Dock_ A Hercule - Agatha Christie.txt',\n",
       " 'Lord Edgware Dies_ A Hercule Po - Agatha Christie.txt',\n",
       " \"Miss Marple's Final Cases_ And - Agatha Christie.txt\",\n",
       " 'Miss Marple_ The Complete Short - Agatha Christie.txt',\n",
       " \"Mrs. McGinty's Dead_ Hercule Po - Agatha Christie.txt\",\n",
       " 'Murder in Mesopotamia - Agatha Christie.txt',\n",
       " 'Murder in the Mews_ Four Cases - Agatha Christie.txt',\n",
       " 'Murder Is Easy - Agatha Christie.txt',\n",
       " 'Murder on the Orient Express - Agatha Christie.txt',\n",
       " 'N or M__ A Tommy and Tuppence M - Agatha Christie.txt',\n",
       " 'Nemesis - Agatha Christie.txt',\n",
       " 'One, Two, Buckle My Shoe_ A Her - Agatha Christie.txt',\n",
       " 'Ordeal by Innocence - Agatha Christie.txt',\n",
       " 'Parker Pyne Investigates - Agatha Christie.txt',\n",
       " 'Partners in Crime_ A Tommy & Tu - Agatha Christie.txt',\n",
       " 'Passenger to Frankfurt - Agatha Christie.txt',\n",
       " 'Peril at End House - Agatha Christie.txt',\n",
       " 'Poirot Investigates_ Hercule Po - Agatha Christie.txt',\n",
       " \"Poirot's Early Cases - Agatha Christie.txt\",\n",
       " 'Postern of Fate - Agatha Christie.txt',\n",
       " 'Problem at Pollensa Bay_ A Park - Agatha Christie.txt',\n",
       " 'Sad Cypress_ Hercule Poirot Inv - Agatha Christie.txt',\n",
       " \"Sleeping Murder_ Miss Marple's - Agatha Christie.txt\",\n",
       " 'Sparkling Cyanide - Agatha Christie.txt',\n",
       " \"Spider's Web - Agatha Christie.txt\",\n",
       " 'Taken at the Flood_ Hercule Poi - Agatha Christie.txt',\n",
       " 'The A.B.C. Murders - Agatha Christie.txt',\n",
       " 'The Adventure of the Christmas - Agatha Christie.txt',\n",
       " 'The Big Four_ A Hercule Poirot - Agatha Christie.txt',\n",
       " 'The Body in the Library - Agatha Christie.txt',\n",
       " 'The Clocks_ A Hercule Poirot My - Agatha Christie.txt',\n",
       " 'The Golden Ball and Other Stori - Agatha Christie.txt',\n",
       " 'The Harlequin Tea Set and Other - Agatha Christie.txt',\n",
       " 'The Hollow_ A Hercule Poirot My - Agatha Christie.txt',\n",
       " 'The Hound of Death_ A Short Sto - Agatha Christie.txt',\n",
       " 'The Labours of Hercules_ Hercul - Agatha Christie.txt',\n",
       " 'The Listerdale Mystery_ A Short - Agatha Christie.txt',\n",
       " 'The Man in the Brown Suit - Agatha Christie.txt',\n",
       " \"The Mirror Crack'd From Side to - Agatha Christie.txt\",\n",
       " 'The Moving Finger - Agatha Christie.txt',\n",
       " 'The Murder at the Vicarage - Agatha Christie.txt',\n",
       " 'The Murder on the Links_ A Herc - Agatha Christie.txt',\n",
       " 'The Mysterious Affair at Styles - Agatha Christie.txt',\n",
       " 'The Mysterious Mr. Quin_ A Shor - Agatha Christie.txt',\n",
       " 'The Mystery of the Blue Train_ - Agatha Christie.txt',\n",
       " 'The Pale Horse - Agatha Christie.txt',\n",
       " 'The Regatta Mystery and Other S - Agatha Christie.txt',\n",
       " 'The Secret Adversary_ A Tommy & - Agatha Christie.txt',\n",
       " 'The Secret of Chimneys - Agatha Christie.txt',\n",
       " 'The Seven Dials Mystery - Agatha Christie.txt',\n",
       " 'The Sittaford Mystery - Agatha Christie.txt',\n",
       " 'The Thirteen Problems - Agatha Christie.txt',\n",
       " 'The Under Dog and Other Stories - Agatha Christie.txt',\n",
       " 'The Unexpected Guest - Agatha Christie.txt',\n",
       " 'The Witness for the Prosecution - Agatha Christie.txt',\n",
       " 'They Came to Baghdad - Agatha Christie.txt',\n",
       " 'They Do It With Mirrors - Agatha Christie.txt',\n",
       " 'Third Girl - Agatha Christie.txt',\n",
       " 'Three Act Tragedy_ A Hercule Po - Agatha Christie.txt',\n",
       " 'Three Blind Mice and Other Stor - Agatha Christie.txt',\n",
       " 'Towards Zero - Agatha Christie.txt',\n",
       " 'While the Light Lasts_ A Short - Agatha Christie.txt',\n",
       " \"Why Didn't They Ask Evans_ - Agatha Christie.txt\"]"
      ]
     },
     "execution_count": 5,
     "metadata": {},
     "output_type": "execute_result"
    }
   ],
   "source": [
    "os.listdir(project_path)"
   ]
  },
  {
   "cell_type": "code",
   "execution_count": null,
   "metadata": {},
   "outputs": [],
   "source": []
  }
 ],
 "metadata": {
  "kernelspec": {
   "display_name": "Python 3",
   "language": "python",
   "name": "python3"
  },
  "language_info": {
   "codemirror_mode": {
    "name": "ipython",
    "version": 3
   },
   "file_extension": ".py",
   "mimetype": "text/x-python",
   "name": "python",
   "nbconvert_exporter": "python",
   "pygments_lexer": "ipython3",
   "version": "3.8.5"
  }
 },
 "nbformat": 4,
 "nbformat_minor": 4
}
