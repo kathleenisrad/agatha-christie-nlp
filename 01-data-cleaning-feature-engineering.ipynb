{
 "cells": [
  {
   "cell_type": "markdown",
   "metadata": {},
   "source": [
    "# Cleaning the data and feature engineering\n",
    "\n",
    "In this notebook, I compile all the text from all the books into one dataframe, then do some cleaning and do some feature engineering."
   ]
  },
  {
   "cell_type": "markdown",
   "metadata": {},
   "source": [
    "### Import things"
   ]
  },
  {
   "cell_type": "code",
   "execution_count": 1,
   "metadata": {},
   "outputs": [],
   "source": [
    "import os\n",
    "import gc\n",
    "import string\n",
    "import pandas as pd\n",
    "\n",
    "from nltk.tag import pos_tag\n",
    "from nltk.corpus import stopwords\n",
    "from nltk.stem import PorterStemmer \n",
    "from nltk.tokenize import WordPunctTokenizer\n",
    "\n",
    "from sklearn.feature_extraction.text import CountVectorizer\n",
    "from nltk.sentiment.vader import SentimentIntensityAnalyzer"
   ]
  },
  {
   "cell_type": "code",
   "execution_count": 2,
   "metadata": {},
   "outputs": [],
   "source": [
    "try:\n",
    "    os.mkdir('./CSVs')\n",
    "except:\n",
    "    pass"
   ]
  },
  {
   "cell_type": "code",
   "execution_count": 3,
   "metadata": {},
   "outputs": [
    {
     "data": {
      "text/plain": [
       "['450 From Paddington - Agatha Christie.txt',\n",
       " 'A Caribbean Mystery_ A Miss Mar - Agatha Christie.txt',\n",
       " 'A Murder Is Announced_ A Miss M - Agatha Christie.txt',\n",
       " 'A Pocket Full of Rye - Agatha Christie.txt',\n",
       " 'After the Funeral_ A Hercule Po - Agatha Christie.txt']"
      ]
     },
     "execution_count": 3,
     "metadata": {},
     "output_type": "execute_result"
    }
   ],
   "source": [
    "#look at the names of some of the files in the txt folder\n",
    "txt_path = './TXT'\n",
    "books = os.listdir(txt_path)\n",
    "books[0:5]"
   ]
  },
  {
   "cell_type": "markdown",
   "metadata": {},
   "source": [
    "### Concatenating all the text from all the books:"
   ]
  },
  {
   "cell_type": "code",
   "execution_count": 4,
   "metadata": {},
   "outputs": [
    {
     "data": {
      "text/html": [
       "<div>\n",
       "<style scoped>\n",
       "    .dataframe tbody tr th:only-of-type {\n",
       "        vertical-align: middle;\n",
       "    }\n",
       "\n",
       "    .dataframe tbody tr th {\n",
       "        vertical-align: top;\n",
       "    }\n",
       "\n",
       "    .dataframe thead th {\n",
       "        text-align: right;\n",
       "    }\n",
       "</style>\n",
       "<table border=\"1\" class=\"dataframe\">\n",
       "  <thead>\n",
       "    <tr style=\"text-align: right;\">\n",
       "      <th></th>\n",
       "      <th>title</th>\n",
       "      <th>text</th>\n",
       "    </tr>\n",
       "  </thead>\n",
       "  <tbody>\n",
       "    <tr>\n",
       "      <th>0</th>\n",
       "      <td>450 From Paddington</td>\n",
       "      <td>Agatha Christie 4:50 from Paddington A Miss Ma...</td>\n",
       "    </tr>\n",
       "    <tr>\n",
       "      <th>1</th>\n",
       "      <td>A Caribbean Mystery</td>\n",
       "      <td>Agatha Christie A Caribbean Mystery A Miss Mar...</td>\n",
       "    </tr>\n",
       "    <tr>\n",
       "      <th>2</th>\n",
       "      <td>A Murder Is Announced</td>\n",
       "      <td>Agatha Christie A Murder Is Announced A Miss M...</td>\n",
       "    </tr>\n",
       "    <tr>\n",
       "      <th>3</th>\n",
       "      <td>A Pocket Full of Rye</td>\n",
       "      <td>A Pocket Full of Rye A Miss Marple Mystery Aga...</td>\n",
       "    </tr>\n",
       "    <tr>\n",
       "      <th>4</th>\n",
       "      <td>After the Funeral</td>\n",
       "      <td>Agatha Christie After the Funeral A Hercule Po...</td>\n",
       "    </tr>\n",
       "  </tbody>\n",
       "</table>\n",
       "</div>"
      ],
      "text/plain": [
       "                   title                                               text\n",
       "0    450 From Paddington  Agatha Christie 4:50 from Paddington A Miss Ma...\n",
       "1    A Caribbean Mystery  Agatha Christie A Caribbean Mystery A Miss Mar...\n",
       "2  A Murder Is Announced  Agatha Christie A Murder Is Announced A Miss M...\n",
       "3   A Pocket Full of Rye  A Pocket Full of Rye A Miss Marple Mystery Aga...\n",
       "4      After the Funeral  Agatha Christie After the Funeral A Hercule Po..."
      ]
     },
     "execution_count": 4,
     "metadata": {},
     "output_type": "execute_result"
    }
   ],
   "source": [
    "books_list = []\n",
    "for file in books:  \n",
    "    d={}\n",
    "    book = os.path.join('./TXT', file)\n",
    "    text = pd.read_csv(book, sep='\\n', header=None)[0].str.cat(sep=' ')\n",
    "    d['title'] = file[:-22].split('_')[0]\n",
    "    d['text'] = text\n",
    "    books_list.append(d)\n",
    "df = pd.DataFrame(books_list)\n",
    "df.head()"
   ]
  },
  {
   "cell_type": "markdown",
   "metadata": {},
   "source": [
    "### Extracting the copyright dates for the book:"
   ]
  },
  {
   "cell_type": "code",
   "execution_count": 5,
   "metadata": {},
   "outputs": [],
   "source": [
    "def get_copyright(df):\n",
    "    copyright_list = []\n",
    "    for i in range(len(df['text'])):\n",
    "        for word in range(len(df['text'][i])):\n",
    "            d = {}\n",
    "            if df['text'][i][word] == '©':\n",
    "                d['title'] = df['title'][i] \n",
    "                d['copyright'] = df['text'][i][word: word + 14]\n",
    "                copyright_list.append(d)\n",
    "    \n",
    "    return pd.DataFrame(copyright_list)"
   ]
  },
  {
   "cell_type": "code",
   "execution_count": 6,
   "metadata": {},
   "outputs": [
    {
     "data": {
      "text/html": [
       "<div>\n",
       "<style scoped>\n",
       "    .dataframe tbody tr th:only-of-type {\n",
       "        vertical-align: middle;\n",
       "    }\n",
       "\n",
       "    .dataframe tbody tr th {\n",
       "        vertical-align: top;\n",
       "    }\n",
       "\n",
       "    .dataframe thead th {\n",
       "        text-align: right;\n",
       "    }\n",
       "</style>\n",
       "<table border=\"1\" class=\"dataframe\">\n",
       "  <thead>\n",
       "    <tr style=\"text-align: right;\">\n",
       "      <th></th>\n",
       "      <th>title</th>\n",
       "      <th>copyright</th>\n",
       "    </tr>\n",
       "  </thead>\n",
       "  <tbody>\n",
       "    <tr>\n",
       "      <th>0</th>\n",
       "      <td>450 From Paddington</td>\n",
       "      <td>© 2011 Agatha</td>\n",
       "    </tr>\n",
       "    <tr>\n",
       "      <th>1</th>\n",
       "      <td>450 From Paddington</td>\n",
       "      <td>© 1957. Publis</td>\n",
       "    </tr>\n",
       "    <tr>\n",
       "      <th>2</th>\n",
       "      <td>450 From Paddington</td>\n",
       "      <td>© MAY 2011 ISB</td>\n",
       "    </tr>\n",
       "    <tr>\n",
       "      <th>3</th>\n",
       "      <td>A Caribbean Mystery</td>\n",
       "      <td>© 2011 Agatha</td>\n",
       "    </tr>\n",
       "    <tr>\n",
       "      <th>4</th>\n",
       "      <td>A Caribbean Mystery</td>\n",
       "      <td>© 1965. Publis</td>\n",
       "    </tr>\n",
       "    <tr>\n",
       "      <th>5</th>\n",
       "      <td>A Caribbean Mystery</td>\n",
       "      <td>© MAY 2011 ISB</td>\n",
       "    </tr>\n",
       "    <tr>\n",
       "      <th>6</th>\n",
       "      <td>A Murder Is Announced</td>\n",
       "      <td>© 2011 Agatha</td>\n",
       "    </tr>\n",
       "    <tr>\n",
       "      <th>7</th>\n",
       "      <td>A Murder Is Announced</td>\n",
       "      <td>© 1950. Publis</td>\n",
       "    </tr>\n",
       "    <tr>\n",
       "      <th>8</th>\n",
       "      <td>A Murder Is Announced</td>\n",
       "      <td>© MAY 2011 ISB</td>\n",
       "    </tr>\n",
       "  </tbody>\n",
       "</table>\n",
       "</div>"
      ],
      "text/plain": [
       "                   title       copyright\n",
       "0    450 From Paddington  © 2011 Agatha \n",
       "1    450 From Paddington  © 1957. Publis\n",
       "2    450 From Paddington  © MAY 2011 ISB\n",
       "3    A Caribbean Mystery  © 2011 Agatha \n",
       "4    A Caribbean Mystery  © 1965. Publis\n",
       "5    A Caribbean Mystery  © MAY 2011 ISB\n",
       "6  A Murder Is Announced  © 2011 Agatha \n",
       "7  A Murder Is Announced  © 1950. Publis\n",
       "8  A Murder Is Announced  © MAY 2011 ISB"
      ]
     },
     "execution_count": 6,
     "metadata": {},
     "output_type": "execute_result"
    }
   ],
   "source": [
    "copyright_df = get_copyright(df)\n",
    "copyright_df.head(9)"
   ]
  },
  {
   "cell_type": "markdown",
   "metadata": {},
   "source": [
    "#### It looks like each book has 3 copy right dates. I only want the original copyright date\n",
    "I assume the original copyright date is the earliest year"
   ]
  },
  {
   "cell_type": "code",
   "execution_count": 7,
   "metadata": {},
   "outputs": [],
   "source": [
    "copyright_df['year'] = copyright_df['copyright'].map(lambda x: ''.join([y for y in list(x) if y in '0123456789']))\n",
    "\n",
    "#drop blank years\n",
    "copyright_df = copyright_df[copyright_df['year'] != '']\n",
    "\n",
    "#convert year strings into integers\n",
    "copyright_df['year'] = copyright_df['year'].astype(int)\n",
    "\n",
    "#also get rid of any years that are like, 201:\n",
    "copyright_df = copyright_df[copyright_df['year'] > 1000]\n",
    "\n",
    "#sort by name, then sort by year\n",
    "copyright_df = copyright_df.sort_values(['title', 'year'], ascending = [True, True])\n",
    "copyright_df.head(20)\n",
    "\n",
    "#drop duplicates, keep the earliest year\n",
    "copyright_df = copyright_df.drop_duplicates(subset='title', keep='first').reset_index(drop=True)"
   ]
  },
  {
   "cell_type": "code",
   "execution_count": 8,
   "metadata": {
    "scrolled": true
   },
   "outputs": [],
   "source": [
    "df = pd.merge(df, copyright_df, left_on='title', right_on = 'title')\n",
    "df = df.drop('copyright', axis=1)"
   ]
  },
  {
   "cell_type": "markdown",
   "metadata": {},
   "source": [
    "### Cleaning the df\n",
    "Get rid of text that wasn't written by Agatha Christie"
   ]
  },
  {
   "cell_type": "code",
   "execution_count": 9,
   "metadata": {},
   "outputs": [],
   "source": [
    "#split by 'about the publisher' if the book has one:\n",
    "for row in range(len(df)):\n",
    "     if int(len(df.loc[row]['text'].lower().split('about the publisher'))) > 1:\n",
    "        df.loc[row, 'text'] = df.loc[row]['text'].lower().split('about the publisher')[1]"
   ]
  },
  {
   "cell_type": "code",
   "execution_count": 10,
   "metadata": {},
   "outputs": [],
   "source": [
    "for row in range(len(df)):\n",
    "    if 3 > int(len(df.loc[row]['text'].lower().split('about the author'))) > 1:\n",
    "        df.loc[row, 'text'] = df.loc[row]['text'].lower().split('about the author')[0]\n",
    "    elif int(len(df.loc[row]['text'].lower().split('about the author'))) == 3:\n",
    "        df.loc[row, 'text'] = df.loc[row]['text'].lower().split('about the author')[1]"
   ]
  },
  {
   "cell_type": "code",
   "execution_count": 11,
   "metadata": {},
   "outputs": [],
   "source": [
    "for row in range(len(df)):\n",
    "     if int(len(df.loc[row]['text'].lower().split('* * *'))) > 1:\n",
    "        df.loc[row, 'text'] = df.loc[row]['text'].lower().split('* * *')[0]"
   ]
  },
  {
   "cell_type": "code",
   "execution_count": 12,
   "metadata": {},
   "outputs": [],
   "source": [
    "for row in range(len(df)):\n",
    "     if int(len(df.loc[row]['text'].lower().split('about the publisher'))) > 1:\n",
    "        df.loc[row, 'text'] = df.loc[row]['text'].lower().split('e-book')[0]"
   ]
  },
  {
   "cell_type": "markdown",
   "metadata": {},
   "source": [
    "### Remove forewords/introductions by different people"
   ]
  },
  {
   "cell_type": "code",
   "execution_count": 13,
   "metadata": {},
   "outputs": [],
   "source": [
    "#get rid of everything before prologue if the book has a prologue\n",
    "for row in range(len(df)):\n",
    "     if int(len(df.loc[row]['text'].split('prologue'))) > 1:\n",
    "        df.loc[row, 'text'] = df.loc[row]['text'].split('prologue')[1]"
   ]
  },
  {
   "cell_type": "code",
   "execution_count": 14,
   "metadata": {},
   "outputs": [],
   "source": [
    "#the mysterious affairs at styles didn't have a prologue, so I'm splitting by the last sentence before the book starts\n",
    "for row in range(len(df)):\n",
    "     if int(len(df.loc[row]['text'].split('contents in my two books Agatha Christies Secret Notebooks and Murder in the Making published by HarperCollins'.lower()))) > 1:\n",
    "        df.loc[row, 'text'] = df.loc[row]['text'].split('contents in my two books Agatha Christies Secret Notebooks and Murder in the Making published by HarperCollins'.lower())[1]"
   ]
  },
  {
   "cell_type": "code",
   "execution_count": 15,
   "metadata": {},
   "outputs": [],
   "source": [
    "#getting rid of foreword in The ABC Murders\n",
    "for row in range(len(df)):\n",
    "     if int(len(df.loc[row]['text'].split('real genius in the way he tackled a problem entirely unlike any which had previously come his way'.lower()))) > 1:\n",
    "        df.loc[row, 'text'] = df.loc[row]['text'].split('real genius in the way he tackled a problem entirely unlike any which had previously come his way'.lower())[1]"
   ]
  },
  {
   "cell_type": "code",
   "execution_count": 16,
   "metadata": {},
   "outputs": [],
   "source": [
    "#getting rid of introductin on the seven dials mystery\n",
    "for row in range(len(df)):\n",
    "     if int(len(df.loc[row]['text'].split('the quickness of christies hand still continues to deceive our eyes all those years later'))) > 1:\n",
    "        df.loc[row, 'text'] = df.loc[row]['text'].split('the quickness of christies hand still continues to deceive our eyes all those years later')[1]"
   ]
  },
  {
   "cell_type": "code",
   "execution_count": 17,
   "metadata": {},
   "outputs": [],
   "source": [
    "for row in range(len(df)):\n",
    "    if df.loc[row]['text'][:1] == ' ':\n",
    "        df.loc[row,'text'] = df.loc[row]['text'][1:]\n",
    "        \n",
    "for row in range(len(df)):\n",
    "    if df.loc[row]['text'][:2] == 'i ':\n",
    "        df.loc[row,'text'] = df.loc[row]['text'][2:]\n",
    "        \n",
    "for row in range(len(df)):\n",
    "    if df.loc[row]['text'][:3] == 'one':\n",
    "        df.loc[row,'text'] = df.loc[row]['text'][3:]\n",
    "        \n",
    "for row in range(len(df)):\n",
    "    if df.loc[row]['text'][:11] == 'chapter one':\n",
    "        df.loc[row,'text'] = df.loc[row]['text'][11:]"
   ]
  },
  {
   "cell_type": "markdown",
   "metadata": {},
   "source": [
    "### Drop the short stories:\n",
    "Dropany books with fewer than 45000 words"
   ]
  },
  {
   "cell_type": "code",
   "execution_count": 18,
   "metadata": {},
   "outputs": [],
   "source": [
    "df = df[df['text'].map(lambda x: len(x.split(' '))) >  45000].reset_index(drop=True)"
   ]
  },
  {
   "cell_type": "markdown",
   "metadata": {},
   "source": [
    "### Look through the books and fix years/drop the short stories\n",
    "Research what these books are/when they were published and decide whether or not to keep them"
   ]
  },
  {
   "cell_type": "code",
   "execution_count": 19,
   "metadata": {
    "scrolled": false
   },
   "outputs": [
    {
     "data": {
      "text/html": [
       "<div>\n",
       "<style scoped>\n",
       "    .dataframe tbody tr th:only-of-type {\n",
       "        vertical-align: middle;\n",
       "    }\n",
       "\n",
       "    .dataframe tbody tr th {\n",
       "        vertical-align: top;\n",
       "    }\n",
       "\n",
       "    .dataframe thead th {\n",
       "        text-align: right;\n",
       "    }\n",
       "</style>\n",
       "<table border=\"1\" class=\"dataframe\">\n",
       "  <thead>\n",
       "    <tr style=\"text-align: right;\">\n",
       "      <th></th>\n",
       "      <th>title</th>\n",
       "      <th>text</th>\n",
       "      <th>year</th>\n",
       "    </tr>\n",
       "  </thead>\n",
       "  <tbody>\n",
       "    <tr>\n",
       "      <th>0</th>\n",
       "      <td>450 From Paddington</td>\n",
       "      <td>mrs. mcgillicuddy panted along the platform i...</td>\n",
       "      <td>1957</td>\n",
       "    </tr>\n",
       "    <tr>\n",
       "      <th>1</th>\n",
       "      <td>A Caribbean Mystery</td>\n",
       "      <td>major palgrave tells a story “take all this b...</td>\n",
       "      <td>1965</td>\n",
       "    </tr>\n",
       "    <tr>\n",
       "      <th>2</th>\n",
       "      <td>A Murder Is Announced</td>\n",
       "      <td>a murder is announced i between 7:30 and 8:30...</td>\n",
       "      <td>1950</td>\n",
       "    </tr>\n",
       "    <tr>\n",
       "      <th>3</th>\n",
       "      <td>A Pocket Full of Rye</td>\n",
       "      <td>it was miss somers’s turn to make the tea. mi...</td>\n",
       "      <td>1954</td>\n",
       "    </tr>\n",
       "    <tr>\n",
       "      <th>4</th>\n",
       "      <td>After the Funeral</td>\n",
       "      <td>i old lanscombe moved totteringly from room t...</td>\n",
       "      <td>1953</td>\n",
       "    </tr>\n",
       "    <tr>\n",
       "      <th>5</th>\n",
       "      <td>An Autobiography</td>\n",
       "      <td>s’ society and i had read their periodical. i ...</td>\n",
       "      <td>1977</td>\n",
       "    </tr>\n",
       "    <tr>\n",
       "      <th>6</th>\n",
       "      <td>And Then There Were None</td>\n",
       "      <td>author’s note i had written this book because ...</td>\n",
       "      <td>2009</td>\n",
       "    </tr>\n",
       "    <tr>\n",
       "      <th>7</th>\n",
       "      <td>Appointment With Death</td>\n",
       "      <td>part i chapter 1 ‘you do see, don’t you, that ...</td>\n",
       "      <td>1938</td>\n",
       "    </tr>\n",
       "    <tr>\n",
       "      <th>8</th>\n",
       "      <td>At Bertram's Hotel</td>\n",
       "      <td>in the heart of the west end, there are many ...</td>\n",
       "      <td>1966</td>\n",
       "    </tr>\n",
       "    <tr>\n",
       "      <th>9</th>\n",
       "      <td>Black Coffee</td>\n",
       "      <td>foreword it was almost certainly because of he...</td>\n",
       "      <td>1997</td>\n",
       "    </tr>\n",
       "    <tr>\n",
       "      <th>10</th>\n",
       "      <td>By the Pricking of My Thumbs</td>\n",
       "      <td>book 1 sunny ridge one aunt ada mr. and mrs. b...</td>\n",
       "      <td>1968</td>\n",
       "    </tr>\n",
       "    <tr>\n",
       "      <th>11</th>\n",
       "      <td>Cards on the Table</td>\n",
       "      <td>foreword there is an idea prevalent that a det...</td>\n",
       "      <td>1936</td>\n",
       "    </tr>\n",
       "    <tr>\n",
       "      <th>12</th>\n",
       "      <td>Cat Among the Pigeons</td>\n",
       "      <td>summer term i it was the opening day of the su...</td>\n",
       "      <td>1959</td>\n",
       "    </tr>\n",
       "    <tr>\n",
       "      <th>13</th>\n",
       "      <td>Crooked House</td>\n",
       "      <td>author’s foreword this book is one of my own s...</td>\n",
       "      <td>1949</td>\n",
       "    </tr>\n",
       "    <tr>\n",
       "      <th>14</th>\n",
       "      <td>Curtain</td>\n",
       "      <td>i who is there who has not felt a sudden star...</td>\n",
       "      <td>1975</td>\n",
       "    </tr>\n",
       "    <tr>\n",
       "      <th>15</th>\n",
       "      <td>Dead Man's Folly</td>\n",
       "      <td>i it was miss lemon, poirot’s efficient secre...</td>\n",
       "      <td>1956</td>\n",
       "    </tr>\n",
       "    <tr>\n",
       "      <th>16</th>\n",
       "      <td>Death Comes as the End</td>\n",
       "      <td>author’s note the action of this book takes pl...</td>\n",
       "      <td>1944</td>\n",
       "    </tr>\n",
       "    <tr>\n",
       "      <th>17</th>\n",
       "      <td>Death in the Clouds</td>\n",
       "      <td>plan of rear car ‘prometheus’ passengers seat ...</td>\n",
       "      <td>1935</td>\n",
       "    </tr>\n",
       "    <tr>\n",
       "      <th>18</th>\n",
       "      <td>Death on the Nile</td>\n",
       "      <td>i “linnet ridgeway!” “that’s her!” said mr. b...</td>\n",
       "      <td>1938</td>\n",
       "    </tr>\n",
       "    <tr>\n",
       "      <th>19</th>\n",
       "      <td>Destination Unknown</td>\n",
       "      <td>the man behind the desk moved a heavy glass p...</td>\n",
       "      <td>1954</td>\n",
       "    </tr>\n",
       "    <tr>\n",
       "      <th>20</th>\n",
       "      <td>Double Sin and Other Stories</td>\n",
       "      <td>double sin “double sin” was first published a...</td>\n",
       "      <td>1961</td>\n",
       "    </tr>\n",
       "    <tr>\n",
       "      <th>21</th>\n",
       "      <td>Dumb Witness</td>\n",
       "      <td>the mistress of littlegreen house miss arunde...</td>\n",
       "      <td>1937</td>\n",
       "    </tr>\n",
       "    <tr>\n",
       "      <th>22</th>\n",
       "      <td>Elephants Can Remember</td>\n",
       "      <td>a literary luncheon mrs. oliver looked at her...</td>\n",
       "      <td>1972</td>\n",
       "    </tr>\n",
       "    <tr>\n",
       "      <th>23</th>\n",
       "      <td>Endless Night</td>\n",
       "      <td>book one one in my end is my beginning… that’s...</td>\n",
       "      <td>1968</td>\n",
       "    </tr>\n",
       "    <tr>\n",
       "      <th>24</th>\n",
       "      <td>Evil Under the Sun</td>\n",
       "      <td>map one when captain roger angmering built him...</td>\n",
       "      <td>1941</td>\n",
       "    </tr>\n",
       "    <tr>\n",
       "      <th>25</th>\n",
       "      <td>Five Little Pigs</td>\n",
       "      <td>introduction carla lemarchant hercule poirot l...</td>\n",
       "      <td>1942</td>\n",
       "    </tr>\n",
       "    <tr>\n",
       "      <th>26</th>\n",
       "      <td>Hallowe'en Party</td>\n",
       "      <td>mrs. ariadne oliver had gone with the friend ...</td>\n",
       "      <td>1969</td>\n",
       "    </tr>\n",
       "    <tr>\n",
       "      <th>27</th>\n",
       "      <td>Hercule Poirot's Christmas</td>\n",
       "      <td>part one december 22nd stephen pulled up the c...</td>\n",
       "      <td>1938</td>\n",
       "    </tr>\n",
       "    <tr>\n",
       "      <th>28</th>\n",
       "      <td>Hercule Poirot</td>\n",
       "      <td>foreword: who is hercule poirot? he was born i...</td>\n",
       "      <td>1924</td>\n",
       "    </tr>\n",
       "    <tr>\n",
       "      <th>29</th>\n",
       "      <td>Hickory Dickory Dock</td>\n",
       "      <td>hercule poirot frowned. “miss lemon,” he said...</td>\n",
       "      <td>1955</td>\n",
       "    </tr>\n",
       "    <tr>\n",
       "      <th>30</th>\n",
       "      <td>Lord Edgware Dies</td>\n",
       "      <td>a theatrical party the memory of the public i...</td>\n",
       "      <td>1933</td>\n",
       "    </tr>\n",
       "    <tr>\n",
       "      <th>31</th>\n",
       "      <td>Miss Marple's Final Cases</td>\n",
       "      <td>sanctuary i the vicar’s wife came round the co...</td>\n",
       "      <td>1979</td>\n",
       "    </tr>\n",
       "    <tr>\n",
       "      <th>32</th>\n",
       "      <td>Miss Marple</td>\n",
       "      <td>author’s foreword to the thirteen problems the...</td>\n",
       "      <td>2011</td>\n",
       "    </tr>\n",
       "    <tr>\n",
       "      <th>33</th>\n",
       "      <td>Mrs. McGinty's Dead</td>\n",
       "      <td>hercule poirot came out of the vieille grand’...</td>\n",
       "      <td>1952</td>\n",
       "    </tr>\n",
       "    <tr>\n",
       "      <th>34</th>\n",
       "      <td>Murder in Mesopotamia</td>\n",
       "      <td>copyright one frontispiece in the hall of the ...</td>\n",
       "      <td>1936</td>\n",
       "    </tr>\n",
       "    <tr>\n",
       "      <th>35</th>\n",
       "      <td>Murder in the Mews</td>\n",
       "      <td>s other works copyright murder in the mews one...</td>\n",
       "      <td>1937</td>\n",
       "    </tr>\n",
       "    <tr>\n",
       "      <th>36</th>\n",
       "      <td>Murder Is Easy</td>\n",
       "      <td>a fellow traveller england! england after man...</td>\n",
       "      <td>1939</td>\n",
       "    </tr>\n",
       "    <tr>\n",
       "      <th>37</th>\n",
       "      <td>Murder on the Orient Express</td>\n",
       "      <td>part one the facts one an important passenger ...</td>\n",
       "      <td>1934</td>\n",
       "    </tr>\n",
       "    <tr>\n",
       "      <th>38</th>\n",
       "      <td>N or M</td>\n",
       "      <td>tommy beresford removed his overcoat in the h...</td>\n",
       "      <td>1941</td>\n",
       "    </tr>\n",
       "    <tr>\n",
       "      <th>39</th>\n",
       "      <td>Nemesis</td>\n",
       "      <td>overture in the afternoons it was the custom ...</td>\n",
       "      <td>1971</td>\n",
       "    </tr>\n",
       "    <tr>\n",
       "      <th>40</th>\n",
       "      <td>One, Two, Buckle My Shoe</td>\n",
       "      <td>, two, buckle my shoe i mr. morley was not in ...</td>\n",
       "      <td>1940</td>\n",
       "    </tr>\n",
       "    <tr>\n",
       "      <th>41</th>\n",
       "      <td>Ordeal by Innocence</td>\n",
       "      <td>i it was dusk when he came to the ferry. he c...</td>\n",
       "      <td>1959</td>\n",
       "    </tr>\n",
       "    <tr>\n",
       "      <th>42</th>\n",
       "      <td>Parker Pyne Investigates</td>\n",
       "      <td>the case of the middle-aged wife “the case of...</td>\n",
       "      <td>1934</td>\n",
       "    </tr>\n",
       "    <tr>\n",
       "      <th>43</th>\n",
       "      <td>Partners in Crime</td>\n",
       "      <td>a fairy in the flat mrs. thomas beresford shi...</td>\n",
       "      <td>1929</td>\n",
       "    </tr>\n",
       "    <tr>\n",
       "      <th>44</th>\n",
       "      <td>Passenger to Frankfurt</td>\n",
       "      <td>introduction the author speaks: the first ques...</td>\n",
       "      <td>1970</td>\n",
       "    </tr>\n",
       "    <tr>\n",
       "      <th>45</th>\n",
       "      <td>Peril at End House</td>\n",
       "      <td>the majestic hotel no seaside town in the sou...</td>\n",
       "      <td>1932</td>\n",
       "    </tr>\n",
       "    <tr>\n",
       "      <th>46</th>\n",
       "      <td>Poirot Investigates</td>\n",
       "      <td>other works copyright one the adventure of “th...</td>\n",
       "      <td>1924</td>\n",
       "    </tr>\n",
       "    <tr>\n",
       "      <th>47</th>\n",
       "      <td>Poirot's Early Cases</td>\n",
       "      <td>the affair at the victory ball i pure chance l...</td>\n",
       "      <td>1974</td>\n",
       "    </tr>\n",
       "    <tr>\n",
       "      <th>48</th>\n",
       "      <td>Postern of Fate</td>\n",
       "      <td>book i one mainly concerning books “books!” sa...</td>\n",
       "      <td>1973</td>\n",
       "    </tr>\n",
       "    <tr>\n",
       "      <th>49</th>\n",
       "      <td>Sad Cypress</td>\n",
       "      <td>“elinor katharine carlisle. you stand charged ...</td>\n",
       "      <td>1940</td>\n",
       "    </tr>\n",
       "    <tr>\n",
       "      <th>50</th>\n",
       "      <td>Sleeping Murder</td>\n",
       "      <td>a house gwenda reed stood, shivering a little...</td>\n",
       "      <td>1976</td>\n",
       "    </tr>\n",
       "    <tr>\n",
       "      <th>51</th>\n",
       "      <td>Sparkling Cyanide</td>\n",
       "      <td>book 1 rosemary “what can i do to drive away r...</td>\n",
       "      <td>1945</td>\n",
       "    </tr>\n",
       "    <tr>\n",
       "      <th>52</th>\n",
       "      <td>Taken at the Flood</td>\n",
       "      <td>in every club there is a club bore. the corona...</td>\n",
       "      <td>1948</td>\n",
       "    </tr>\n",
       "    <tr>\n",
       "      <th>53</th>\n",
       "      <td>The A.B.C. Murders</td>\n",
       "      <td>. one the letter it was in june of 1935 that i...</td>\n",
       "      <td>1936</td>\n",
       "    </tr>\n",
       "    <tr>\n",
       "      <th>54</th>\n",
       "      <td>The Adventure of the Christmas</td>\n",
       "      <td>foreword by agatha christie this book of chris...</td>\n",
       "      <td>1960</td>\n",
       "    </tr>\n",
       "    <tr>\n",
       "      <th>55</th>\n",
       "      <td>The Big Four</td>\n",
       "      <td>the unexpected guest i have met people who en...</td>\n",
       "      <td>1927</td>\n",
       "    </tr>\n",
       "    <tr>\n",
       "      <th>56</th>\n",
       "      <td>The Body in the Library</td>\n",
       "      <td>foreword there are certain clichés belonging t...</td>\n",
       "      <td>1942</td>\n",
       "    </tr>\n",
       "    <tr>\n",
       "      <th>57</th>\n",
       "      <td>The Clocks</td>\n",
       "      <td>the afternoon of the 9th of september was exac...</td>\n",
       "      <td>1963</td>\n",
       "    </tr>\n",
       "    <tr>\n",
       "      <th>58</th>\n",
       "      <td>The Golden Ball and Other Stori</td>\n",
       "      <td>the listerdale mystery “the listerdale myster...</td>\n",
       "      <td>1971</td>\n",
       "    </tr>\n",
       "    <tr>\n",
       "      <th>59</th>\n",
       "      <td>The Harlequin Tea Set and Other</td>\n",
       "      <td>the edge “the edge” was first published in pe...</td>\n",
       "      <td>1997</td>\n",
       "    </tr>\n",
       "    <tr>\n",
       "      <th>60</th>\n",
       "      <td>The Hollow</td>\n",
       "      <td>at six thirteen a.m. on a friday morning lucy...</td>\n",
       "      <td>1946</td>\n",
       "    </tr>\n",
       "    <tr>\n",
       "      <th>61</th>\n",
       "      <td>The Labours of Hercules</td>\n",
       "      <td>other works copyright foreword hercule poirot’...</td>\n",
       "      <td>1947</td>\n",
       "    </tr>\n",
       "    <tr>\n",
       "      <th>62</th>\n",
       "      <td>The Man in the Brown Suit</td>\n",
       "      <td>nadina, the russian dancer who had taken paris...</td>\n",
       "      <td>1924</td>\n",
       "    </tr>\n",
       "    <tr>\n",
       "      <th>63</th>\n",
       "      <td>The Mirror Crack'd From Side to</td>\n",
       "      <td>i miss jane marple was sitting by her window....</td>\n",
       "      <td>2011</td>\n",
       "    </tr>\n",
       "    <tr>\n",
       "      <th>64</th>\n",
       "      <td>The Moving Finger</td>\n",
       "      <td>i when at last i was taken out of the plaster...</td>\n",
       "      <td>1942</td>\n",
       "    </tr>\n",
       "    <tr>\n",
       "      <th>65</th>\n",
       "      <td>The Murder at the Vicarage</td>\n",
       "      <td>it is difficult to know quite where to begin ...</td>\n",
       "      <td>1930</td>\n",
       "    </tr>\n",
       "    <tr>\n",
       "      <th>66</th>\n",
       "      <td>The Murder on the Links</td>\n",
       "      <td>a fellow traveller i believe that a well-know...</td>\n",
       "      <td>1923</td>\n",
       "    </tr>\n",
       "    <tr>\n",
       "      <th>67</th>\n",
       "      <td>The Mysterious Affair at Styles</td>\n",
       "      <td>the mysterious affair at styles: an introducti...</td>\n",
       "      <td>1920</td>\n",
       "    </tr>\n",
       "    <tr>\n",
       "      <th>68</th>\n",
       "      <td>The Mysterious Mr. Quin</td>\n",
       "      <td>the coming of mr. quin “the coming of mr. qui...</td>\n",
       "      <td>1930</td>\n",
       "    </tr>\n",
       "    <tr>\n",
       "      <th>69</th>\n",
       "      <td>The Mystery of the Blue Train</td>\n",
       "      <td>other works copyright one the man with the whi...</td>\n",
       "      <td>1928</td>\n",
       "    </tr>\n",
       "    <tr>\n",
       "      <th>70</th>\n",
       "      <td>The Pale Horse</td>\n",
       "      <td>mark easterbrook’s narrative i the espresso m...</td>\n",
       "      <td>1961</td>\n",
       "    </tr>\n",
       "    <tr>\n",
       "      <th>71</th>\n",
       "      <td>The Secret Adversary</td>\n",
       "      <td>it was 2 p.m. on the afternoon of may 7th, 191...</td>\n",
       "      <td>1922</td>\n",
       "    </tr>\n",
       "    <tr>\n",
       "      <th>72</th>\n",
       "      <td>The Secret of Chimneys</td>\n",
       "      <td>anthony cade signs on “gentleman joe!” “why, ...</td>\n",
       "      <td>1925</td>\n",
       "    </tr>\n",
       "    <tr>\n",
       "      <th>73</th>\n",
       "      <td>The Seven Dials Mystery</td>\n",
       "      <td>introduction by val mcdermid things that every...</td>\n",
       "      <td>1929</td>\n",
       "    </tr>\n",
       "    <tr>\n",
       "      <th>74</th>\n",
       "      <td>The Sittaford Mystery</td>\n",
       "      <td>sittaford house major burnaby drew on his gum...</td>\n",
       "      <td>1931</td>\n",
       "    </tr>\n",
       "    <tr>\n",
       "      <th>75</th>\n",
       "      <td>The Thirteen Problems</td>\n",
       "      <td>chapter 1 the tuesday night club ‘unsolved mys...</td>\n",
       "      <td>1932</td>\n",
       "    </tr>\n",
       "    <tr>\n",
       "      <th>76</th>\n",
       "      <td>The Under Dog and Other Stories</td>\n",
       "      <td>the under dog “the under dog” was first publi...</td>\n",
       "      <td>1951</td>\n",
       "    </tr>\n",
       "    <tr>\n",
       "      <th>77</th>\n",
       "      <td>The Witness for the Prosecution</td>\n",
       "      <td>the witness for the prosecution “the witness ...</td>\n",
       "      <td>1948</td>\n",
       "    </tr>\n",
       "    <tr>\n",
       "      <th>78</th>\n",
       "      <td>They Came to Baghdad</td>\n",
       "      <td>footnote section one i captain crosbie came ou...</td>\n",
       "      <td>1951</td>\n",
       "    </tr>\n",
       "    <tr>\n",
       "      <th>79</th>\n",
       "      <td>They Do It With Mirrors</td>\n",
       "      <td>mrs. van rydock moved a little back from the ...</td>\n",
       "      <td>1952</td>\n",
       "    </tr>\n",
       "    <tr>\n",
       "      <th>80</th>\n",
       "      <td>Third Girl</td>\n",
       "      <td>hercule poirot was sitting at the breakfast t...</td>\n",
       "      <td>1966</td>\n",
       "    </tr>\n",
       "    <tr>\n",
       "      <th>81</th>\n",
       "      <td>Three Act Tragedy</td>\n",
       "      <td>directed by sir charles cartwright assistant d...</td>\n",
       "      <td>1934</td>\n",
       "    </tr>\n",
       "    <tr>\n",
       "      <th>82</th>\n",
       "      <td>Three Blind Mice and Other Stor</td>\n",
       "      <td>three blind mice it was very cold. the sky wa...</td>\n",
       "      <td>1950</td>\n",
       "    </tr>\n",
       "    <tr>\n",
       "      <th>83</th>\n",
       "      <td>Towards Zero</td>\n",
       "      <td>november 19th the group round the fireplace wa...</td>\n",
       "      <td>1944</td>\n",
       "    </tr>\n",
       "    <tr>\n",
       "      <th>84</th>\n",
       "      <td>Why Didn't They Ask Evans</td>\n",
       "      <td>the accident bobby jones teed up his ball, ga...</td>\n",
       "      <td>1934</td>\n",
       "    </tr>\n",
       "  </tbody>\n",
       "</table>\n",
       "</div>"
      ],
      "text/plain": [
       "                              title  \\\n",
       "0               450 From Paddington   \n",
       "1               A Caribbean Mystery   \n",
       "2             A Murder Is Announced   \n",
       "3              A Pocket Full of Rye   \n",
       "4                 After the Funeral   \n",
       "5                  An Autobiography   \n",
       "6          And Then There Were None   \n",
       "7            Appointment With Death   \n",
       "8                At Bertram's Hotel   \n",
       "9                      Black Coffee   \n",
       "10     By the Pricking of My Thumbs   \n",
       "11               Cards on the Table   \n",
       "12            Cat Among the Pigeons   \n",
       "13                    Crooked House   \n",
       "14                          Curtain   \n",
       "15                 Dead Man's Folly   \n",
       "16           Death Comes as the End   \n",
       "17              Death in the Clouds   \n",
       "18                Death on the Nile   \n",
       "19              Destination Unknown   \n",
       "20     Double Sin and Other Stories   \n",
       "21                     Dumb Witness   \n",
       "22           Elephants Can Remember   \n",
       "23                    Endless Night   \n",
       "24               Evil Under the Sun   \n",
       "25                 Five Little Pigs   \n",
       "26                 Hallowe'en Party   \n",
       "27       Hercule Poirot's Christmas   \n",
       "28                   Hercule Poirot   \n",
       "29             Hickory Dickory Dock   \n",
       "30                Lord Edgware Dies   \n",
       "31        Miss Marple's Final Cases   \n",
       "32                      Miss Marple   \n",
       "33              Mrs. McGinty's Dead   \n",
       "34            Murder in Mesopotamia   \n",
       "35               Murder in the Mews   \n",
       "36                   Murder Is Easy   \n",
       "37     Murder on the Orient Express   \n",
       "38                           N or M   \n",
       "39                          Nemesis   \n",
       "40         One, Two, Buckle My Shoe   \n",
       "41              Ordeal by Innocence   \n",
       "42         Parker Pyne Investigates   \n",
       "43                Partners in Crime   \n",
       "44           Passenger to Frankfurt   \n",
       "45               Peril at End House   \n",
       "46              Poirot Investigates   \n",
       "47             Poirot's Early Cases   \n",
       "48                  Postern of Fate   \n",
       "49                      Sad Cypress   \n",
       "50                  Sleeping Murder   \n",
       "51                Sparkling Cyanide   \n",
       "52               Taken at the Flood   \n",
       "53               The A.B.C. Murders   \n",
       "54   The Adventure of the Christmas   \n",
       "55                     The Big Four   \n",
       "56          The Body in the Library   \n",
       "57                       The Clocks   \n",
       "58  The Golden Ball and Other Stori   \n",
       "59  The Harlequin Tea Set and Other   \n",
       "60                       The Hollow   \n",
       "61          The Labours of Hercules   \n",
       "62        The Man in the Brown Suit   \n",
       "63  The Mirror Crack'd From Side to   \n",
       "64                The Moving Finger   \n",
       "65       The Murder at the Vicarage   \n",
       "66          The Murder on the Links   \n",
       "67  The Mysterious Affair at Styles   \n",
       "68          The Mysterious Mr. Quin   \n",
       "69    The Mystery of the Blue Train   \n",
       "70                   The Pale Horse   \n",
       "71             The Secret Adversary   \n",
       "72           The Secret of Chimneys   \n",
       "73          The Seven Dials Mystery   \n",
       "74            The Sittaford Mystery   \n",
       "75            The Thirteen Problems   \n",
       "76  The Under Dog and Other Stories   \n",
       "77  The Witness for the Prosecution   \n",
       "78             They Came to Baghdad   \n",
       "79          They Do It With Mirrors   \n",
       "80                       Third Girl   \n",
       "81                Three Act Tragedy   \n",
       "82  Three Blind Mice and Other Stor   \n",
       "83                     Towards Zero   \n",
       "84        Why Didn't They Ask Evans   \n",
       "\n",
       "                                                 text  year  \n",
       "0    mrs. mcgillicuddy panted along the platform i...  1957  \n",
       "1    major palgrave tells a story “take all this b...  1965  \n",
       "2    a murder is announced i between 7:30 and 8:30...  1950  \n",
       "3    it was miss somers’s turn to make the tea. mi...  1954  \n",
       "4    i old lanscombe moved totteringly from room t...  1953  \n",
       "5   s’ society and i had read their periodical. i ...  1977  \n",
       "6   author’s note i had written this book because ...  2009  \n",
       "7   part i chapter 1 ‘you do see, don’t you, that ...  1938  \n",
       "8    in the heart of the west end, there are many ...  1966  \n",
       "9   foreword it was almost certainly because of he...  1997  \n",
       "10  book 1 sunny ridge one aunt ada mr. and mrs. b...  1968  \n",
       "11  foreword there is an idea prevalent that a det...  1936  \n",
       "12  summer term i it was the opening day of the su...  1959  \n",
       "13  author’s foreword this book is one of my own s...  1949  \n",
       "14   i who is there who has not felt a sudden star...  1975  \n",
       "15   i it was miss lemon, poirot’s efficient secre...  1956  \n",
       "16  author’s note the action of this book takes pl...  1944  \n",
       "17  plan of rear car ‘prometheus’ passengers seat ...  1935  \n",
       "18   i “linnet ridgeway!” “that’s her!” said mr. b...  1938  \n",
       "19   the man behind the desk moved a heavy glass p...  1954  \n",
       "20   double sin “double sin” was first published a...  1961  \n",
       "21   the mistress of littlegreen house miss arunde...  1937  \n",
       "22   a literary luncheon mrs. oliver looked at her...  1972  \n",
       "23  book one one in my end is my beginning… that’s...  1968  \n",
       "24  map one when captain roger angmering built him...  1941  \n",
       "25  introduction carla lemarchant hercule poirot l...  1942  \n",
       "26   mrs. ariadne oliver had gone with the friend ...  1969  \n",
       "27  part one december 22nd stephen pulled up the c...  1938  \n",
       "28  foreword: who is hercule poirot? he was born i...  1924  \n",
       "29   hercule poirot frowned. “miss lemon,” he said...  1955  \n",
       "30   a theatrical party the memory of the public i...  1933  \n",
       "31  sanctuary i the vicar’s wife came round the co...  1979  \n",
       "32  author’s foreword to the thirteen problems the...  2011  \n",
       "33   hercule poirot came out of the vieille grand’...  1952  \n",
       "34  copyright one frontispiece in the hall of the ...  1936  \n",
       "35  s other works copyright murder in the mews one...  1937  \n",
       "36   a fellow traveller england! england after man...  1939  \n",
       "37  part one the facts one an important passenger ...  1934  \n",
       "38   tommy beresford removed his overcoat in the h...  1941  \n",
       "39   overture in the afternoons it was the custom ...  1971  \n",
       "40  , two, buckle my shoe i mr. morley was not in ...  1940  \n",
       "41   i it was dusk when he came to the ferry. he c...  1959  \n",
       "42   the case of the middle-aged wife “the case of...  1934  \n",
       "43   a fairy in the flat mrs. thomas beresford shi...  1929  \n",
       "44  introduction the author speaks: the first ques...  1970  \n",
       "45   the majestic hotel no seaside town in the sou...  1932  \n",
       "46  other works copyright one the adventure of “th...  1924  \n",
       "47  the affair at the victory ball i pure chance l...  1974  \n",
       "48  book i one mainly concerning books “books!” sa...  1973  \n",
       "49  “elinor katharine carlisle. you stand charged ...  1940  \n",
       "50   a house gwenda reed stood, shivering a little...  1976  \n",
       "51  book 1 rosemary “what can i do to drive away r...  1945  \n",
       "52  in every club there is a club bore. the corona...  1948  \n",
       "53  . one the letter it was in june of 1935 that i...  1936  \n",
       "54  foreword by agatha christie this book of chris...  1960  \n",
       "55   the unexpected guest i have met people who en...  1927  \n",
       "56  foreword there are certain clichés belonging t...  1942  \n",
       "57  the afternoon of the 9th of september was exac...  1963  \n",
       "58   the listerdale mystery “the listerdale myster...  1971  \n",
       "59   the edge “the edge” was first published in pe...  1997  \n",
       "60   at six thirteen a.m. on a friday morning lucy...  1946  \n",
       "61  other works copyright foreword hercule poirot’...  1947  \n",
       "62  nadina, the russian dancer who had taken paris...  1924  \n",
       "63   i miss jane marple was sitting by her window....  2011  \n",
       "64   i when at last i was taken out of the plaster...  1942  \n",
       "65   it is difficult to know quite where to begin ...  1930  \n",
       "66   a fellow traveller i believe that a well-know...  1923  \n",
       "67  the mysterious affair at styles: an introducti...  1920  \n",
       "68   the coming of mr. quin “the coming of mr. qui...  1930  \n",
       "69  other works copyright one the man with the whi...  1928  \n",
       "70   mark easterbrook’s narrative i the espresso m...  1961  \n",
       "71  it was 2 p.m. on the afternoon of may 7th, 191...  1922  \n",
       "72   anthony cade signs on “gentleman joe!” “why, ...  1925  \n",
       "73  introduction by val mcdermid things that every...  1929  \n",
       "74   sittaford house major burnaby drew on his gum...  1931  \n",
       "75  chapter 1 the tuesday night club ‘unsolved mys...  1932  \n",
       "76   the under dog “the under dog” was first publi...  1951  \n",
       "77   the witness for the prosecution “the witness ...  1948  \n",
       "78  footnote section one i captain crosbie came ou...  1951  \n",
       "79   mrs. van rydock moved a little back from the ...  1952  \n",
       "80   hercule poirot was sitting at the breakfast t...  1966  \n",
       "81  directed by sir charles cartwright assistant d...  1934  \n",
       "82   three blind mice it was very cold. the sky wa...  1950  \n",
       "83  november 19th the group round the fireplace wa...  1944  \n",
       "84   the accident bobby jones teed up his ball, ga...  1934  "
      ]
     },
     "execution_count": 19,
     "metadata": {},
     "output_type": "execute_result"
    }
   ],
   "source": [
    "pd.set_option('display.max_rows', 95)\n",
    "df"
   ]
  },
  {
   "cell_type": "code",
   "execution_count": 20,
   "metadata": {},
   "outputs": [
    {
     "data": {
      "text/html": [
       "<div>\n",
       "<style scoped>\n",
       "    .dataframe tbody tr th:only-of-type {\n",
       "        vertical-align: middle;\n",
       "    }\n",
       "\n",
       "    .dataframe tbody tr th {\n",
       "        vertical-align: top;\n",
       "    }\n",
       "\n",
       "    .dataframe thead th {\n",
       "        text-align: right;\n",
       "    }\n",
       "</style>\n",
       "<table border=\"1\" class=\"dataframe\">\n",
       "  <thead>\n",
       "    <tr style=\"text-align: right;\">\n",
       "      <th></th>\n",
       "      <th>title</th>\n",
       "      <th>text</th>\n",
       "      <th>year</th>\n",
       "    </tr>\n",
       "  </thead>\n",
       "  <tbody>\n",
       "    <tr>\n",
       "      <th>6</th>\n",
       "      <td>And Then There Were None</td>\n",
       "      <td>author’s note i had written this book because ...</td>\n",
       "      <td>1939</td>\n",
       "    </tr>\n",
       "  </tbody>\n",
       "</table>\n",
       "</div>"
      ],
      "text/plain": [
       "                      title  \\\n",
       "6  And Then There Were None   \n",
       "\n",
       "                                                text  year  \n",
       "6  author’s note i had written this book because ...  1939  "
      ]
     },
     "execution_count": 20,
     "metadata": {},
     "output_type": "execute_result"
    }
   ],
   "source": [
    "#Original copyright of And Then There Were None is 1939, \n",
    "#this book changed names a lot because they were inappropriate\n",
    "df.loc[6, 'year'] = 1939\n",
    "df[df['title'] == 'And Then There Were None']"
   ]
  },
  {
   "cell_type": "code",
   "execution_count": 21,
   "metadata": {},
   "outputs": [
    {
     "data": {
      "text/html": [
       "<div>\n",
       "<style scoped>\n",
       "    .dataframe tbody tr th:only-of-type {\n",
       "        vertical-align: middle;\n",
       "    }\n",
       "\n",
       "    .dataframe tbody tr th {\n",
       "        vertical-align: top;\n",
       "    }\n",
       "\n",
       "    .dataframe thead th {\n",
       "        text-align: right;\n",
       "    }\n",
       "</style>\n",
       "<table border=\"1\" class=\"dataframe\">\n",
       "  <thead>\n",
       "    <tr style=\"text-align: right;\">\n",
       "      <th></th>\n",
       "      <th>title</th>\n",
       "      <th>text</th>\n",
       "      <th>year</th>\n",
       "    </tr>\n",
       "  </thead>\n",
       "  <tbody>\n",
       "    <tr>\n",
       "      <th>63</th>\n",
       "      <td>The Mirror Crack'd From Side to</td>\n",
       "      <td>i miss jane marple was sitting by her window....</td>\n",
       "      <td>1962</td>\n",
       "    </tr>\n",
       "  </tbody>\n",
       "</table>\n",
       "</div>"
      ],
      "text/plain": [
       "                              title  \\\n",
       "63  The Mirror Crack'd From Side to   \n",
       "\n",
       "                                                 text  year  \n",
       "63   i miss jane marple was sitting by her window....  1962  "
      ]
     },
     "execution_count": 21,
     "metadata": {},
     "output_type": "execute_result"
    }
   ],
   "source": [
    "#original copyright of The Mirror Crack'd From Side to Side is 1962\n",
    "df.loc[63, 'year'] = 1962\n",
    "df[df['title'] == \"The Mirror Crack'd From Side to\"]"
   ]
  },
  {
   "cell_type": "markdown",
   "metadata": {},
   "source": [
    "### Sleeping Murder and Curtain were written in 1940, but published after she passed away. \n",
    "I need to fix the date in the dataframe  \n",
    "source: https://en.wikipedia.org/wiki/Sleeping_Murder\n",
    "source: https://en.wikipedia.org/wiki/Curtain_(novel)"
   ]
  },
  {
   "cell_type": "code",
   "execution_count": 22,
   "metadata": {},
   "outputs": [
    {
     "data": {
      "text/plain": [
       "title                                      Sleeping Murder\n",
       "text      a house gwenda reed stood, shivering a little...\n",
       "year                                                  1976\n",
       "Name: 50, dtype: object"
      ]
     },
     "execution_count": 22,
     "metadata": {},
     "output_type": "execute_result"
    }
   ],
   "source": [
    "df.loc[50]"
   ]
  },
  {
   "cell_type": "code",
   "execution_count": 23,
   "metadata": {},
   "outputs": [
    {
     "data": {
      "text/plain": [
       "title                                              Curtain\n",
       "text      i who is there who has not felt a sudden star...\n",
       "year                                                  1975\n",
       "Name: 14, dtype: object"
      ]
     },
     "execution_count": 23,
     "metadata": {},
     "output_type": "execute_result"
    }
   ],
   "source": [
    "df.loc[14]"
   ]
  },
  {
   "cell_type": "code",
   "execution_count": 24,
   "metadata": {},
   "outputs": [],
   "source": [
    "df.loc[14, 'year'] = 1940\n",
    "df.loc[50, 'year'] = 1940"
   ]
  },
  {
   "cell_type": "code",
   "execution_count": 25,
   "metadata": {},
   "outputs": [
    {
     "data": {
      "text/html": [
       "<div>\n",
       "<style scoped>\n",
       "    .dataframe tbody tr th:only-of-type {\n",
       "        vertical-align: middle;\n",
       "    }\n",
       "\n",
       "    .dataframe tbody tr th {\n",
       "        vertical-align: top;\n",
       "    }\n",
       "\n",
       "    .dataframe thead th {\n",
       "        text-align: right;\n",
       "    }\n",
       "</style>\n",
       "<table border=\"1\" class=\"dataframe\">\n",
       "  <thead>\n",
       "    <tr style=\"text-align: right;\">\n",
       "      <th></th>\n",
       "      <th>title</th>\n",
       "      <th>text</th>\n",
       "      <th>year</th>\n",
       "    </tr>\n",
       "  </thead>\n",
       "  <tbody>\n",
       "    <tr>\n",
       "      <th>5</th>\n",
       "      <td>An Autobiography</td>\n",
       "      <td>s’ society and i had read their periodical. i ...</td>\n",
       "      <td>1977</td>\n",
       "    </tr>\n",
       "    <tr>\n",
       "      <th>9</th>\n",
       "      <td>Black Coffee</td>\n",
       "      <td>foreword it was almost certainly because of he...</td>\n",
       "      <td>1997</td>\n",
       "    </tr>\n",
       "    <tr>\n",
       "      <th>31</th>\n",
       "      <td>Miss Marple's Final Cases</td>\n",
       "      <td>sanctuary i the vicar’s wife came round the co...</td>\n",
       "      <td>1979</td>\n",
       "    </tr>\n",
       "    <tr>\n",
       "      <th>32</th>\n",
       "      <td>Miss Marple</td>\n",
       "      <td>author’s foreword to the thirteen problems the...</td>\n",
       "      <td>2011</td>\n",
       "    </tr>\n",
       "    <tr>\n",
       "      <th>59</th>\n",
       "      <td>The Harlequin Tea Set and Other</td>\n",
       "      <td>the edge “the edge” was first published in pe...</td>\n",
       "      <td>1997</td>\n",
       "    </tr>\n",
       "  </tbody>\n",
       "</table>\n",
       "</div>"
      ],
      "text/plain": [
       "                              title  \\\n",
       "5                  An Autobiography   \n",
       "9                      Black Coffee   \n",
       "31        Miss Marple's Final Cases   \n",
       "32                      Miss Marple   \n",
       "59  The Harlequin Tea Set and Other   \n",
       "\n",
       "                                                 text  year  \n",
       "5   s’ society and i had read their periodical. i ...  1977  \n",
       "9   foreword it was almost certainly because of he...  1997  \n",
       "31  sanctuary i the vicar’s wife came round the co...  1979  \n",
       "32  author’s foreword to the thirteen problems the...  2011  \n",
       "59   the edge “the edge” was first published in pe...  1997  "
      ]
     },
     "execution_count": 25,
     "metadata": {},
     "output_type": "execute_result"
    }
   ],
   "source": [
    "# Drop books that were published after she passed away (1976)\n",
    "# I will use her autobiography later, and all the books that were published posthumously \n",
    "# were short stories or novelizations of her plays written by another author\n",
    "df[df['year'] > 1976]"
   ]
  },
  {
   "cell_type": "code",
   "execution_count": 26,
   "metadata": {},
   "outputs": [],
   "source": [
    "df = df[df['year'] <= 1976].reset_index(drop=True)"
   ]
  },
  {
   "cell_type": "code",
   "execution_count": 27,
   "metadata": {},
   "outputs": [
    {
     "data": {
      "text/plain": [
       "['Double Sin and Other Stories',\n",
       " \"Hercule Poirot's Christmas\",\n",
       " 'Hercule Poirot',\n",
       " 'Poirot Investigates',\n",
       " \"Poirot's Early Cases\",\n",
       " 'The Golden Ball and Other Stori',\n",
       " 'The Under Dog and Other Stories',\n",
       " 'Three Blind Mice and Other Stor']"
      ]
     },
     "execution_count": 27,
     "metadata": {},
     "output_type": "execute_result"
    }
   ],
   "source": [
    "#drop the short stories collections:\n",
    "stories_list = df[df['title'].str.lower().str.contains('and other s|poirot|miss marple')]['title'].to_list()\n",
    "stories_list"
   ]
  },
  {
   "cell_type": "code",
   "execution_count": 28,
   "metadata": {},
   "outputs": [],
   "source": [
    "for row in range(len(df)):\n",
    "    if df.loc[row]['title'] in stories_list:\n",
    "        df.drop(row, inplace=True)"
   ]
  },
  {
   "cell_type": "code",
   "execution_count": 29,
   "metadata": {
    "scrolled": false
   },
   "outputs": [],
   "source": [
    "df = df.reset_index(drop=True)"
   ]
  },
  {
   "cell_type": "code",
   "execution_count": 30,
   "metadata": {
    "scrolled": false
   },
   "outputs": [],
   "source": [
    "more_stories = ['The Adventure of the Christmas', \n",
    "                'The Hound of Death', \n",
    "                'The Listerdale Mystery',\n",
    "                'The Mysterious Mr. Quin',\n",
    "                'Parker Pyne Investigates',\n",
    "                'Partners in Crime',\n",
    "                'Murder in the Mews',\n",
    "                'The Labours of Hercules',\n",
    "                'The Witness for the Prosecution',\n",
    "                'The Thirteen Problems',\n",
    "                'Problem at Pollensa Bay']"
   ]
  },
  {
   "cell_type": "code",
   "execution_count": 31,
   "metadata": {},
   "outputs": [],
   "source": [
    "for row in range(len(df)):\n",
    "    if df.loc[row]['title'] in more_stories:\n",
    "        df.drop(row, inplace=True)\n",
    "df = df.reset_index(drop=True)"
   ]
  },
  {
   "cell_type": "code",
   "execution_count": 32,
   "metadata": {},
   "outputs": [],
   "source": [
    "df['sentence_count'] = df['text'].map(lambda x: len(x.split('.')))"
   ]
  },
  {
   "cell_type": "code",
   "execution_count": 33,
   "metadata": {},
   "outputs": [],
   "source": [
    "#get rid of periods and other punctuation\n",
    "df['text'] = df['text'].map(lambda x: ''.join([y for y in list(x.lower()) if y in string.ascii_lowercase + ' -—']))\n",
    "df['text'] = df['text'].map(lambda x: x.replace('-', ' '))\n",
    "df['text'] = df['text'].map(lambda x: x.replace('—', ' '))"
   ]
  },
  {
   "cell_type": "code",
   "execution_count": 34,
   "metadata": {},
   "outputs": [],
   "source": [
    "#save the df for later in case things go awry\n",
    "df.to_csv('./CSVs/books.csv', index=False)"
   ]
  },
  {
   "cell_type": "markdown",
   "metadata": {},
   "source": [
    "### Feature engineering for readability index"
   ]
  },
  {
   "cell_type": "code",
   "execution_count": 35,
   "metadata": {},
   "outputs": [],
   "source": [
    "df['word_count'] = df['text'].map(lambda x: len(x.split(' ')))"
   ]
  },
  {
   "cell_type": "code",
   "execution_count": 36,
   "metadata": {},
   "outputs": [],
   "source": [
    "#source: https://stackoverflow.com/questions/46759492/syllable-count-in-python\n",
    "\n",
    "def syllables_count(sentence):\n",
    "    count = 0\n",
    "    for word in sentence:\n",
    "        word = word.lower()\n",
    "        vowels = \"aeiouy\"\n",
    "        if word[0] in vowels:\n",
    "            count += 1\n",
    "        for index in range(1, len(word)):\n",
    "            if word[index] in vowels and word[index - 1] not in vowels:\n",
    "                count += 1\n",
    "        if word.endswith(\"e\"):\n",
    "            count -= 1\n",
    "        if count == 0:\n",
    "            count += 1\n",
    "    return count\n",
    "\n",
    "df['syllable_count'] = df['text'].map(lambda x: syllables_count(x.split()))"
   ]
  },
  {
   "cell_type": "markdown",
   "metadata": {},
   "source": [
    "### Calculating the Flesch Reading Ease:\n",
    "\n",
    "![](./assets/flesch_reading_ease.png)"
   ]
  },
  {
   "cell_type": "code",
   "execution_count": 37,
   "metadata": {},
   "outputs": [],
   "source": [
    "df['flesch_reading_ease'] = 206.835 - (1.015* (df['word_count']/df['sentence_count'])) -(84.6*(df['syllable_count']/df['word_count']))"
   ]
  },
  {
   "cell_type": "code",
   "execution_count": 38,
   "metadata": {},
   "outputs": [],
   "source": [
    "df['avg_words_per_sentence'] = df['word_count']/df['sentence_count']"
   ]
  },
  {
   "cell_type": "code",
   "execution_count": 39,
   "metadata": {},
   "outputs": [],
   "source": [
    "df['avg_syllables_per_word'] = df['syllable_count']/df['word_count']"
   ]
  },
  {
   "cell_type": "markdown",
   "metadata": {},
   "source": [
    "### Feature engineering for parts of speech tagging\n",
    "The authors didn't mention stemming, but I'm going to do it"
   ]
  },
  {
   "cell_type": "code",
   "execution_count": 40,
   "metadata": {},
   "outputs": [],
   "source": [
    "tok = WordPunctTokenizer()\n",
    "stemmer = PorterStemmer()"
   ]
  },
  {
   "cell_type": "code",
   "execution_count": 41,
   "metadata": {},
   "outputs": [],
   "source": [
    "df['stemmed_text'] = df['text'].map(lambda x: stemmer.stem(x))"
   ]
  },
  {
   "cell_type": "code",
   "execution_count": 42,
   "metadata": {},
   "outputs": [],
   "source": [
    "df['unique_word_count'] = df['stemmed_text'].map(lambda x: len(set(x.split(' '))))"
   ]
  },
  {
   "cell_type": "code",
   "execution_count": 43,
   "metadata": {},
   "outputs": [],
   "source": [
    "df['unique_words_%'] = 100*(df['unique_word_count']/df['word_count'])"
   ]
  },
  {
   "cell_type": "code",
   "execution_count": 44,
   "metadata": {},
   "outputs": [],
   "source": [
    "def get_adj_words(df):\n",
    "    #making a column with a list of all the adjectives in the text\n",
    "    adj_word_list = []\n",
    "    for i in range(len(df)):\n",
    "        d = {}\n",
    "        adj_words = '' \n",
    "        adj_counter = 0\n",
    "        tagged_words = pos_tag(tok.tokenize(df.loc[i]['stemmed_text']))\n",
    "        for j in range(len(tagged_words)):\n",
    "            if tagged_words[j][1] in ['JJ', 'JJR', 'JJS']:\n",
    "                adj_words = adj_words + tagged_words[j][0] + ' '\n",
    "                adj_counter += 1\n",
    "        d['adj_word_list'] = adj_words\n",
    "        d['total_adj_count'] = adj_counter\n",
    "        adj_word_list.append(d)\n",
    "        gc.collect()\n",
    "        \n",
    "    adj_words_df = pd.DataFrame(adj_word_list)\n",
    "    df = pd.concat([df, adj_words_df], axis=1)\n",
    "    df['unique_adj_count'] = df['adj_word_list'].map(lambda x: len(set(x.split())))\n",
    "    df = df.drop(['adj_word_list'], axis=1)\n",
    "\n",
    "    return df"
   ]
  },
  {
   "cell_type": "code",
   "execution_count": 45,
   "metadata": {},
   "outputs": [],
   "source": [
    "def get_noun_words(df):\n",
    "    #making a column with a list of all the nouns in the text\n",
    "    nouns_word_list = []\n",
    "    for i in range(len(df)):\n",
    "        d = {}\n",
    "        noun_counter = 0\n",
    "        noun_words = ''    \n",
    "        tagged_words = pos_tag(tok.tokenize(df.loc[i]['stemmed_text']))\n",
    "        for j in range(len(tagged_words)):\n",
    "            if tagged_words[j][1] in ['NN', 'NNS', 'NNP', 'NNPS']:\n",
    "                noun_words = noun_words + tagged_words[j][0] + ' '\n",
    "                noun_counter += 1\n",
    "        d['noun_word_list'] = noun_words\n",
    "        d['total_noun_count'] = noun_counter\n",
    "        nouns_word_list.append(d)\n",
    "        gc.collect()\n",
    "        \n",
    "    noun_word_df = pd.DataFrame(nouns_word_list)\n",
    "    df = pd.concat([df, noun_word_df], axis=1)\n",
    "    df['unique_noun_count'] = df['noun_word_list'].map(lambda x: len(set(x.split())))\n",
    "    df = df.drop(['noun_word_list'], axis=1)\n",
    "    return df"
   ]
  },
  {
   "cell_type": "code",
   "execution_count": 46,
   "metadata": {},
   "outputs": [],
   "source": [
    "df = get_adj_words(df)\n",
    "df = get_noun_words(df)"
   ]
  },
  {
   "cell_type": "markdown",
   "metadata": {},
   "source": [
    "### Feature engineering for trigrams and indefinite words"
   ]
  },
  {
   "cell_type": "code",
   "execution_count": 47,
   "metadata": {},
   "outputs": [],
   "source": [
    "#I need to rename the columns because count vectorizer end up making columns with the same names\n",
    "#since some of my column names are one word long\n",
    "new_column_names = {'title' : 'book_title', 'text': 'book_text', 'year': 'year_written'}\n",
    "df = df.rename(columns = new_column_names)"
   ]
  },
  {
   "cell_type": "markdown",
   "metadata": {},
   "source": [
    "### Indefinite word usage and other vague words:"
   ]
  },
  {
   "cell_type": "code",
   "execution_count": 48,
   "metadata": {
    "scrolled": true
   },
   "outputs": [],
   "source": [
    "def word_counter(df, word_interest):\n",
    "    cv = CountVectorizer()\n",
    "    df2 = pd.DataFrame(cv.fit_transform(df['book_text']).todense(), columns=cv.get_feature_names())\n",
    "\n",
    "    text_and_counts = df2[word_interest]\n",
    "    text_and_counts.columns = [f'{word_interest}_count']\n",
    "    \n",
    "    df = pd.concat([df, text_and_counts], axis=1)\n",
    "    df[f'%_{word_interest}'] = df[f'{word_interest}']/df['word_count']\n",
    "    gc.collect()\n",
    "    \n",
    "    return df"
   ]
  },
  {
   "cell_type": "code",
   "execution_count": 49,
   "metadata": {},
   "outputs": [],
   "source": [
    "#indefinite words from the paper\n",
    "df = word_counter(df, 'thing')\n",
    "df = word_counter(df, 'something')\n",
    "df = word_counter(df, 'anything')"
   ]
  },
  {
   "cell_type": "code",
   "execution_count": 50,
   "metadata": {},
   "outputs": [],
   "source": [
    "#other vague words\n",
    "df = word_counter(df, 'stuff')\n",
    "df = word_counter(df, 'lot')\n",
    "df = word_counter(df, 'very')"
   ]
  },
  {
   "cell_type": "code",
   "execution_count": 51,
   "metadata": {},
   "outputs": [],
   "source": [
    "def count_trigrams(df):\n",
    "    cv_3 = CountVectorizer(ngram_range=(3, 3))\n",
    "    trigrams = pd.DataFrame(cv_3.fit_transform(df['book_text']).todense(), columns=cv_3.get_feature_names())\n",
    "    \n",
    "    tri = []\n",
    "    for x in range(len(trigrams)):  \n",
    "        t = {}\n",
    "        t['repeated_trigrams'] = sum(trigrams.iloc[x] > 1)\n",
    "        tri.append(t)\n",
    "        gc.collect()\n",
    "    \n",
    "    trigram_df = pd.DataFrame(tri)\n",
    "    df = pd.concat([df, trigram_df], axis=1 )\n",
    "    return df"
   ]
  },
  {
   "cell_type": "code",
   "execution_count": 52,
   "metadata": {
    "scrolled": false
   },
   "outputs": [],
   "source": [
    "df = count_trigrams(df)"
   ]
  },
  {
   "cell_type": "markdown",
   "metadata": {},
   "source": [
    "### Sentiment analysis\n",
    "\n",
    "I get the sentiment of each sentence in a book, and then add the number of positive, neutral, negative sentences up.  \n",
    "I determine sentence length of each text by dividing the book text by the average words per sentence."
   ]
  },
  {
   "cell_type": "code",
   "execution_count": 53,
   "metadata": {},
   "outputs": [],
   "source": [
    "sentiment_analyzer = SentimentIntensityAnalyzer()"
   ]
  },
  {
   "cell_type": "code",
   "execution_count": 54,
   "metadata": {},
   "outputs": [],
   "source": [
    "def get_sentiment(df):\n",
    "    overall_scores = []\n",
    "    for i in range(len(df)): \n",
    "        #this part splits the long string of text into words, \n",
    "        #then it divides the text length (in words) by the average word per sentence\n",
    "        split_strings = []\n",
    "        for index in range(0, len(df.loc[i]['book_text'].split(' ')), int(df.loc[i]['avg_words_per_sentence'])):\n",
    "            split_strings.append(' '.join(df.loc[i]['book_text'].split(' ')[index : index + int(df.loc[i]['avg_words_per_sentence'])]))\n",
    "\n",
    "        pos = 0\n",
    "        neu = 0\n",
    "        neg = 0\n",
    "\n",
    "        #this part iterates through the split up sentences and does sentiment analysis on each split up sentence\n",
    "        sentiment_dict = {}\n",
    "        for n in split_strings:\n",
    "            score = sentiment_analyzer.polarity_scores(n)\n",
    "            if score['compound'] > 0:\n",
    "                pos +=1\n",
    "            elif score['compound'] < 0:\n",
    "                neg +=1\n",
    "            else:\n",
    "                neu +=1\n",
    "\n",
    "            sentiment_dict['total_pos_sentences'] = pos\n",
    "            sentiment_dict['total_neu_sentences'] = neu\n",
    "            sentiment_dict['total_neg_sentences'] = neg\n",
    "\n",
    "        overall_scores.append(sentiment_dict)\n",
    "    text_sentiment = pd.DataFrame(overall_scores)\n",
    "    df = pd.concat([df, text_sentiment], axis=1)\n",
    "    return df"
   ]
  },
  {
   "cell_type": "code",
   "execution_count": 55,
   "metadata": {},
   "outputs": [],
   "source": [
    "df = get_sentiment(df)"
   ]
  },
  {
   "cell_type": "code",
   "execution_count": 56,
   "metadata": {},
   "outputs": [],
   "source": [
    "df['%_pos_sentences'] = df['total_pos_sentences']/df['sentence_count']\n",
    "df['%_neu_sentences'] = df['total_neu_sentences']/df['sentence_count']\n",
    "df['%_neg_sentences'] = df['total_neg_sentences']/df['sentence_count']"
   ]
  },
  {
   "cell_type": "markdown",
   "metadata": {},
   "source": [
    "### See if her usage of  stopwords in general increased"
   ]
  },
  {
   "cell_type": "code",
   "execution_count": 57,
   "metadata": {},
   "outputs": [],
   "source": [
    "sw = stopwords.words(\"english\")"
   ]
  },
  {
   "cell_type": "code",
   "execution_count": 58,
   "metadata": {},
   "outputs": [],
   "source": [
    "df['stemmed_removed_stopwords'] = df['stemmed_text'].map(lambda x: ' '.join([y for y in x.split() if y not in sw]))\n",
    "df['only_stopwords'] = df['stemmed_text'].map(lambda x: ' '.join([y for y in x.split() if y in sw]))"
   ]
  },
  {
   "cell_type": "code",
   "execution_count": 59,
   "metadata": {},
   "outputs": [],
   "source": [
    "df['stopwords_count'] = df['only_stopwords'].map(lambda x: len(x.split()))\n",
    "df['%_stop_words'] = (df['stopwords_count'])/df['word_count']"
   ]
  },
  {
   "cell_type": "code",
   "execution_count": 60,
   "metadata": {},
   "outputs": [
    {
     "data": {
      "text/plain": [
       "Index(['book_title', 'book_text', 'year_written', 'sentence_count',\n",
       "       'word_count', 'syllable_count', 'flesch_reading_ease',\n",
       "       'avg_words_per_sentence', 'avg_syllables_per_word', 'stemmed_text',\n",
       "       'unique_word_count', 'unique_words_%', 'total_adj_count',\n",
       "       'unique_adj_count', 'total_noun_count', 'unique_noun_count', 'thing',\n",
       "       '%_thing', 'something', '%_something', 'anything', '%_anything',\n",
       "       'stuff', '%_stuff', 'lot', '%_lot', 'very', '%_very',\n",
       "       'repeated_trigrams', 'total_pos_sentences', 'total_neu_sentences',\n",
       "       'total_neg_sentences', '%_pos_sentences', '%_neu_sentences',\n",
       "       '%_neg_sentences', 'stemmed_removed_stopwords', 'only_stopwords',\n",
       "       'stopwords_count', '%_stop_words'],\n",
       "      dtype='object')"
      ]
     },
     "execution_count": 60,
     "metadata": {},
     "output_type": "execute_result"
    }
   ],
   "source": [
    "df.columns"
   ]
  },
  {
   "cell_type": "markdown",
   "metadata": {},
   "source": [
    "### Make sure the features that I am going to use are normalized"
   ]
  },
  {
   "cell_type": "code",
   "execution_count": 61,
   "metadata": {},
   "outputs": [],
   "source": [
    "df['%_repeated_trigrams'] = df['repeated_trigrams']/(df['word_count']/3)\n",
    "df['%_unique_adj'] = df['unique_adj_count']/df['total_adj_count']\n",
    "df['%_unique_noun'] = df['unique_noun_count']/df['total_noun_count']\n",
    "df['%_adj_in_text'] = df['total_adj_count']/df['word_count']\n",
    "df['%_noun_in_text'] = df['total_noun_count']/df['word_count']"
   ]
  },
  {
   "cell_type": "markdown",
   "metadata": {},
   "source": [
    "### I think it's mostly clean now!"
   ]
  },
  {
   "cell_type": "code",
   "execution_count": 62,
   "metadata": {},
   "outputs": [],
   "source": [
    "df['year_written'] = df['year_written'].astype(int)\n",
    "df = df.sort_values(by='year_written').reset_index(drop=True)"
   ]
  },
  {
   "cell_type": "code",
   "execution_count": 63,
   "metadata": {},
   "outputs": [],
   "source": [
    "df.to_csv('./CSVs/all_clean.csv', index=False)"
   ]
  },
  {
   "cell_type": "markdown",
   "metadata": {},
   "source": [
    "### Clean up one of the short story collections to test my model on"
   ]
  },
  {
   "cell_type": "code",
   "execution_count": 64,
   "metadata": {},
   "outputs": [],
   "source": [
    "harlequin = pd.read_csv('./TXT/The Harlequin Tea Set and Other - Agatha Christie.txt', sep='\\n', header=None)[0].str.cat(sep=' ')"
   ]
  },
  {
   "cell_type": "code",
   "execution_count": 65,
   "metadata": {},
   "outputs": [],
   "source": [
    "#list of short stories in the harlequin tea set\n",
    "short_stories = ['The Edge', \n",
    "                 'The Actress', \n",
    "                 'While the Light Lasts', \n",
    "                 'The House of Dreams', \n",
    "                 'The Lonely God',\n",
    "                 'Manx Gold',\n",
    "                 'Within a Wall', \n",
    "                 'The Mystery of the Spanish Chest', \n",
    "                 'The Harlequin Tea Set']\n",
    "\n",
    "#make them all caps\n",
    "short_stories = [x.upper() for x in short_stories]"
   ]
  },
  {
   "cell_type": "code",
   "execution_count": 66,
   "metadata": {},
   "outputs": [
    {
     "data": {
      "text/plain": [
       "['THE EDGE',\n",
       " 'THE ACTRESS',\n",
       " 'WHILE THE LIGHT LASTS',\n",
       " 'THE HOUSE OF DREAMS',\n",
       " 'THE LONELY GOD',\n",
       " 'MANX GOLD',\n",
       " 'WITHIN A WALL',\n",
       " 'THE MYSTERY OF THE SPANISH CHEST',\n",
       " 'THE HARLEQUIN TEA SET']"
      ]
     },
     "execution_count": 66,
     "metadata": {},
     "output_type": "execute_result"
    }
   ],
   "source": [
    "short_stories"
   ]
  },
  {
   "cell_type": "code",
   "execution_count": 67,
   "metadata": {},
   "outputs": [],
   "source": [
    "stories = []\n",
    "for story in range(len(short_stories)-1):\n",
    "    s = {}\n",
    "    s['title'] = short_stories[story]\n",
    "    s['text'] = harlequin.split(short_stories[story])[1].split(short_stories[story+1])[0]\n",
    "    stories.append(s)"
   ]
  },
  {
   "cell_type": "code",
   "execution_count": 68,
   "metadata": {},
   "outputs": [
    {
     "data": {
      "text/html": [
       "<div>\n",
       "<style scoped>\n",
       "    .dataframe tbody tr th:only-of-type {\n",
       "        vertical-align: middle;\n",
       "    }\n",
       "\n",
       "    .dataframe tbody tr th {\n",
       "        vertical-align: top;\n",
       "    }\n",
       "\n",
       "    .dataframe thead th {\n",
       "        text-align: right;\n",
       "    }\n",
       "</style>\n",
       "<table border=\"1\" class=\"dataframe\">\n",
       "  <thead>\n",
       "    <tr style=\"text-align: right;\">\n",
       "      <th></th>\n",
       "      <th>title</th>\n",
       "      <th>text</th>\n",
       "    </tr>\n",
       "  </thead>\n",
       "  <tbody>\n",
       "    <tr>\n",
       "      <th>0</th>\n",
       "      <td>THE EDGE</td>\n",
       "      <td>“The Edge” was first published in Pearson’s M...</td>\n",
       "    </tr>\n",
       "    <tr>\n",
       "      <th>1</th>\n",
       "      <td>THE ACTRESS</td>\n",
       "      <td>“The Actress” was first published as “A Trap ...</td>\n",
       "    </tr>\n",
       "    <tr>\n",
       "      <th>2</th>\n",
       "      <td>WHILE THE LIGHT LASTS</td>\n",
       "      <td>“While the Light Lasts” was first published i...</td>\n",
       "    </tr>\n",
       "    <tr>\n",
       "      <th>3</th>\n",
       "      <td>THE HOUSE OF DREAMS</td>\n",
       "      <td>“The House of Dreams” was first published in ...</td>\n",
       "    </tr>\n",
       "    <tr>\n",
       "      <th>4</th>\n",
       "      <td>THE LONELY GOD</td>\n",
       "      <td>“The Lonely God” was first published in Royal...</td>\n",
       "    </tr>\n",
       "    <tr>\n",
       "      <th>5</th>\n",
       "      <td>MANX GOLD</td>\n",
       "      <td>“Manx Gold” was first published in The Daily ...</td>\n",
       "    </tr>\n",
       "    <tr>\n",
       "      <th>6</th>\n",
       "      <td>WITHIN A WALL</td>\n",
       "      <td>“Within a Wall” was first published in Royal ...</td>\n",
       "    </tr>\n",
       "    <tr>\n",
       "      <th>7</th>\n",
       "      <td>THE MYSTERY OF THE SPANISH CHEST</td>\n",
       "      <td>“The Mystery of the Spanish Chest” is an expa...</td>\n",
       "    </tr>\n",
       "    <tr>\n",
       "      <th>8</th>\n",
       "      <td>THE HARLEQUIN TEA SET</td>\n",
       "      <td>“The Harlequin Tea Set” was first published i...</td>\n",
       "    </tr>\n",
       "  </tbody>\n",
       "</table>\n",
       "</div>"
      ],
      "text/plain": [
       "                              title  \\\n",
       "0                          THE EDGE   \n",
       "1                       THE ACTRESS   \n",
       "2             WHILE THE LIGHT LASTS   \n",
       "3               THE HOUSE OF DREAMS   \n",
       "4                    THE LONELY GOD   \n",
       "5                         MANX GOLD   \n",
       "6                     WITHIN A WALL   \n",
       "7  THE MYSTERY OF THE SPANISH CHEST   \n",
       "8             THE HARLEQUIN TEA SET   \n",
       "\n",
       "                                                text  \n",
       "0   “The Edge” was first published in Pearson’s M...  \n",
       "1   “The Actress” was first published as “A Trap ...  \n",
       "2   “While the Light Lasts” was first published i...  \n",
       "3   “The House of Dreams” was first published in ...  \n",
       "4   “The Lonely God” was first published in Royal...  \n",
       "5   “Manx Gold” was first published in The Daily ...  \n",
       "6   “Within a Wall” was first published in Royal ...  \n",
       "7   “The Mystery of the Spanish Chest” is an expa...  \n",
       "8   “The Harlequin Tea Set” was first published i...  "
      ]
     },
     "execution_count": 68,
     "metadata": {},
     "output_type": "execute_result"
    }
   ],
   "source": [
    "last = harlequin.split('THE HARLEQUIN TEA SET')[1].split('About the Author')[0]\n",
    "\n",
    "s = {}\n",
    "s['title'] = 'THE HARLEQUIN TEA SET'\n",
    "s['text'] = last\n",
    "\n",
    "stories.append(s)\n",
    "\n",
    "stories_df = pd.DataFrame(stories)\n",
    "stories_df"
   ]
  },
  {
   "cell_type": "code",
   "execution_count": 69,
   "metadata": {},
   "outputs": [
    {
     "data": {
      "text/html": [
       "<div>\n",
       "<style scoped>\n",
       "    .dataframe tbody tr th:only-of-type {\n",
       "        vertical-align: middle;\n",
       "    }\n",
       "\n",
       "    .dataframe tbody tr th {\n",
       "        vertical-align: top;\n",
       "    }\n",
       "\n",
       "    .dataframe thead th {\n",
       "        text-align: right;\n",
       "    }\n",
       "</style>\n",
       "<table border=\"1\" class=\"dataframe\">\n",
       "  <thead>\n",
       "    <tr style=\"text-align: right;\">\n",
       "      <th></th>\n",
       "      <th>title</th>\n",
       "      <th>text</th>\n",
       "      <th>year</th>\n",
       "    </tr>\n",
       "  </thead>\n",
       "  <tbody>\n",
       "    <tr>\n",
       "      <th>0</th>\n",
       "      <td>THE EDGE</td>\n",
       "      <td>“The Edge” was first published in Pearson’s M...</td>\n",
       "      <td>1927</td>\n",
       "    </tr>\n",
       "    <tr>\n",
       "      <th>1</th>\n",
       "      <td>THE ACTRESS</td>\n",
       "      <td>“The Actress” was first published as “A Trap ...</td>\n",
       "      <td>1923</td>\n",
       "    </tr>\n",
       "    <tr>\n",
       "      <th>2</th>\n",
       "      <td>WHILE THE LIGHT LASTS</td>\n",
       "      <td>“While the Light Lasts” was first published i...</td>\n",
       "      <td>1924</td>\n",
       "    </tr>\n",
       "    <tr>\n",
       "      <th>3</th>\n",
       "      <td>THE HOUSE OF DREAMS</td>\n",
       "      <td>“The House of Dreams” was first published in ...</td>\n",
       "      <td>1926</td>\n",
       "    </tr>\n",
       "    <tr>\n",
       "      <th>4</th>\n",
       "      <td>THE LONELY GOD</td>\n",
       "      <td>“The Lonely God” was first published in Royal...</td>\n",
       "      <td>1926</td>\n",
       "    </tr>\n",
       "    <tr>\n",
       "      <th>5</th>\n",
       "      <td>MANX GOLD</td>\n",
       "      <td>“Manx Gold” was first published in The Daily ...</td>\n",
       "      <td>23281930</td>\n",
       "    </tr>\n",
       "    <tr>\n",
       "      <th>6</th>\n",
       "      <td>WITHIN A WALL</td>\n",
       "      <td>“Within a Wall” was first published in Royal ...</td>\n",
       "      <td>1925</td>\n",
       "    </tr>\n",
       "    <tr>\n",
       "      <th>7</th>\n",
       "      <td>THE MYSTERY OF THE SPANISH CHEST</td>\n",
       "      <td>“The Mystery of the Spanish Chest” is an expa...</td>\n",
       "      <td>1932</td>\n",
       "    </tr>\n",
       "    <tr>\n",
       "      <th>8</th>\n",
       "      <td>THE HARLEQUIN TEA SET</td>\n",
       "      <td>“The Harlequin Tea Set” was first published i...</td>\n",
       "      <td>1971</td>\n",
       "    </tr>\n",
       "  </tbody>\n",
       "</table>\n",
       "</div>"
      ],
      "text/plain": [
       "                              title  \\\n",
       "0                          THE EDGE   \n",
       "1                       THE ACTRESS   \n",
       "2             WHILE THE LIGHT LASTS   \n",
       "3               THE HOUSE OF DREAMS   \n",
       "4                    THE LONELY GOD   \n",
       "5                         MANX GOLD   \n",
       "6                     WITHIN A WALL   \n",
       "7  THE MYSTERY OF THE SPANISH CHEST   \n",
       "8             THE HARLEQUIN TEA SET   \n",
       "\n",
       "                                                text      year  \n",
       "0   “The Edge” was first published in Pearson’s M...      1927  \n",
       "1   “The Actress” was first published as “A Trap ...      1923  \n",
       "2   “While the Light Lasts” was first published i...      1924  \n",
       "3   “The House of Dreams” was first published in ...      1926  \n",
       "4   “The Lonely God” was first published in Royal...      1926  \n",
       "5   “Manx Gold” was first published in The Daily ...  23281930  \n",
       "6   “Within a Wall” was first published in Royal ...      1925  \n",
       "7   “The Mystery of the Spanish Chest” is an expa...      1932  \n",
       "8   “The Harlequin Tea Set” was first published i...      1971  "
      ]
     },
     "execution_count": 69,
     "metadata": {},
     "output_type": "execute_result"
    }
   ],
   "source": [
    "#split out first sentence, then only save the numbers\n",
    "stories_df['year'] = stories_df['text'].map(lambda x: x.split('.')[0]).map(lambda x: ''.join([y for y in list(x) if y in '0123456789']))\n",
    "stories_df"
   ]
  },
  {
   "cell_type": "code",
   "execution_count": 70,
   "metadata": {},
   "outputs": [
    {
     "data": {
      "text/html": [
       "<div>\n",
       "<style scoped>\n",
       "    .dataframe tbody tr th:only-of-type {\n",
       "        vertical-align: middle;\n",
       "    }\n",
       "\n",
       "    .dataframe tbody tr th {\n",
       "        vertical-align: top;\n",
       "    }\n",
       "\n",
       "    .dataframe thead th {\n",
       "        text-align: right;\n",
       "    }\n",
       "</style>\n",
       "<table border=\"1\" class=\"dataframe\">\n",
       "  <thead>\n",
       "    <tr style=\"text-align: right;\">\n",
       "      <th></th>\n",
       "      <th>title</th>\n",
       "      <th>text</th>\n",
       "      <th>year</th>\n",
       "    </tr>\n",
       "  </thead>\n",
       "  <tbody>\n",
       "    <tr>\n",
       "      <th>0</th>\n",
       "      <td>THE EDGE</td>\n",
       "      <td>“The Edge” was first published in Pearson’s M...</td>\n",
       "      <td>1927</td>\n",
       "    </tr>\n",
       "    <tr>\n",
       "      <th>1</th>\n",
       "      <td>THE ACTRESS</td>\n",
       "      <td>“The Actress” was first published as “A Trap ...</td>\n",
       "      <td>1923</td>\n",
       "    </tr>\n",
       "    <tr>\n",
       "      <th>2</th>\n",
       "      <td>WHILE THE LIGHT LASTS</td>\n",
       "      <td>“While the Light Lasts” was first published i...</td>\n",
       "      <td>1924</td>\n",
       "    </tr>\n",
       "    <tr>\n",
       "      <th>3</th>\n",
       "      <td>THE HOUSE OF DREAMS</td>\n",
       "      <td>“The House of Dreams” was first published in ...</td>\n",
       "      <td>1926</td>\n",
       "    </tr>\n",
       "    <tr>\n",
       "      <th>4</th>\n",
       "      <td>THE LONELY GOD</td>\n",
       "      <td>“The Lonely God” was first published in Royal...</td>\n",
       "      <td>1926</td>\n",
       "    </tr>\n",
       "    <tr>\n",
       "      <th>5</th>\n",
       "      <td>MANX GOLD</td>\n",
       "      <td>“Manx Gold” was first published in The Daily ...</td>\n",
       "      <td>1930</td>\n",
       "    </tr>\n",
       "    <tr>\n",
       "      <th>6</th>\n",
       "      <td>WITHIN A WALL</td>\n",
       "      <td>“Within a Wall” was first published in Royal ...</td>\n",
       "      <td>1925</td>\n",
       "    </tr>\n",
       "    <tr>\n",
       "      <th>7</th>\n",
       "      <td>THE MYSTERY OF THE SPANISH CHEST</td>\n",
       "      <td>“The Mystery of the Spanish Chest” is an expa...</td>\n",
       "      <td>1932</td>\n",
       "    </tr>\n",
       "    <tr>\n",
       "      <th>8</th>\n",
       "      <td>THE HARLEQUIN TEA SET</td>\n",
       "      <td>“The Harlequin Tea Set” was first published i...</td>\n",
       "      <td>1971</td>\n",
       "    </tr>\n",
       "  </tbody>\n",
       "</table>\n",
       "</div>"
      ],
      "text/plain": [
       "                              title  \\\n",
       "0                          THE EDGE   \n",
       "1                       THE ACTRESS   \n",
       "2             WHILE THE LIGHT LASTS   \n",
       "3               THE HOUSE OF DREAMS   \n",
       "4                    THE LONELY GOD   \n",
       "5                         MANX GOLD   \n",
       "6                     WITHIN A WALL   \n",
       "7  THE MYSTERY OF THE SPANISH CHEST   \n",
       "8             THE HARLEQUIN TEA SET   \n",
       "\n",
       "                                                text  year  \n",
       "0   “The Edge” was first published in Pearson’s M...  1927  \n",
       "1   “The Actress” was first published as “A Trap ...  1923  \n",
       "2   “While the Light Lasts” was first published i...  1924  \n",
       "3   “The House of Dreams” was first published in ...  1926  \n",
       "4   “The Lonely God” was first published in Royal...  1926  \n",
       "5   “Manx Gold” was first published in The Daily ...  1930  \n",
       "6   “Within a Wall” was first published in Royal ...  1925  \n",
       "7   “The Mystery of the Spanish Chest” is an expa...  1932  \n",
       "8   “The Harlequin Tea Set” was first published i...  1971  "
      ]
     },
     "execution_count": 70,
     "metadata": {},
     "output_type": "execute_result"
    }
   ],
   "source": [
    "#fix manx gold:\n",
    "stories_df.loc[5, 'year'] = 1930\n",
    "stories_df"
   ]
  },
  {
   "cell_type": "code",
   "execution_count": 71,
   "metadata": {},
   "outputs": [],
   "source": [
    "#get rid of the first sentence of the text:\n",
    "stories_df['text'] = stories_df['text'].map(lambda x: '.'.join(x.split('.')[1:]))\n",
    "\n",
    "#the last story had 2 sentences:\n",
    "stories_df.loc[8, 'text'] = '.'.join((stories_df['text'][8].split('.')[1:]))"
   ]
  },
  {
   "cell_type": "code",
   "execution_count": 72,
   "metadata": {},
   "outputs": [],
   "source": [
    "stories_df.to_csv('./CSVs/harlequin_df.csv', index=False)"
   ]
  },
  {
   "cell_type": "markdown",
   "metadata": {},
   "source": [
    "### Feature engineering for short stories"
   ]
  },
  {
   "cell_type": "code",
   "execution_count": 73,
   "metadata": {},
   "outputs": [],
   "source": [
    "stories_df['sentence_count'] = stories_df['text'].map(lambda x: len(x.split('.')))\n",
    "\n",
    "#get rid of periods and other punctuation\n",
    "stories_df['text'] = stories_df['text'].map(lambda x: ''.join([y for y in list(x.lower()) if y in string.ascii_lowercase + ' -—']))\n",
    "stories_df['text'] = stories_df['text'].map(lambda x: x.replace('-', ' '))\n",
    "stories_df['text'] = stories_df['text'].map(lambda x: x.replace('—', ' '))"
   ]
  },
  {
   "cell_type": "code",
   "execution_count": 74,
   "metadata": {},
   "outputs": [],
   "source": [
    "stories_df['syllable_count'] = stories_df['text'].map(lambda x: syllables_count(x.split()))"
   ]
  },
  {
   "cell_type": "code",
   "execution_count": 75,
   "metadata": {},
   "outputs": [],
   "source": [
    "stories_df['word_count'] = stories_df['text'].map(lambda x: len(x.split(' ')))"
   ]
  },
  {
   "cell_type": "code",
   "execution_count": 76,
   "metadata": {},
   "outputs": [],
   "source": [
    "stories_df['flesch_reading_ease'] = 206.835 - (1.015* (stories_df['word_count']/stories_df['sentence_count'])) -(84.6*(stories_df['syllable_count']/stories_df['word_count']))"
   ]
  },
  {
   "cell_type": "code",
   "execution_count": 77,
   "metadata": {},
   "outputs": [],
   "source": [
    "stories_df['avg_words_per_sentence'] = stories_df['word_count']/stories_df['sentence_count']"
   ]
  },
  {
   "cell_type": "code",
   "execution_count": 78,
   "metadata": {},
   "outputs": [],
   "source": [
    "stories_df['avg_syllables_per_word'] = stories_df['syllable_count']/stories_df['word_count']"
   ]
  },
  {
   "cell_type": "code",
   "execution_count": 79,
   "metadata": {},
   "outputs": [],
   "source": [
    "stories_df['stemmed_text'] = stories_df['text'].map(lambda x: stemmer.stem(x))"
   ]
  },
  {
   "cell_type": "code",
   "execution_count": 80,
   "metadata": {},
   "outputs": [],
   "source": [
    "stories_df['unique_word_count'] = stories_df['stemmed_text'].map(lambda x: len(set(x.split(' '))))"
   ]
  },
  {
   "cell_type": "code",
   "execution_count": 81,
   "metadata": {},
   "outputs": [],
   "source": [
    "stories_df['unique_words_%'] = 100*(stories_df['unique_word_count']/stories_df['word_count'])"
   ]
  },
  {
   "cell_type": "code",
   "execution_count": 82,
   "metadata": {},
   "outputs": [],
   "source": [
    "stories_df = get_adj_words(stories_df)\n",
    "stories_df = get_noun_words(stories_df)"
   ]
  },
  {
   "cell_type": "code",
   "execution_count": 83,
   "metadata": {},
   "outputs": [],
   "source": [
    "#I need to rename the columns because count vectorizer end up making columns with the same names\n",
    "#since some of my column names are one word long\n",
    "new_column_names = {'title' : 'book_title', 'text': 'book_text', 'year': 'year_written'}\n",
    "stories_df = stories_df.rename(columns = new_column_names)"
   ]
  },
  {
   "cell_type": "code",
   "execution_count": 84,
   "metadata": {},
   "outputs": [],
   "source": [
    "#indefinite words from the paper\n",
    "stories_df = word_counter(stories_df, 'thing')\n",
    "stories_df = word_counter(stories_df, 'something')\n",
    "stories_df = word_counter(stories_df, 'anything')"
   ]
  },
  {
   "cell_type": "code",
   "execution_count": 85,
   "metadata": {},
   "outputs": [],
   "source": [
    "#other vague words\n",
    "stories_df = word_counter(stories_df, 'stuff')\n",
    "stories_df = word_counter(stories_df, 'lot')\n",
    "stories_df = word_counter(stories_df, 'very')"
   ]
  },
  {
   "cell_type": "code",
   "execution_count": 86,
   "metadata": {},
   "outputs": [],
   "source": [
    "stories_df = count_trigrams(stories_df)"
   ]
  },
  {
   "cell_type": "code",
   "execution_count": 87,
   "metadata": {},
   "outputs": [],
   "source": [
    "stories_df = get_sentiment(stories_df)"
   ]
  },
  {
   "cell_type": "code",
   "execution_count": 88,
   "metadata": {},
   "outputs": [],
   "source": [
    "stories_df['%_pos_sentences'] = stories_df['total_pos_sentences']/stories_df['sentence_count']\n",
    "stories_df['%_neu_sentences'] = stories_df['total_neu_sentences']/stories_df['sentence_count']\n",
    "stories_df['%_neg_sentences'] = stories_df['total_neg_sentences']/stories_df['sentence_count']"
   ]
  },
  {
   "cell_type": "markdown",
   "metadata": {},
   "source": [
    "### See if her usage of  stopwords in general increased"
   ]
  },
  {
   "cell_type": "code",
   "execution_count": 89,
   "metadata": {},
   "outputs": [],
   "source": [
    "sw = stopwords.words(\"english\")"
   ]
  },
  {
   "cell_type": "code",
   "execution_count": 90,
   "metadata": {},
   "outputs": [],
   "source": [
    "stories_df['stemmed_removed_stopwords'] = stories_df['stemmed_text'].map(lambda x: ' '.join([y for y in x.split() if y not in sw]))\n",
    "stories_df['only_stopwords'] = stories_df['stemmed_text'].map(lambda x: ' '.join([y for y in x.split() if y in sw]))"
   ]
  },
  {
   "cell_type": "code",
   "execution_count": 91,
   "metadata": {},
   "outputs": [],
   "source": [
    "stories_df['stopwords_count'] = stories_df['only_stopwords'].map(lambda x: len(x.split()))\n",
    "stories_df['%_stop_words'] = (stories_df['stopwords_count'])/stories_df['word_count']"
   ]
  },
  {
   "cell_type": "code",
   "execution_count": 92,
   "metadata": {},
   "outputs": [
    {
     "data": {
      "text/plain": [
       "Index(['book_title', 'book_text', 'year_written', 'sentence_count',\n",
       "       'syllable_count', 'word_count', 'flesch_reading_ease',\n",
       "       'avg_words_per_sentence', 'avg_syllables_per_word', 'stemmed_text',\n",
       "       'unique_word_count', 'unique_words_%', 'total_adj_count',\n",
       "       'unique_adj_count', 'total_noun_count', 'unique_noun_count', 'thing',\n",
       "       '%_thing', 'something', '%_something', 'anything', '%_anything',\n",
       "       'stuff', '%_stuff', 'lot', '%_lot', 'very', '%_very',\n",
       "       'repeated_trigrams', 'total_pos_sentences', 'total_neu_sentences',\n",
       "       'total_neg_sentences', '%_pos_sentences', '%_neu_sentences',\n",
       "       '%_neg_sentences', 'stemmed_removed_stopwords', 'only_stopwords',\n",
       "       'stopwords_count', '%_stop_words'],\n",
       "      dtype='object')"
      ]
     },
     "execution_count": 92,
     "metadata": {},
     "output_type": "execute_result"
    }
   ],
   "source": [
    "stories_df.columns"
   ]
  },
  {
   "cell_type": "markdown",
   "metadata": {},
   "source": [
    "### Make sure the features that I am going to use are normalized"
   ]
  },
  {
   "cell_type": "code",
   "execution_count": 93,
   "metadata": {},
   "outputs": [],
   "source": [
    "stories_df['%_repeated_trigrams'] = stories_df['repeated_trigrams']/(stories_df['word_count']/3)\n",
    "stories_df['%_unique_adj'] = stories_df['unique_adj_count']/stories_df['total_adj_count']\n",
    "stories_df['%_unique_noun'] = stories_df['unique_noun_count']/stories_df['total_noun_count']\n",
    "stories_df['%_adj_in_text'] = stories_df['total_adj_count']/stories_df['word_count']\n",
    "stories_df['%_noun_in_text'] = stories_df['total_noun_count']/stories_df['word_count']"
   ]
  },
  {
   "cell_type": "code",
   "execution_count": 94,
   "metadata": {},
   "outputs": [],
   "source": [
    "stories_df.to_csv('./CSVs/harlequin_clean.csv', index=False)"
   ]
  },
  {
   "cell_type": "code",
   "execution_count": null,
   "metadata": {},
   "outputs": [],
   "source": []
  }
 ],
 "metadata": {
  "kernelspec": {
   "display_name": "Python 3",
   "language": "python",
   "name": "python3"
  },
  "language_info": {
   "codemirror_mode": {
    "name": "ipython",
    "version": 3
   },
   "file_extension": ".py",
   "mimetype": "text/x-python",
   "name": "python",
   "nbconvert_exporter": "python",
   "pygments_lexer": "ipython3",
   "version": "3.8.5"
  }
 },
 "nbformat": 4,
 "nbformat_minor": 4
}
